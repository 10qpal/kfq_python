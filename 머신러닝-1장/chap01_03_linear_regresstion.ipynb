{
 "cells": [
  {
   "cell_type": "code",
   "execution_count": 1,
   "metadata": {},
   "outputs": [],
   "source": [
    "import numpy as np\n",
    "\n",
    "x_data = np.array([1, 2, 3, 4, 5]).reshape(5, 1) # 5행 1열\n",
    "t_data = np.array([2, 3, 4, 5, 6]).reshape(5, 1)\n",
    "# print(\"x_data.shape = \", x_data.shape, \", y_data.shape = \", t_data.shape) # .shape : 차원을 튜플로 리턴"
   ]
  },
  {
   "cell_type": "code",
   "execution_count": 2,
   "metadata": {},
   "outputs": [
    {
     "name": "stdout",
     "output_type": "stream",
     "text": [
      "<class 'numpy.ndarray'>\n",
      "[[1]\n",
      " [2]\n",
      " [3]\n",
      " [4]\n",
      " [5]]\n",
      "[[2]\n",
      " [3]\n",
      " [4]\n",
      " [5]\n",
      " [6]]\n",
      "(5, 1)\n",
      "(5, 1)\n"
     ]
    }
   ],
   "source": [
    "# 데이터가 리스트로 들어온다면\n",
    "raw_data = [[1, 2], [2, 3], [3, 4], [4, 5], [5, 6]]\n",
    "\n",
    "raw_data = np.array(raw_data)\n",
    "print(type(raw_data))\n",
    "print(raw_data[:, :1])\n",
    "print(raw_data[:, -1:])\n",
    "print(raw_data[:, :1].shape)\n",
    "print(raw_data[:, -1:].shape)\n",
    "\n",
    "# raw_data_x = []\n",
    "# raw_data_t = []\n",
    "# for i in range(0, len(raw_data)):\n",
    "#     raw_data_x.append(raw_data[i][0])\n",
    "#     raw_data_t.append(raw_data[i][1])\n",
    "# x_data = np.array(raw_data_x).reshape(5, 1)\n",
    "# t_data = np.array(raw_data_t).reshape(5, 1)"
   ]
  },
  {
   "cell_type": "code",
   "execution_count": 3,
   "metadata": {},
   "outputs": [
    {
     "name": "stdout",
     "output_type": "stream",
     "text": [
      "W =  [[0.20034067]] , W.shape =  (1, 1) , b =  [0.55556988] , b.shape =  (1,)\n",
      "2 1\n"
     ]
    }
   ],
   "source": [
    "W = np.random.rand(1, 1) # 1행 1열\n",
    "b = np.random.rand(1) # 값 하나\n",
    "print(\"W = \", W, \", W.shape = \", W.shape, \", b = \", b, \", b.shape = \", b.shape)\n",
    "print(W.ndim, b.ndim) # 2차원, 1차원\n",
    "\n",
    "# 왜 W를 2차원으로 만들까\n",
    "# W*x가 가능해야 하기 때문에(x : 5행 1열)"
   ]
  },
  {
   "cell_type": "code",
   "execution_count": 4,
   "metadata": {},
   "outputs": [],
   "source": [
    "def loss_func(x, t):\n",
    "    y = np.dot(x, W) + b\n",
    "    return (np.sum((t-y)**2))/(len(x))"
   ]
  },
  {
   "cell_type": "code",
   "execution_count": 5,
   "metadata": {},
   "outputs": [],
   "source": [
    "def numerical_derivative(f, x):\n",
    "    delta_x = 1e-4 # 0.0001(미세하게 변하는 x값)\n",
    "    grad = np.zeros_like(x) # x와 같은 모양을 만듦, 값은 모두 0\n",
    "    \n",
    "    it = np.nditer(x, flags=['multi_index'], op_flags=['readwrite']) # iterator\n",
    "    \n",
    "    while not it.finished:\n",
    "        idx = it.multi_index # 위치값을 가져와서 idx에 저장\n",
    "        tmp_val = x[idx]\n",
    "        x[idx] = float(tmp_val) + delta_x\n",
    "        fx1 = f(x) # f(x + delta_x)\n",
    "        x[idx] = float(tmp_val) - delta_x\n",
    "        fx2 = f(x) # f(x - delta_x)\n",
    "        grad[idx] = (fx1 - fx2) / (2 * delta_x)\n",
    "        \n",
    "        x[idx] = tmp_val\n",
    "        it.iternext()\n",
    "        \n",
    "    return grad"
   ]
  },
  {
   "cell_type": "code",
   "execution_count": 6,
   "metadata": {},
   "outputs": [],
   "source": [
    "# 손실함수 값 계산 함수\n",
    "# 입력변수 x, t : numpy type\n",
    "def error_val(x, t):\n",
    "    y = np.dot(x, W) + b\n",
    "    return (np.sum((t-y)**2))/(len(x))\n",
    "\n",
    "# 학습을 마친 후, 임의의 데이터에 대해 미래 값 예측 함수\n",
    "# 입력변수 x : numpy type\n",
    "def predict(x):\n",
    "    y = np.dot(x, W) + b\n",
    "    return y"
   ]
  },
  {
   "cell_type": "code",
   "execution_count": 7,
   "metadata": {},
   "outputs": [
    {
     "name": "stdout",
     "output_type": "stream",
     "text": [
      "Initial error value =  9.36387978819072 , Initial W =  [[0.20034067]] , Initial b =  [0.55556988]\n",
      "step =  0 , error value =  5.513124331291385 , W =  [[0.40293153]] , b =  [0.60028259]\n",
      "step =  400 , error value =  0.0007575825280827903 , W =  [[1.01787359]] , b =  [0.93548647]\n",
      "step =  800 , error value =  4.833824409900734e-05 , W =  [[1.00451484]] , b =  [0.98370399]\n",
      "step =  1200 , error value =  3.0842657479026947e-06 , W =  [[1.00114044]] , b =  [0.99588366]\n",
      "step =  1600 , error value =  1.9679438881150085e-07 , W =  [[1.00028807]] , b =  [0.99896022]\n",
      "step =  2000 , error value =  1.2556645449213785e-08 , W =  [[1.00007277]] , b =  [0.99973735]\n",
      "step =  2400 , error value =  8.011882142131825e-10 , W =  [[1.00001838]] , b =  [0.99993366]\n",
      "step =  2800 , error value =  5.1120544669990955e-11 , W =  [[1.00000464]] , b =  [0.99998324]\n",
      "step =  3200 , error value =  3.2617929735886187e-12 , W =  [[1.00000117]] , b =  [0.99999577]\n",
      "step =  3600 , error value =  2.0812167563328992e-13 , W =  [[1.0000003]] , b =  [0.99999893]\n",
      "step =  4000 , error value =  1.3279393288739009e-14 , W =  [[1.00000007]] , b =  [0.99999973]\n",
      "step =  4400 , error value =  8.473038001166047e-16 , W =  [[1.00000002]] , b =  [0.99999993]\n",
      "step =  4800 , error value =  5.4062994533805294e-17 , W =  [[1.]] , b =  [0.99999998]\n",
      "step =  5200 , error value =  3.4495385651154003e-18 , W =  [[1.]] , b =  [1.]\n",
      "step =  5600 , error value =  2.2010115447621486e-19 , W =  [[1.]] , b =  [1.]\n",
      "step =  6000 , error value =  1.404374951271652e-20 , W =  [[1.]] , b =  [1.]\n",
      "step =  6400 , error value =  8.960787007835508e-22 , W =  [[1.]] , b =  [1.]\n",
      "step =  6800 , error value =  5.718072321107226e-23 , W =  [[1.]] , b =  [1.]\n",
      "step =  7200 , error value =  3.651041421955486e-24 , W =  [[1.]] , b =  [1.]\n",
      "step =  7600 , error value =  2.3379805913919846e-25 , W =  [[1.]] , b =  [1.]\n",
      "step =  8000 , error value =  1.5051544957707426e-26 , W =  [[1.]] , b =  [1.]\n"
     ]
    }
   ],
   "source": [
    "learning_rate = 1e-2 # 발산하는 경우, 1e-3~1e-6 등으로 바꾸어서 실행\n",
    "f = lambda x: loss_func(x_data, t_data)\n",
    "print(\"Initial error value = \", error_val(x_data, t_data), \", Initial W = \", W, \", Initial b = \", b)\n",
    "\n",
    "for step in range(8001): # 8000번 반복\n",
    "    W -= learning_rate * numerical_derivative(f, W)\n",
    "    b -= learning_rate * numerical_derivative(f, b)\n",
    "    if(step%400 == 0): # 400번마다 1번씩 결과 출력하도록\n",
    "        print(\"step = \", step, \", error value = \", error_val(x_data, t_data), \", W = \", W, \", b = \", b)"
   ]
  },
  {
   "cell_type": "code",
   "execution_count": 8,
   "metadata": {},
   "outputs": [
    {
     "data": {
      "text/plain": [
       "array([[44.]])"
      ]
     },
     "execution_count": 8,
     "metadata": {},
     "output_type": "execute_result"
    }
   ],
   "source": [
    "predict(43)"
   ]
  },
  {
   "cell_type": "code",
   "execution_count": null,
   "metadata": {},
   "outputs": [],
   "source": []
  }
 ],
 "metadata": {
  "kernelspec": {
   "display_name": "Python 3",
   "language": "python",
   "name": "python3"
  },
  "language_info": {
   "codemirror_mode": {
    "name": "ipython",
    "version": 3
   },
   "file_extension": ".py",
   "mimetype": "text/x-python",
   "name": "python",
   "nbconvert_exporter": "python",
   "pygments_lexer": "ipython3",
   "version": "3.7.6"
  }
 },
 "nbformat": 4,
 "nbformat_minor": 4
}
