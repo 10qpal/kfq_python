{
 "cells": [
  {
   "cell_type": "code",
   "execution_count": 1,
   "metadata": {},
   "outputs": [],
   "source": [
    "from sklearn.datasets import load_iris\n",
    "from sklearn.tree import DecisionTreeClassifier\n",
    "from sklearn.metrics import accuracy_score\n",
    "from sklearn.model_selection import KFold"
   ]
  },
  {
   "cell_type": "code",
   "execution_count": 2,
   "metadata": {},
   "outputs": [],
   "source": [
    "iris = load_iris()"
   ]
  },
  {
   "cell_type": "code",
   "execution_count": 3,
   "metadata": {},
   "outputs": [],
   "source": [
    "features = iris.data\n",
    "label = iris.target"
   ]
  },
  {
   "cell_type": "code",
   "execution_count": 4,
   "metadata": {},
   "outputs": [],
   "source": [
    "dt_clf = DecisionTreeClassifier(random_state=156)"
   ]
  },
  {
   "cell_type": "code",
   "execution_count": 5,
   "metadata": {},
   "outputs": [],
   "source": [
    "kfold = KFold(n_splits=5, shuffle=True) # 5개의 폴드 세트로 분리"
   ]
  },
  {
   "cell_type": "code",
   "execution_count": 6,
   "metadata": {},
   "outputs": [],
   "source": [
    "cv_accuracy = []"
   ]
  },
  {
   "cell_type": "code",
   "execution_count": 7,
   "metadata": {},
   "outputs": [
    {
     "data": {
      "text/plain": [
       "(150, 4)"
      ]
     },
     "execution_count": 7,
     "metadata": {},
     "output_type": "execute_result"
    }
   ],
   "source": [
    "features.shape"
   ]
  },
  {
   "cell_type": "code",
   "execution_count": 8,
   "metadata": {
    "collapsed": true,
    "jupyter": {
     "outputs_hidden": true
    }
   },
   "outputs": [
    {
     "name": "stdout",
     "output_type": "stream",
     "text": [
      "(array([  0,   1,   2,   3,   4,   5,   6,   7,   9,  10,  11,  12,  13,\n",
      "        14,  16,  17,  18,  19,  20,  21,  23,  24,  26,  27,  28,  30,\n",
      "        31,  32,  33,  35,  36,  37,  38,  39,  40,  41,  42,  44,  45,\n",
      "        46,  47,  48,  49,  50,  51,  53,  54,  56,  57,  59,  60,  61,\n",
      "        62,  63,  64,  66,  67,  69,  70,  71,  72,  74,  75,  76,  77,\n",
      "        78,  79,  81,  82,  83,  84,  85,  86,  89,  91,  92,  94,  95,\n",
      "        97,  98,  99, 100, 101, 102, 103, 105, 106, 107, 111, 112, 114,\n",
      "       115, 116, 117, 118, 119, 120, 121, 122, 123, 124, 125, 127, 128,\n",
      "       129, 130, 131, 133, 135, 136, 137, 140, 141, 142, 143, 145, 146,\n",
      "       147, 148, 149]), array([  8,  15,  22,  25,  29,  34,  43,  52,  55,  58,  65,  68,  73,\n",
      "        80,  87,  88,  90,  93,  96, 104, 108, 109, 110, 113, 126, 132,\n",
      "       134, 138, 139, 144]))\n",
      "(array([  0,   2,   3,   5,   7,   8,   9,  10,  11,  13,  14,  15,  16,\n",
      "        17,  18,  19,  20,  21,  22,  24,  25,  26,  29,  30,  32,  34,\n",
      "        35,  36,  37,  38,  39,  41,  43,  44,  45,  47,  48,  50,  51,\n",
      "        52,  53,  54,  55,  56,  57,  58,  59,  60,  61,  62,  64,  65,\n",
      "        66,  67,  68,  70,  71,  73,  74,  75,  76,  77,  79,  80,  81,\n",
      "        83,  84,  85,  86,  87,  88,  89,  90,  91,  92,  93,  94,  96,\n",
      "        97, 102, 103, 104, 105, 107, 108, 109, 110, 111, 112, 113, 114,\n",
      "       115, 116, 117, 119, 120, 121, 122, 123, 124, 126, 127, 128, 129,\n",
      "       130, 131, 132, 133, 134, 135, 137, 138, 139, 140, 142, 143, 144,\n",
      "       145, 146, 147]), array([  1,   4,   6,  12,  23,  27,  28,  31,  33,  40,  42,  46,  49,\n",
      "        63,  69,  72,  78,  82,  95,  98,  99, 100, 101, 106, 118, 125,\n",
      "       136, 141, 148, 149]))\n",
      "(array([  1,   2,   3,   4,   5,   6,   8,  10,  11,  12,  13,  15,  16,\n",
      "        17,  22,  23,  24,  25,  27,  28,  29,  31,  32,  33,  34,  35,\n",
      "        36,  37,  38,  40,  42,  43,  44,  46,  49,  51,  52,  53,  54,\n",
      "        55,  57,  58,  60,  62,  63,  64,  65,  66,  67,  68,  69,  70,\n",
      "        71,  72,  73,  74,  75,  76,  78,  79,  80,  82,  83,  85,  86,\n",
      "        87,  88,  89,  90,  91,  92,  93,  95,  96,  97,  98,  99, 100,\n",
      "       101, 103, 104, 106, 107, 108, 109, 110, 111, 112, 113, 116, 117,\n",
      "       118, 119, 120, 121, 122, 123, 124, 125, 126, 127, 128, 129, 131,\n",
      "       132, 134, 135, 136, 137, 138, 139, 140, 141, 143, 144, 145, 146,\n",
      "       147, 148, 149]), array([  0,   7,   9,  14,  18,  19,  20,  21,  26,  30,  39,  41,  45,\n",
      "        47,  48,  50,  56,  59,  61,  77,  81,  84,  94, 102, 105, 114,\n",
      "       115, 130, 133, 142]))\n",
      "(array([  0,   1,   4,   6,   7,   8,   9,  12,  14,  15,  17,  18,  19,\n",
      "        20,  21,  22,  23,  25,  26,  27,  28,  29,  30,  31,  32,  33,\n",
      "        34,  35,  37,  39,  40,  41,  42,  43,  45,  46,  47,  48,  49,\n",
      "        50,  51,  52,  53,  55,  56,  58,  59,  60,  61,  62,  63,  64,\n",
      "        65,  66,  67,  68,  69,  70,  71,  72,  73,  74,  76,  77,  78,\n",
      "        80,  81,  82,  83,  84,  85,  86,  87,  88,  89,  90,  91,  93,\n",
      "        94,  95,  96,  98,  99, 100, 101, 102, 103, 104, 105, 106, 108,\n",
      "       109, 110, 111, 113, 114, 115, 116, 117, 118, 119, 120, 125, 126,\n",
      "       128, 130, 132, 133, 134, 135, 136, 138, 139, 141, 142, 143, 144,\n",
      "       147, 148, 149]), array([  2,   3,   5,  10,  11,  13,  16,  24,  36,  38,  44,  54,  57,\n",
      "        75,  79,  92,  97, 107, 112, 121, 122, 123, 124, 127, 129, 131,\n",
      "       137, 140, 145, 146]))\n",
      "(array([  0,   1,   2,   3,   4,   5,   6,   7,   8,   9,  10,  11,  12,\n",
      "        13,  14,  15,  16,  18,  19,  20,  21,  22,  23,  24,  25,  26,\n",
      "        27,  28,  29,  30,  31,  33,  34,  36,  38,  39,  40,  41,  42,\n",
      "        43,  44,  45,  46,  47,  48,  49,  50,  52,  54,  55,  56,  57,\n",
      "        58,  59,  61,  63,  65,  68,  69,  72,  73,  75,  77,  78,  79,\n",
      "        80,  81,  82,  84,  87,  88,  90,  92,  93,  94,  95,  96,  97,\n",
      "        98,  99, 100, 101, 102, 104, 105, 106, 107, 108, 109, 110, 112,\n",
      "       113, 114, 115, 118, 121, 122, 123, 124, 125, 126, 127, 129, 130,\n",
      "       131, 132, 133, 134, 136, 137, 138, 139, 140, 141, 142, 144, 145,\n",
      "       146, 148, 149]), array([ 17,  32,  35,  37,  51,  53,  60,  62,  64,  66,  67,  70,  71,\n",
      "        74,  76,  83,  85,  86,  89,  91, 103, 111, 116, 117, 119, 120,\n",
      "       128, 135, 143, 147]))\n"
     ]
    }
   ],
   "source": [
    "for data_index in kfold.split(features):\n",
    "    print(data_index)"
   ]
  },
  {
   "cell_type": "code",
   "execution_count": 9,
   "metadata": {},
   "outputs": [],
   "source": [
    "import numpy as np"
   ]
  },
  {
   "cell_type": "code",
   "execution_count": 10,
   "metadata": {
    "collapsed": true,
    "jupyter": {
     "outputs_hidden": true
    }
   },
   "outputs": [
    {
     "name": "stdout",
     "output_type": "stream",
     "text": [
      "\n",
      "#1 교차 검증 정확도 : 0.9333, 학습 데이터 크기 : 120, 검증 데이터 크기 : 30\n",
      "#1 검증 세트 인덱스 : [  4   6  14  24  28  31  35  36  41  50  51  54  55  58  68  76  80  85\n",
      " 113 115 118 121 133 134 135 139 141 145 146 147]\n",
      "\n",
      "#2 교차 검증 정확도 : 0.9667, 학습 데이터 크기 : 120, 검증 데이터 크기 : 30\n",
      "#2 검증 세트 인덱스 : [  2  13  22  23  25  29  38  40  49  52  56  59  60  66  67  70  71  87\n",
      "  88  91  94  95 104 110 122 127 128 140 142 144]\n",
      "\n",
      "#3 교차 검증 정확도 : 0.9667, 학습 데이터 크기 : 120, 검증 데이터 크기 : 30\n",
      "#3 검증 세트 인덱스 : [  0   1   3   5   7  12  16  17  26  30  47  57  63  64  65  69  75  78\n",
      "  82  86  98 100 107 108 116 117 124 125 136 149]\n",
      "\n",
      "#4 교차 검증 정확도 : 0.9, 학습 데이터 크기 : 120, 검증 데이터 크기 : 30\n",
      "#4 검증 세트 인덱스 : [  8   9  11  18  20  21  33  37  43  44  62  72  73  79  89  92  96  97\n",
      " 101 103 106 109 119 120 123 129 132 137 138 148]\n",
      "\n",
      "#5 교차 검증 정확도 : 0.9333, 학습 데이터 크기 : 120, 검증 데이터 크기 : 30\n",
      "#5 검증 세트 인덱스 : [ 10  15  19  27  32  34  39  42  45  46  48  53  61  74  77  81  83  84\n",
      "  90  93  99 102 105 111 112 114 126 130 131 143]\n"
     ]
    }
   ],
   "source": [
    "# for문으로 반복하여 수행\n",
    "n_iter = 0 # 몇 번째 반복인지 알려주는 변수\n",
    "\n",
    "for train_index, test_index in kfold.split(features):\n",
    "#     print(train_index)\n",
    "#     print(test_index)\n",
    "#     print()\n",
    "\n",
    "    # 학습용, 검증용 테스트 데이터 분리\n",
    "    x_train, x_test = features[train_index], features[test_index]\n",
    "    y_train, y_test = label[train_index], label[test_index]\n",
    "    \n",
    "    # 학습 및 예측\n",
    "    dt_clf.fit(x_train, y_train)\n",
    "    pred = dt_clf.predict(x_test)\n",
    "    \n",
    "    n_iter += 1\n",
    "    \n",
    "    # 정확도 측정\n",
    "    accuracy = np.round(accuracy_score(y_test, pred), 4) # 소수점 4자리까지 보이도록 반올림\n",
    "    \n",
    "    train_size = x_train.shape[0]\n",
    "    test_size = x_test.shape[0]\n",
    "    print(\"\\n#{0} 교차 검증 정확도 : {1}, 학습 데이터 크기 : {2}, 검증 데이터 크기 : {3}\"\n",
    "         .format(n_iter, accuracy, train_size, test_size))\n",
    "    print(\"#{0} 검증 세트 인덱스 : {1}\".format(n_iter, test_index))\n",
    "    cv_accuracy.append(accuracy)\n",
    "    \n",
    "    print(\"\\n## 평균 검증 정확도 : \", np.mean(cv_accuracy))"
   ]
  },
  {
   "cell_type": "code",
   "execution_count": 11,
   "metadata": {},
   "outputs": [],
   "source": [
    "import pandas as pd"
   ]
  },
  {
   "cell_type": "code",
   "execution_count": 12,
   "metadata": {},
   "outputs": [],
   "source": [
    "iris = load_iris()"
   ]
  },
  {
   "cell_type": "code",
   "execution_count": 13,
   "metadata": {},
   "outputs": [],
   "source": [
    "iris_df = pd.DataFrame(data=iris.data, columns=iris.feature_names)"
   ]
  },
  {
   "cell_type": "code",
   "execution_count": 14,
   "metadata": {
    "collapsed": true,
    "jupyter": {
     "outputs_hidden": true
    }
   },
   "outputs": [
    {
     "data": {
      "text/html": [
       "<div>\n",
       "<style scoped>\n",
       "    .dataframe tbody tr th:only-of-type {\n",
       "        vertical-align: middle;\n",
       "    }\n",
       "\n",
       "    .dataframe tbody tr th {\n",
       "        vertical-align: top;\n",
       "    }\n",
       "\n",
       "    .dataframe thead th {\n",
       "        text-align: right;\n",
       "    }\n",
       "</style>\n",
       "<table border=\"1\" class=\"dataframe\">\n",
       "  <thead>\n",
       "    <tr style=\"text-align: right;\">\n",
       "      <th></th>\n",
       "      <th>sepal length (cm)</th>\n",
       "      <th>sepal width (cm)</th>\n",
       "      <th>petal length (cm)</th>\n",
       "      <th>petal width (cm)</th>\n",
       "    </tr>\n",
       "  </thead>\n",
       "  <tbody>\n",
       "    <tr>\n",
       "      <th>0</th>\n",
       "      <td>5.1</td>\n",
       "      <td>3.5</td>\n",
       "      <td>1.4</td>\n",
       "      <td>0.2</td>\n",
       "    </tr>\n",
       "    <tr>\n",
       "      <th>1</th>\n",
       "      <td>4.9</td>\n",
       "      <td>3.0</td>\n",
       "      <td>1.4</td>\n",
       "      <td>0.2</td>\n",
       "    </tr>\n",
       "    <tr>\n",
       "      <th>2</th>\n",
       "      <td>4.7</td>\n",
       "      <td>3.2</td>\n",
       "      <td>1.3</td>\n",
       "      <td>0.2</td>\n",
       "    </tr>\n",
       "    <tr>\n",
       "      <th>3</th>\n",
       "      <td>4.6</td>\n",
       "      <td>3.1</td>\n",
       "      <td>1.5</td>\n",
       "      <td>0.2</td>\n",
       "    </tr>\n",
       "    <tr>\n",
       "      <th>4</th>\n",
       "      <td>5.0</td>\n",
       "      <td>3.6</td>\n",
       "      <td>1.4</td>\n",
       "      <td>0.2</td>\n",
       "    </tr>\n",
       "    <tr>\n",
       "      <th>...</th>\n",
       "      <td>...</td>\n",
       "      <td>...</td>\n",
       "      <td>...</td>\n",
       "      <td>...</td>\n",
       "    </tr>\n",
       "    <tr>\n",
       "      <th>145</th>\n",
       "      <td>6.7</td>\n",
       "      <td>3.0</td>\n",
       "      <td>5.2</td>\n",
       "      <td>2.3</td>\n",
       "    </tr>\n",
       "    <tr>\n",
       "      <th>146</th>\n",
       "      <td>6.3</td>\n",
       "      <td>2.5</td>\n",
       "      <td>5.0</td>\n",
       "      <td>1.9</td>\n",
       "    </tr>\n",
       "    <tr>\n",
       "      <th>147</th>\n",
       "      <td>6.5</td>\n",
       "      <td>3.0</td>\n",
       "      <td>5.2</td>\n",
       "      <td>2.0</td>\n",
       "    </tr>\n",
       "    <tr>\n",
       "      <th>148</th>\n",
       "      <td>6.2</td>\n",
       "      <td>3.4</td>\n",
       "      <td>5.4</td>\n",
       "      <td>2.3</td>\n",
       "    </tr>\n",
       "    <tr>\n",
       "      <th>149</th>\n",
       "      <td>5.9</td>\n",
       "      <td>3.0</td>\n",
       "      <td>5.1</td>\n",
       "      <td>1.8</td>\n",
       "    </tr>\n",
       "  </tbody>\n",
       "</table>\n",
       "<p>150 rows × 4 columns</p>\n",
       "</div>"
      ],
      "text/plain": [
       "     sepal length (cm)  sepal width (cm)  petal length (cm)  petal width (cm)\n",
       "0                  5.1               3.5                1.4               0.2\n",
       "1                  4.9               3.0                1.4               0.2\n",
       "2                  4.7               3.2                1.3               0.2\n",
       "3                  4.6               3.1                1.5               0.2\n",
       "4                  5.0               3.6                1.4               0.2\n",
       "..                 ...               ...                ...               ...\n",
       "145                6.7               3.0                5.2               2.3\n",
       "146                6.3               2.5                5.0               1.9\n",
       "147                6.5               3.0                5.2               2.0\n",
       "148                6.2               3.4                5.4               2.3\n",
       "149                5.9               3.0                5.1               1.8\n",
       "\n",
       "[150 rows x 4 columns]"
      ]
     },
     "execution_count": 14,
     "metadata": {},
     "output_type": "execute_result"
    }
   ],
   "source": [
    "iris_df"
   ]
  },
  {
   "cell_type": "code",
   "execution_count": 15,
   "metadata": {},
   "outputs": [],
   "source": [
    "iris_df['label'] = iris.target"
   ]
  },
  {
   "cell_type": "code",
   "execution_count": 17,
   "metadata": {
    "collapsed": true,
    "jupyter": {
     "outputs_hidden": true
    }
   },
   "outputs": [
    {
     "data": {
      "text/html": [
       "<div>\n",
       "<style scoped>\n",
       "    .dataframe tbody tr th:only-of-type {\n",
       "        vertical-align: middle;\n",
       "    }\n",
       "\n",
       "    .dataframe tbody tr th {\n",
       "        vertical-align: top;\n",
       "    }\n",
       "\n",
       "    .dataframe thead th {\n",
       "        text-align: right;\n",
       "    }\n",
       "</style>\n",
       "<table border=\"1\" class=\"dataframe\">\n",
       "  <thead>\n",
       "    <tr style=\"text-align: right;\">\n",
       "      <th></th>\n",
       "      <th>sepal length (cm)</th>\n",
       "      <th>sepal width (cm)</th>\n",
       "      <th>petal length (cm)</th>\n",
       "      <th>petal width (cm)</th>\n",
       "      <th>label</th>\n",
       "    </tr>\n",
       "  </thead>\n",
       "  <tbody>\n",
       "    <tr>\n",
       "      <th>141</th>\n",
       "      <td>6.9</td>\n",
       "      <td>3.1</td>\n",
       "      <td>5.1</td>\n",
       "      <td>2.3</td>\n",
       "      <td>2</td>\n",
       "    </tr>\n",
       "    <tr>\n",
       "      <th>95</th>\n",
       "      <td>5.7</td>\n",
       "      <td>3.0</td>\n",
       "      <td>4.2</td>\n",
       "      <td>1.2</td>\n",
       "      <td>1</td>\n",
       "    </tr>\n",
       "    <tr>\n",
       "      <th>63</th>\n",
       "      <td>6.1</td>\n",
       "      <td>2.9</td>\n",
       "      <td>4.7</td>\n",
       "      <td>1.4</td>\n",
       "      <td>1</td>\n",
       "    </tr>\n",
       "    <tr>\n",
       "      <th>13</th>\n",
       "      <td>4.3</td>\n",
       "      <td>3.0</td>\n",
       "      <td>1.1</td>\n",
       "      <td>0.1</td>\n",
       "      <td>0</td>\n",
       "    </tr>\n",
       "    <tr>\n",
       "      <th>17</th>\n",
       "      <td>5.1</td>\n",
       "      <td>3.5</td>\n",
       "      <td>1.4</td>\n",
       "      <td>0.3</td>\n",
       "      <td>0</td>\n",
       "    </tr>\n",
       "  </tbody>\n",
       "</table>\n",
       "</div>"
      ],
      "text/plain": [
       "     sepal length (cm)  sepal width (cm)  petal length (cm)  petal width (cm)  \\\n",
       "141                6.9               3.1                5.1               2.3   \n",
       "95                 5.7               3.0                4.2               1.2   \n",
       "63                 6.1               2.9                4.7               1.4   \n",
       "13                 4.3               3.0                1.1               0.1   \n",
       "17                 5.1               3.5                1.4               0.3   \n",
       "\n",
       "     label  \n",
       "141      2  \n",
       "95       1  \n",
       "63       1  \n",
       "13       0  \n",
       "17       0  "
      ]
     },
     "execution_count": 17,
     "metadata": {},
     "output_type": "execute_result"
    }
   ],
   "source": [
    "iris_df.head()\n",
    "iris_df.tail()\n",
    "iris_df.sample(5)"
   ]
  },
  {
   "cell_type": "code",
   "execution_count": 18,
   "metadata": {},
   "outputs": [
    {
     "data": {
      "text/plain": [
       "2    50\n",
       "1    50\n",
       "0    50\n",
       "Name: label, dtype: int64"
      ]
     },
     "execution_count": 18,
     "metadata": {},
     "output_type": "execute_result"
    }
   ],
   "source": [
    "iris_df['label'].value_counts()"
   ]
  },
  {
   "cell_type": "code",
   "execution_count": 20,
   "metadata": {
    "collapsed": true,
    "jupyter": {
     "outputs_hidden": true
    }
   },
   "outputs": [
    {
     "name": "stdout",
     "output_type": "stream",
     "text": [
      "1\n",
      "1    41\n",
      "0    40\n",
      "2    39\n",
      "Name: label, dtype: int64\n",
      "2    11\n",
      "0    10\n",
      "1     9\n",
      "Name: label, dtype: int64\n",
      "2\n",
      "0    43\n",
      "2    40\n",
      "1    37\n",
      "Name: label, dtype: int64\n",
      "1    13\n",
      "2    10\n",
      "0     7\n",
      "Name: label, dtype: int64\n",
      "3\n",
      "2    41\n",
      "1    40\n",
      "0    39\n",
      "Name: label, dtype: int64\n",
      "0    11\n",
      "1    10\n",
      "2     9\n",
      "Name: label, dtype: int64\n",
      "4\n",
      "1    42\n",
      "2    40\n",
      "0    38\n",
      "Name: label, dtype: int64\n",
      "0    12\n",
      "2    10\n",
      "1     8\n",
      "Name: label, dtype: int64\n",
      "5\n",
      "2    40\n",
      "1    40\n",
      "0    40\n",
      "Name: label, dtype: int64\n",
      "2    10\n",
      "1    10\n",
      "0    10\n",
      "Name: label, dtype: int64\n"
     ]
    }
   ],
   "source": [
    "# kfold = KFold(n_splits=5)\n",
    "kfold = KFold(n_splits=5, shuffle=True)\n",
    "\n",
    "n_iter = 0\n",
    "\n",
    "for train_index, test_index in kfold.split(iris_df):   \n",
    "    n_iter += 1\n",
    "    \n",
    "    label_train = iris_df['label'].iloc[train_index]\n",
    "    label_test = iris_df['label'].iloc[test_index]\n",
    "    print(n_iter)\n",
    "    print(label_train.value_counts())\n",
    "    print(label_test.value_counts())"
   ]
  },
  {
   "cell_type": "markdown",
   "metadata": {},
   "source": [
    "#### K 폴드는 비율을 고려하지 않는다\n",
    "#### 비율을 고려하려면 Stratified K 폴드"
   ]
  },
  {
   "cell_type": "code",
   "execution_count": 22,
   "metadata": {},
   "outputs": [],
   "source": [
    "from sklearn.model_selection import StratifiedKFold"
   ]
  },
  {
   "cell_type": "code",
   "execution_count": 23,
   "metadata": {},
   "outputs": [
    {
     "name": "stdout",
     "output_type": "stream",
     "text": [
      "\n",
      "#1 교차 검증 정확도 : 0.98, 학습 데이터 크기 : 100, 검증 데이터 크기 : 50\n",
      "#1 검증 세트 인덱스 : [  0   1   2   3   4   5   6   7   8   9  10  11  12  13  14  15  16  50\n",
      "  51  52  53  54  55  56  57  58  59  60  61  62  63  64  65  66 100 101\n",
      " 102 103 104 105 106 107 108 109 110 111 112 113 114 115]\n",
      "## 평균 검증 정확도 :  0.98\n",
      "\n",
      "#2 교차 검증 정확도 : 0.94, 학습 데이터 크기 : 100, 검증 데이터 크기 : 50\n",
      "#2 검증 세트 인덱스 : [ 17  18  19  20  21  22  23  24  25  26  27  28  29  30  31  32  33  67\n",
      "  68  69  70  71  72  73  74  75  76  77  78  79  80  81  82 116 117 118\n",
      " 119 120 121 122 123 124 125 126 127 128 129 130 131 132]\n",
      "## 평균 검증 정확도 :  0.96\n",
      "\n",
      "#3 교차 검증 정확도 : 0.98, 학습 데이터 크기 : 100, 검증 데이터 크기 : 50\n",
      "#3 검증 세트 인덱스 : [ 34  35  36  37  38  39  40  41  42  43  44  45  46  47  48  49  83  84\n",
      "  85  86  87  88  89  90  91  92  93  94  95  96  97  98  99 133 134 135\n",
      " 136 137 138 139 140 141 142 143 144 145 146 147 148 149]\n",
      "## 평균 검증 정확도 :  0.9666666666666667\n"
     ]
    }
   ],
   "source": [
    "dt_clf = DecisionTreeClassifier(random_state=156)\n",
    "\n",
    "skfold = StratifiedKFold(n_splits=3)\n",
    "n_iter = 0\n",
    "cv_accuracy = []\n",
    "\n",
    "# StratifiedKFold의 split() 호출 시 반드시 레이블 데이터 세트도 추가 입력 필요(비율 고려 위해)\n",
    "for train_index, test_index in skfold.split(features, label):\n",
    "#     print(train_index)\n",
    "#     print(test_index)\n",
    "#     print()\n",
    "\n",
    "    # 학습용, 검증용 테스트 데이터 분리\n",
    "    x_train, x_test = features[train_index], features[test_index]\n",
    "    y_train, y_test = label[train_index], label[test_index]\n",
    "    \n",
    "    # 학습 및 예측\n",
    "    dt_clf.fit(x_train, y_train)\n",
    "    pred = dt_clf.predict(x_test)\n",
    "    \n",
    "    n_iter += 1\n",
    "    \n",
    "    # 정확도 측정\n",
    "    accuracy = np.round(accuracy_score(y_test, pred), 4) # 소수점 4자리까지 보이도록 반올림\n",
    "    \n",
    "    train_size = x_train.shape[0]\n",
    "    test_size = x_test.shape[0]\n",
    "    print(\"\\n#{0} 교차 검증 정확도 : {1}, 학습 데이터 크기 : {2}, 검증 데이터 크기 : {3}\"\n",
    "         .format(n_iter, accuracy, train_size, test_size))\n",
    "    print(\"#{0} 검증 세트 인덱스 : {1}\".format(n_iter, test_index))\n",
    "    cv_accuracy.append(accuracy)\n",
    "    \n",
    "    print(\"\\n## 평균 검증 정확도 : \", np.mean(cv_accuracy))"
   ]
  },
  {
   "cell_type": "code",
   "execution_count": 25,
   "metadata": {},
   "outputs": [
    {
     "name": "stdout",
     "output_type": "stream",
     "text": [
      "1\n",
      "2    34\n",
      "1    33\n",
      "0    33\n",
      "Name: label, dtype: int64\n",
      "1    17\n",
      "0    17\n",
      "2    16\n",
      "Name: label, dtype: int64\n",
      "2\n",
      "1    34\n",
      "2    33\n",
      "0    33\n",
      "Name: label, dtype: int64\n",
      "2    17\n",
      "0    17\n",
      "1    16\n",
      "Name: label, dtype: int64\n",
      "3\n",
      "0    34\n",
      "2    33\n",
      "1    33\n",
      "Name: label, dtype: int64\n",
      "2    17\n",
      "1    17\n",
      "0    16\n",
      "Name: label, dtype: int64\n"
     ]
    }
   ],
   "source": [
    "n_iter = 0\n",
    "\n",
    "for train_index, test_index in skfold.split(iris_df, iris_df['label']):   \n",
    "    n_iter += 1\n",
    "    \n",
    "    label_train = iris_df['label'].iloc[train_index]\n",
    "    label_test = iris_df['label'].iloc[test_index]\n",
    "    print(n_iter)\n",
    "    print(label_train.value_counts())\n",
    "    print(label_test.value_counts())"
   ]
  },
  {
   "cell_type": "code",
   "execution_count": null,
   "metadata": {},
   "outputs": [],
   "source": []
  }
 ],
 "metadata": {
  "kernelspec": {
   "display_name": "Python 3",
   "language": "python",
   "name": "python3"
  },
  "language_info": {
   "codemirror_mode": {
    "name": "ipython",
    "version": 3
   },
   "file_extension": ".py",
   "mimetype": "text/x-python",
   "name": "python",
   "nbconvert_exporter": "python",
   "pygments_lexer": "ipython3",
   "version": "3.7.6"
  }
 },
 "nbformat": 4,
 "nbformat_minor": 4
}
