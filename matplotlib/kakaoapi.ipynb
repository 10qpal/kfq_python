{
 "cells": [
  {
   "cell_type": "markdown",
   "metadata": {},
   "source": [
    "# 주소 검색"
   ]
  },
  {
   "cell_type": "raw",
   "metadata": {},
   "source": [
    "curl -v -X GET \"https://dapi.kakao.com/v2/local/search/address.json\" \\\n",
    "--data-urlencode \"query=전북 삼성동 100\" \\\n",
    "-H \"Authorization: KakaoAK 5e66881ea3128e3ee45eb7160a210c2d\""
   ]
  },
  {
   "cell_type": "code",
   "execution_count": 1,
   "metadata": {},
   "outputs": [],
   "source": [
    "import requests"
   ]
  },
  {
   "cell_type": "code",
   "execution_count": 2,
   "metadata": {},
   "outputs": [],
   "source": [
    "# API를 이용한 http 통신을 통해서 지도 획득\n",
    "# requests, urllib, beautifulsoup, Selenium 등이 웹 크롤링 기술 대상 모듈이다.\n",
    "\n",
    "KAKAO_API_KEY = '5e66881ea3128e3ee45eb7160a210c2d'\n",
    "url = '''\n",
    "https://dapi.kakao.com/v2/local/search/address.json?query={0}\n",
    "'''.format('대구 달서구 갈산동 971-2')\n",
    "headers = {'Authorization':'KakaoAK {0}'.format(KAKAO_API_KEY)}\n",
    "res = requests.get(url, headers = headers)"
   ]
  },
  {
   "cell_type": "code",
   "execution_count": 3,
   "metadata": {},
   "outputs": [
    {
     "data": {
      "text/plain": [
       "{'documents': [{'address': {'address_name': '대구 달서구 갈산동 971-2',\n",
       "    'b_code': '2729010600',\n",
       "    'h_code': '2729057600',\n",
       "    'main_address_no': '971',\n",
       "    'mountain_yn': 'N',\n",
       "    'region_1depth_name': '대구',\n",
       "    'region_2depth_name': '달서구',\n",
       "    'region_3depth_h_name': '이곡1동',\n",
       "    'region_3depth_name': '갈산동',\n",
       "    'sub_address_no': '2',\n",
       "    'x': '128.50664737542',\n",
       "    'y': '35.8363260495514'},\n",
       "   'address_name': '대구 달서구 갈산동 971-2',\n",
       "   'address_type': 'REGION_ADDR',\n",
       "   'road_address': {'address_name': '대구 달서구 성서공단로 217',\n",
       "    'building_name': '',\n",
       "    'main_building_no': '217',\n",
       "    'region_1depth_name': '대구',\n",
       "    'region_2depth_name': '달서구',\n",
       "    'region_3depth_name': '갈산동',\n",
       "    'road_name': '성서공단로',\n",
       "    'sub_building_no': '',\n",
       "    'underground_yn': 'N',\n",
       "    'x': '128.506659007155',\n",
       "    'y': '35.8364554003248',\n",
       "    'zone_no': '42704'},\n",
       "   'x': '128.50664737542',\n",
       "   'y': '35.8363260495514'}],\n",
       " 'meta': {'is_end': True, 'pageable_count': 1, 'total_count': 1}}"
      ]
     },
     "execution_count": 3,
     "metadata": {},
     "output_type": "execute_result"
    }
   ],
   "source": [
    "res = res.json()\n",
    "res"
   ]
  },
  {
   "cell_type": "markdown",
   "metadata": {},
   "source": [
    "# 좌표로 행정구역정보 받기"
   ]
  },
  {
   "cell_type": "raw",
   "metadata": {},
   "source": [
    "curl -v -X GET \"https://dapi.kakao.com/v2/local/geo/coord2regioncode.json?x=127.1086228&y=37.4012191\" \\"
   ]
  },
  {
   "cell_type": "code",
   "execution_count": 4,
   "metadata": {},
   "outputs": [
    {
     "data": {
      "text/plain": [
       "{'meta': {'total_count': 2},\n",
       " 'documents': [{'region_type': 'B',\n",
       "   'code': '4113510900',\n",
       "   'address_name': '경기도 성남시 분당구 삼평동',\n",
       "   'region_1depth_name': '경기도',\n",
       "   'region_2depth_name': '성남시 분당구',\n",
       "   'region_3depth_name': '삼평동',\n",
       "   'region_4depth_name': '',\n",
       "   'x': 127.1163593869371,\n",
       "   'y': 37.40612091848614},\n",
       "  {'region_type': 'H',\n",
       "   'code': '4113565500',\n",
       "   'address_name': '경기도 성남시 분당구 삼평동',\n",
       "   'region_1depth_name': '경기도',\n",
       "   'region_2depth_name': '성남시 분당구',\n",
       "   'region_3depth_name': '삼평동',\n",
       "   'region_4depth_name': '',\n",
       "   'x': 127.1163593869371,\n",
       "   'y': 37.40612091848614}]}"
      ]
     },
     "execution_count": 4,
     "metadata": {},
     "output_type": "execute_result"
    }
   ],
   "source": [
    "x = '127.1086228'\n",
    "y = '37.4012191'\n",
    "\n",
    "KAKAO_API_KEY = '5e66881ea3128e3ee45eb7160a210c2d'\n",
    "url = '''\n",
    "https://dapi.kakao.com/v2/local/geo/coord2regioncode.json?x={}&y={}\n",
    "'''.format(x, y)\n",
    "headers = {'Authorization':'KakaoAK {0}'.format(KAKAO_API_KEY)}\n",
    "res = requests.get(url, headers = headers)\n",
    "res = res.json()\n",
    "res"
   ]
  },
  {
   "cell_type": "markdown",
   "metadata": {},
   "source": [
    "# 키워드로 장소 검색"
   ]
  },
  {
   "cell_type": "raw",
   "metadata": {},
   "source": [
    "curl -v -X GET \"https://dapi.kakao.com/v2/local/search/keyword.json?y=37.514322572335935&x=127.06283102249932&radius=20000\" \\\n",
    "--data-urlencode \"query=카카오프렌즈\" \\\n",
    "-H \"Authorization: KakaoAK kkkkkkkkkkkkkkkkkkkkkkkkkkkkkkkk\""
   ]
  },
  {
   "cell_type": "code",
   "execution_count": 5,
   "metadata": {},
   "outputs": [
    {
     "data": {
      "text/plain": [
       "{'documents': [{'address_name': '대구 달서구 월암동 1013',\n",
       "   'category_group_code': 'CS2',\n",
       "   'category_group_name': '편의점',\n",
       "   'category_name': '가정,생활 > 편의점 > 세븐일레븐',\n",
       "   'distance': '470',\n",
       "   'id': '13056268',\n",
       "   'phone': '053-591-7557',\n",
       "   'place_name': '세븐일레븐 대구자동차경매장점',\n",
       "   'place_url': 'http://place.map.kakao.com/13056268',\n",
       "   'road_address_name': '대구 달서구 성서공단로54길 8',\n",
       "   'x': '128.5116793783',\n",
       "   'y': '35.835334292429'},\n",
       "  {'address_name': '대구 달서구 갈산동 358-111',\n",
       "   'category_group_code': 'CS2',\n",
       "   'category_group_name': '편의점',\n",
       "   'category_name': '가정,생활 > 편의점',\n",
       "   'distance': '470',\n",
       "   'id': '24788560',\n",
       "   'phone': '053-295-1537',\n",
       "   'place_name': '스마일푸드앤편의점',\n",
       "   'place_url': 'http://place.map.kakao.com/24788560',\n",
       "   'road_address_name': '대구 달서구 성서공단로35길 42',\n",
       "   'x': '128.50300135427116',\n",
       "   'y': '35.83946863844964'},\n",
       "  {'address_name': '대구 달서구 갈산동 264-7',\n",
       "   'category_group_code': 'CS2',\n",
       "   'category_group_name': '편의점',\n",
       "   'category_name': '가정,생활 > 편의점 > GS25',\n",
       "   'distance': '751',\n",
       "   'id': '12295202',\n",
       "   'phone': '053-583-7873',\n",
       "   'place_name': 'GS25 성서공단점',\n",
       "   'place_url': 'http://place.map.kakao.com/12295202',\n",
       "   'road_address_name': '대구 달서구 성서서로 176',\n",
       "   'x': '128.500164367034',\n",
       "   'y': '35.8406801074422'},\n",
       "  {'address_name': '대구 달서구 갈산동 263-7',\n",
       "   'category_group_code': 'CS2',\n",
       "   'category_group_name': '편의점',\n",
       "   'category_name': '가정,생활 > 편의점 > CU',\n",
       "   'distance': '821',\n",
       "   'id': '8653820',\n",
       "   'phone': '053-581-1418',\n",
       "   'place_name': 'CU 성서공단점',\n",
       "   'place_url': 'http://place.map.kakao.com/8653820',\n",
       "   'road_address_name': '대구 달서구 성서서로 186',\n",
       "   'x': '128.50013768552',\n",
       "   'y': '35.8416140420688'},\n",
       "  {'address_name': '대구 달서구 월암동 1-158',\n",
       "   'category_group_code': 'CS2',\n",
       "   'category_group_name': '편의점',\n",
       "   'category_name': '가정,생활 > 편의점 > GS25',\n",
       "   'distance': '987',\n",
       "   'id': '1609548108',\n",
       "   'phone': '',\n",
       "   'place_name': 'GS25 성서2공단점',\n",
       "   'place_url': 'http://place.map.kakao.com/1609548108',\n",
       "   'road_address_name': '대구 달서구 성서공단로22안길 16',\n",
       "   'x': '128.496114471085',\n",
       "   'y': '35.8341232948896'}],\n",
       " 'meta': {'is_end': True,\n",
       "  'pageable_count': 5,\n",
       "  'same_name': {'keyword': '편의점', 'region': [], 'selected_region': ''},\n",
       "  'total_count': 5}}"
      ]
     },
     "execution_count": 5,
     "metadata": {},
     "output_type": "execute_result"
    }
   ],
   "source": [
    "query = '대구비즈니스센터'\n",
    "\n",
    "KAKAO_API_KEY = '5e66881ea3128e3ee45eb7160a210c2d'\n",
    "url = '''\n",
    "https://dapi.kakao.com/v2/local/search/keyword.json?query={}\n",
    "'''.format(query)\n",
    "headers = {'Authorization':'KakaoAK {0}'.format(KAKAO_API_KEY)}\n",
    "res = requests.get(url, headers = headers)\n",
    "res = res.json()\n",
    "res\n",
    "\n",
    "x = res['documents'][0]['x']\n",
    "y = res['documents'][0]['y']\n",
    "radius = '1000'\n",
    "query = '편의점'\n",
    "\n",
    "# KAKAO_API_KEY = '5e66881ea3128e3ee45eb7160a210c2d'\n",
    "url = '''\n",
    "https://dapi.kakao.com/v2/local/search/keyword.json?x={}&y={}&radius={}&query={}\n",
    "'''.format(x, y, radius, query)\n",
    "headers = {'Authorization':'KakaoAK {0}'.format(KAKAO_API_KEY)}\n",
    "res = requests.get(url, headers = headers)\n",
    "res = res.json()\n",
    "res"
   ]
  },
  {
   "cell_type": "code",
   "execution_count": 6,
   "metadata": {},
   "outputs": [
    {
     "data": {
      "text/plain": [
       "{'documents': [{'address_name': '대구 중구 동인동1가 2-1',\n",
       "   'category_group_code': 'PO3',\n",
       "   'category_group_name': '공공기관',\n",
       "   'category_name': '사회,공공기관 > 지방행정기관 > 시청 > 광역시청',\n",
       "   'distance': '',\n",
       "   'id': '7816301',\n",
       "   'phone': '053-120',\n",
       "   'place_name': '대구광역시청',\n",
       "   'place_url': 'http://place.map.kakao.com/7816301',\n",
       "   'road_address_name': '대구 중구 공평로 88',\n",
       "   'x': '128.601805491082',\n",
       "   'y': '35.8713802646523'},\n",
       "  {'address_name': '대구 북구 산격동 1445-3',\n",
       "   'category_group_code': 'PO3',\n",
       "   'category_group_name': '공공기관',\n",
       "   'category_name': '사회,공공기관 > 지방행정기관 > 시청 > 광역시청',\n",
       "   'distance': '',\n",
       "   'id': '15202253',\n",
       "   'phone': '053-803-0114',\n",
       "   'place_name': '대구광역시청 별관',\n",
       "   'place_url': 'http://place.map.kakao.com/15202253',\n",
       "   'road_address_name': '대구 북구 연암로 40',\n",
       "   'x': '128.600511883879',\n",
       "   'y': '35.8924878037576'},\n",
       "  {'address_name': '대구 달서구 두류동 706-3',\n",
       "   'category_group_code': 'PO3',\n",
       "   'category_group_name': '공공기관',\n",
       "   'category_name': '사회,공공기관 > 지방행정기관 > 시청 > 광역시청',\n",
       "   'distance': '',\n",
       "   'id': '228865484',\n",
       "   'phone': '053-120',\n",
       "   'place_name': '대구광역시청신청사(2025년 예정)',\n",
       "   'place_url': 'http://place.map.kakao.com/228865484',\n",
       "   'road_address_name': '',\n",
       "   'x': '128.550202095436',\n",
       "   'y': '35.8497503326971'}],\n",
       " 'meta': {'is_end': True,\n",
       "  'pageable_count': 3,\n",
       "  'same_name': {'keyword': '대구광역시청', 'region': [], 'selected_region': ''},\n",
       "  'total_count': 3}}"
      ]
     },
     "execution_count": 6,
     "metadata": {},
     "output_type": "execute_result"
    }
   ],
   "source": [
    "query = '대구광역시청'\n",
    "code = 'PO3'    # 공공기관\n",
    "\n",
    "KAKAO_API_KEY = '5e66881ea3128e3ee45eb7160a210c2d'\n",
    "url = '''\n",
    "https://dapi.kakao.com/v2/local/search/keyword.json?&query={}&category_group_code={}\n",
    "'''.format(query, code)\n",
    "headers = {'Authorization':'KakaoAK {0}'.format(KAKAO_API_KEY)}\n",
    "res = requests.get(url, headers = headers)\n",
    "res = res.json()\n",
    "res"
   ]
  },
  {
   "cell_type": "code",
   "execution_count": null,
   "metadata": {},
   "outputs": [],
   "source": []
  }
 ],
 "metadata": {
  "kernelspec": {
   "display_name": "Python 3",
   "language": "python",
   "name": "python3"
  },
  "language_info": {
   "codemirror_mode": {
    "name": "ipython",
    "version": 3
   },
   "file_extension": ".py",
   "mimetype": "text/x-python",
   "name": "python",
   "nbconvert_exporter": "python",
   "pygments_lexer": "ipython3",
   "version": "3.7.6"
  }
 },
 "nbformat": 4,
 "nbformat_minor": 4
}
