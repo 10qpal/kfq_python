{
 "cells": [
  {
   "cell_type": "markdown",
   "metadata": {},
   "source": [
    "# 한글 폰트 적용"
   ]
  },
  {
   "cell_type": "code",
   "execution_count": 1,
   "metadata": {},
   "outputs": [],
   "source": [
    "%matplotlib inline"
   ]
  },
  {
   "cell_type": "code",
   "execution_count": 2,
   "metadata": {},
   "outputs": [
    {
     "data": {
      "text/plain": [
       "'Windows-10-10.0.18362-SP0'"
      ]
     },
     "execution_count": 2,
     "metadata": {},
     "output_type": "execute_result"
    }
   ],
   "source": [
    "# 실행중인 운영체제 확인\n",
    "import platform\n",
    "platform.platform()"
   ]
  },
  {
   "cell_type": "code",
   "execution_count": 3,
   "metadata": {},
   "outputs": [
    {
     "data": {
      "text/plain": [
       "sys.version_info(major=3, minor=7, micro=6, releaselevel='final', serial=0)"
      ]
     },
     "execution_count": 3,
     "metadata": {},
     "output_type": "execute_result"
    }
   ],
   "source": [
    "# 파이썬 버전 확인\n",
    "import sys\n",
    "sys.version_info"
   ]
  },
  {
   "cell_type": "code",
   "execution_count": 4,
   "metadata": {},
   "outputs": [
    {
     "name": "stdout",
     "output_type": "stream",
     "text": [
      "버전 :  3.1.3\n",
      "설치위치 :  C:\\ProgramData\\Anaconda3\\lib\\site-packages\\matplotlib\\__init__.py\n",
      "설정 :  C:\\Users\\admin\\.matplotlib\n",
      "캐시 :  C:\\Users\\admin\\.matplotlib\n"
     ]
    }
   ],
   "source": [
    "# matplotlib 주요 설치 정보\n",
    "import matplotlib\n",
    "print('버전 : ', matplotlib.__version__)\n",
    "print('설치위치 : ', matplotlib.__file__)\n",
    "print('설정 : ', matplotlib.get_configdir())\n",
    "print('캐시 : ', matplotlib.get_cachedir())"
   ]
  },
  {
   "cell_type": "code",
   "execution_count": 5,
   "metadata": {},
   "outputs": [],
   "source": [
    "# 경고메시지 출력 무시\n",
    "import warnings\n",
    "warnings.filterwarnings('ignore')"
   ]
  },
  {
   "cell_type": "code",
   "execution_count": null,
   "metadata": {},
   "outputs": [],
   "source": [
    "# 그래프에서 마이너스 폰트 깨지는 문제에 대한 대처\n",
    "# https://matplotlib.org/examples/api/unicode_minus.html\n",
    "# mpl.rcParams['axes.unicode_minus'] = False"
   ]
  },
  {
   "cell_type": "markdown",
   "metadata": {},
   "source": [
    "## 그래프를 만들기 위해 임의의 데이터 생성"
   ]
  },
  {
   "cell_type": "code",
   "execution_count": 2,
   "metadata": {},
   "outputs": [],
   "source": [
    "import matplotlib.pyplot as plt\n",
    "import matplotlib\n",
    "import matplotlib.font_manager as fm"
   ]
  },
  {
   "cell_type": "code",
   "execution_count": 6,
   "metadata": {},
   "outputs": [
    {
     "data": {
      "text/plain": [
       "array([ -55, -108, -160, -191, -249, -160, -150,  -74,  -96, -148, -232,\n",
       "       -198, -145, -137,  -56,    2,   40,    2,   20,   31,  -61,  -88,\n",
       "        -14,   50,   44,   12,    0,   45,  -27,  -61,  -94, -138, -192,\n",
       "       -173,  -92,  -23,   73,  106,  183,   95,   97,   45,    9,  -48,\n",
       "         51,   83,  140,  199,  154,  157], dtype=int32)"
      ]
     },
     "execution_count": 6,
     "metadata": {},
     "output_type": "execute_result"
    }
   ],
   "source": [
    "import numpy as np\n",
    "data = np.random.randint(-100, 100, 50).cumsum()\n",
    "data"
   ]
  },
  {
   "cell_type": "markdown",
   "metadata": {},
   "source": [
    "## 기본 폰트로 지정되었기 때문에 한글이 깨진다"
   ]
  },
  {
   "cell_type": "code",
   "execution_count": 8,
   "metadata": {},
   "outputs": [
    {
     "data": {
      "text/plain": [
       "Text(0.5, 0, '시간(분)')"
      ]
     },
     "execution_count": 8,
     "metadata": {},
     "output_type": "execute_result"
    },
    {
     "data": {
      "image/png": "[encoded data removed]",
      "text/plain": [
       "<Figure size 432x288 with 1 Axes>"
      ]
     },
     "metadata": {
      "needs_background": "light"
     },
     "output_type": "display_data"
    }
   ],
   "source": [
    "plt.plot(range(50), data, 'r')\n",
    "plt.title('시간별 가격 추이')\n",
    "plt.ylabel('주식 가격')\n",
    "plt.xlabel('시간(분)')"
   ]
  },
  {
   "cell_type": "markdown",
   "metadata": {},
   "source": [
    "## 나눔폰트 설치 후 리빌드"
   ]
  },
  {
   "cell_type": "code",
   "execution_count": 29,
   "metadata": {},
   "outputs": [],
   "source": [
    "matplotlib.font_manager._rebuild()"
   ]
  },
  {
   "cell_type": "markdown",
   "metadata": {},
   "source": [
    "## 설치된 폰트 찍어보기"
   ]
  },
  {
   "cell_type": "code",
   "execution_count": 11,
   "metadata": {},
   "outputs": [
    {
     "data": {
      "text/plain": [
       "['C:\\\\Windows\\\\Fonts\\\\msgothic.ttc',\n",
       " 'C:\\\\Windows\\\\Fonts\\\\verdanaz.ttf',\n",
       " 'C:\\\\Windows\\\\Fonts\\\\gadugib.ttf',\n",
       " 'C:\\\\Windows\\\\Fonts\\\\malgun.ttf',\n",
       " 'C:\\\\Windows\\\\Fonts\\\\LeelawUI.ttf',\n",
       " 'C:\\\\Windows\\\\Fonts\\\\tahomabd.ttf',\n",
       " 'C:\\\\Windows\\\\Fonts\\\\comic.ttf',\n",
       " 'C:\\\\Windows\\\\Fonts\\\\simsun.ttc',\n",
       " 'C:\\\\Windows\\\\Fonts\\\\ebrima.ttf',\n",
       " 'C:\\\\Users\\\\admin\\\\AppData\\\\Local\\\\Microsoft\\\\Windows\\\\Fonts\\\\NanumSquareR.ttf']"
      ]
     },
     "execution_count": 11,
     "metadata": {},
     "output_type": "execute_result"
    }
   ],
   "source": [
    "# 시스템 폰트에서 읽어온 리스트에서 상위 10개만 출력\n",
    "fm.findSystemFonts(fontpaths=None, fontext='ttf')[:10]"
   ]
  },
  {
   "cell_type": "code",
   "execution_count": 12,
   "metadata": {},
   "outputs": [
    {
     "data": {
      "text/plain": [
       "[<Font 'DejaVu Sans Display' (DejaVuSansDisplay.ttf) normal normal 400 normal>,\n",
       " <Font 'STIXSizeThreeSym' (STIXSizThreeSymReg.ttf) normal normal regular normal>,\n",
       " <Font 'cmmi10' (cmmi10.ttf) normal normal 400 normal>,\n",
       " <Font 'STIXSizeFourSym' (STIXSizFourSymBol.ttf) normal normal bold normal>,\n",
       " <Font 'STIXSizeThreeSym' (STIXSizThreeSymBol.ttf) normal normal bold normal>,\n",
       " <Font 'DejaVu Sans' (DejaVuSans-Bold.ttf) normal normal bold normal>,\n",
       " <Font 'DejaVu Serif' (DejaVuSerif-Italic.ttf) italic normal 400 normal>,\n",
       " <Font 'DejaVu Sans' (DejaVuSans-BoldOblique.ttf) oblique normal bold normal>,\n",
       " <Font 'DejaVu Serif' (DejaVuSerif.ttf) normal normal 400 normal>,\n",
       " <Font 'STIXNonUnicode' (STIXNonUniBol.ttf) normal normal bold normal>]"
      ]
     },
     "execution_count": 12,
     "metadata": {},
     "output_type": "execute_result"
    }
   ],
   "source": [
    "# matplotlib 폰트\n",
    "fm.fontManager.ttflist[:10]"
   ]
  },
  {
   "cell_type": "markdown",
   "metadata": {},
   "source": [
    "## 나눔폰트를 사용할 것이기 때문에 이름에 'Nanum'이 들어간 것만 출력"
   ]
  },
  {
   "cell_type": "code",
   "execution_count": 30,
   "metadata": {},
   "outputs": [
    {
     "data": {
      "text/plain": [
       "[('NanumSquare',\n",
       "  'C:\\\\Users\\\\admin\\\\AppData\\\\Local\\\\Microsoft\\\\Windows\\\\Fonts\\\\NanumSquareR.ttf'),\n",
       " ('NanumSquare_ac',\n",
       "  'C:\\\\Users\\\\admin\\\\AppData\\\\Local\\\\Microsoft\\\\Windows\\\\Fonts\\\\NanumSquare_acL.ttf'),\n",
       " ('NanumGothic',\n",
       "  'C:\\\\Users\\\\admin\\\\AppData\\\\Local\\\\Microsoft\\\\Windows\\\\Fonts\\\\NanumGothicLight.ttf'),\n",
       " ('NanumMyeongjo',\n",
       "  'C:\\\\Users\\\\admin\\\\AppData\\\\Local\\\\Microsoft\\\\Windows\\\\Fonts\\\\NanumMyeongjoExtraBold.ttf'),\n",
       " ('NanumBarunGothic',\n",
       "  'C:\\\\Users\\\\admin\\\\AppData\\\\Local\\\\Microsoft\\\\Windows\\\\Fonts\\\\NanumBarunGothicBold.ttf'),\n",
       " ('NanumBarunGothic',\n",
       "  'C:\\\\Users\\\\admin\\\\AppData\\\\Local\\\\Microsoft\\\\Windows\\\\Fonts\\\\NanumBarunGothicUltraLight.ttf'),\n",
       " ('NanumMyeongjo',\n",
       "  'C:\\\\Users\\\\admin\\\\AppData\\\\Local\\\\Microsoft\\\\Windows\\\\Fonts\\\\NanumMyeongjoBold.ttf'),\n",
       " ('NanumSquare',\n",
       "  'C:\\\\Users\\\\admin\\\\AppData\\\\Local\\\\Microsoft\\\\Windows\\\\Fonts\\\\NanumSquareB.ttf'),\n",
       " ('NanumSquareRound',\n",
       "  'C:\\\\Users\\\\admin\\\\AppData\\\\Local\\\\Microsoft\\\\Windows\\\\Fonts\\\\NanumSquareRoundEB.ttf'),\n",
       " ('NanumSquareRound',\n",
       "  'C:\\\\Users\\\\admin\\\\AppData\\\\Local\\\\Microsoft\\\\Windows\\\\Fonts\\\\NanumSquareRoundL.ttf')]"
      ]
     },
     "execution_count": 30,
     "metadata": {},
     "output_type": "execute_result"
    }
   ],
   "source": [
    "[(f.name, f.fname) for f in fm.fontManager.ttflist if 'Nanum' in f.name][:10]"
   ]
  },
  {
   "cell_type": "markdown",
   "metadata": {},
   "source": [
    "## 폰트 사용 방법"
   ]
  },
  {
   "cell_type": "markdown",
   "metadata": {},
   "source": [
    "### fname 옵션을 사용하는 방법"
   ]
  },
  {
   "cell_type": "code",
   "execution_count": 16,
   "metadata": {},
   "outputs": [
    {
     "data": {
      "image/png": "[encoded data removed]",
      "text/plain": [
       "<Figure size 432x288 with 1 Axes>"
      ]
     },
     "metadata": {
      "needs_background": "light"
     },
     "output_type": "display_data"
    }
   ],
   "source": [
    "# 한글 들어가는 곳마다 모두 설정해줘야 함\n",
    "path = 'C:\\\\Users\\\\admin\\\\AppData\\\\Local\\\\Microsoft\\\\Windows\\\\Fonts\\\\NanumBarunGothicUltraLight.ttf'\n",
    "fontprop = fm.FontProperties(fname = path, size = 20)\n",
    "plt.plot(range(50), data, 'r')\n",
    "plt.title('시간별 가격 추이', fontproperties=fontprop)\n",
    "plt.ylabel('주식 가격', fontproperties=fontprop)\n",
    "plt.xlabel('시간(분)', fontproperties=fontprop)\n",
    "plt.show()"
   ]
  },
  {
   "cell_type": "markdown",
   "metadata": {},
   "source": [
    "### matplotlib.rcParams[]로 전역 글꼴 설정"
   ]
  },
  {
   "cell_type": "code",
   "execution_count": 17,
   "metadata": {},
   "outputs": [
    {
     "name": "stdout",
     "output_type": "stream",
     "text": [
      "설정 파일 위치 :  C:\\ProgramData\\Anaconda3\\lib\\site-packages\\matplotlib\\mpl-data\\matplotlibrc\n"
     ]
    }
   ],
   "source": [
    "print('설정 파일 위치 : ', matplotlib.matplotlib_fname())"
   ]
  },
  {
   "cell_type": "code",
   "execution_count": 3,
   "metadata": {},
   "outputs": [
    {
     "name": "stdout",
     "output_type": "stream",
     "text": [
      "# 설정되어 있는 폰트 사이즈\n",
      "10.0\n",
      "# 설정되어 있는 폰트 글꼴\n",
      "['sans-serif']\n"
     ]
    }
   ],
   "source": [
    "# 기본 설정 읽기\n",
    "# size, family\n",
    "print('# 설정되어 있는 폰트 사이즈')\n",
    "print(plt.rcParams['font.size'])\n",
    "print('# 설정되어 있는 폰트 글꼴')\n",
    "print(plt.rcParams['font.family'])"
   ]
  },
  {
   "cell_type": "code",
   "execution_count": 4,
   "metadata": {},
   "outputs": [],
   "source": [
    "plt.rcParams['font.family'] = 'NanumGothic'\n",
    "plt.rcParams['font.size'] = 20\n",
    "plt.rcParams['figure.figsize'] = (14, 4)"
   ]
  },
  {
   "cell_type": "code",
   "execution_count": 7,
   "metadata": {},
   "outputs": [
    {
     "name": "stderr",
     "output_type": "stream",
     "text": [
      "C:\\ProgramData\\Anaconda3\\lib\\site-packages\\matplotlib\\backends\\backend_agg.py:211: RuntimeWarning: Glyph 8722 missing from current font.\n",
      "  font.set_text(s, 0.0, flags=flags)\n",
      "C:\\ProgramData\\Anaconda3\\lib\\site-packages\\matplotlib\\backends\\backend_agg.py:180: RuntimeWarning: Glyph 8722 missing from current font.\n",
      "  font.set_text(s, 0, flags=flags)\n"
     ]
    },
    {
     "data": {
      "image/png": "[encoded data removed]",
      "text/plain": [
       "<Figure size 1008x288 with 1 Axes>"
      ]
     },
     "metadata": {
      "needs_background": "light"
     },
     "output_type": "display_data"
    }
   ],
   "source": [
    "plt.plot(range(50), data, 'r')\n",
    "plt.title('시간별 가격 추이')\n",
    "plt.ylabel('주식 가격')\n",
    "plt.xlabel('시간(분)')\n",
    "plt.show()"
   ]
  },
  {
   "cell_type": "code",
   "execution_count": null,
   "metadata": {},
   "outputs": [],
   "source": []
  }
 ],
 "metadata": {
  "kernelspec": {
   "display_name": "Python 3",
   "language": "python",
   "name": "python3"
  },
  "language_info": {
   "codemirror_mode": {
    "name": "ipython",
    "version": 3
   },
   "file_extension": ".py",
   "mimetype": "text/x-python",
   "name": "python",
   "nbconvert_exporter": "python",
   "pygments_lexer": "ipython3",
   "version": "3.7.6"
  }
 },
 "nbformat": 4,
 "nbformat_minor": 4
}
