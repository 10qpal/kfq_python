{
 "cells": [
  {
   "cell_type": "code",
   "execution_count": 1,
   "metadata": {},
   "outputs": [],
   "source": [
    "import pandas as pd"
   ]
  },
  {
   "cell_type": "markdown",
   "metadata": {},
   "source": [
    "##### 1. 주민등록인구및세대현황.csv 가지고 와서 데이터 프레임으로 작성합니다."
   ]
  },
  {
   "cell_type": "code",
   "execution_count": 2,
   "metadata": {},
   "outputs": [],
   "source": [
    "df = pd.read_csv('주민등록인구및세대현황.csv', encoding='cp949')"
   ]
  },
  {
   "cell_type": "code",
   "execution_count": 3,
   "metadata": {},
   "outputs": [
    {
     "name": "stdout",
     "output_type": "stream",
     "text": [
      "                              행정구역 2020년06월_총인구수 2020년06월_세대수  \\\n",
      "0              서울특별시  (1100000000)     9,720,846    4,384,076   \n",
      "1           서울특별시 종로구 (1111000000)       150,383       74,497   \n",
      "2      서울특별시 종로구 청운효자동(1111051500)        12,609        5,395   \n",
      "3        서울특별시 종로구 사직동(1111053000)         9,506        4,717   \n",
      "4        서울특별시 종로구 삼청동(1111054000)         2,707        1,370   \n",
      "...                            ...           ...          ...   \n",
      "3818  제주특별자치도 서귀포시 서홍동(5013058000)        10,416        4,259   \n",
      "3819  제주특별자치도 서귀포시 대륜동(5013059000)        14,514        6,342   \n",
      "3820  제주특별자치도 서귀포시 대천동(5013060000)        13,820        6,258   \n",
      "3821  제주특별자치도 서귀포시 중문동(5013061000)        11,515        5,439   \n",
      "3822  제주특별자치도 서귀포시 예래동(5013062000)         3,935        1,950   \n",
      "\n",
      "      2020년06월_세대당 인구 2020년06월_남자 인구수 2020년06월_여자 인구수  2020년06월_남여 비율  \n",
      "0                2.22       4,732,275       4,988,571            0.95  \n",
      "1                2.02          73,288          77,095            0.95  \n",
      "2                2.34           5,885           6,724            0.88  \n",
      "3                2.02           4,281           5,225            0.82  \n",
      "4                1.98           1,301           1,406            0.93  \n",
      "...               ...             ...             ...             ...  \n",
      "3818             2.45           5,160           5,256            0.98  \n",
      "3819             2.29           7,359           7,155            1.03  \n",
      "3820             2.21           7,011           6,809            1.03  \n",
      "3821             2.12           5,926           5,589            1.06  \n",
      "3822             2.02           2,041           1,894            1.08  \n",
      "\n",
      "[3823 rows x 7 columns]\n"
     ]
    }
   ],
   "source": [
    "print(df)"
   ]
  },
  {
   "cell_type": "markdown",
   "metadata": {},
   "source": [
    "##### 2. 인구정보 데이터 프레임의 컬럼명을 행정구역, 총인구수, 세대수, 세대당인구, 남자, 여자, 남녀비율 로 변경하세요"
   ]
  },
  {
   "cell_type": "code",
   "execution_count": 4,
   "metadata": {},
   "outputs": [],
   "source": [
    "df.columns = ['행정구역', '총인구수', '세대수', '세대당인구', '남자', '여자', '남녀비율']"
   ]
  },
  {
   "cell_type": "code",
   "execution_count": 5,
   "metadata": {},
   "outputs": [
    {
     "name": "stdout",
     "output_type": "stream",
     "text": [
      "                              행정구역       총인구수        세대수  세대당인구         남자  \\\n",
      "0              서울특별시  (1100000000)  9,720,846  4,384,076   2.22  4,732,275   \n",
      "1           서울특별시 종로구 (1111000000)    150,383     74,497   2.02     73,288   \n",
      "2      서울특별시 종로구 청운효자동(1111051500)     12,609      5,395   2.34      5,885   \n",
      "3        서울특별시 종로구 사직동(1111053000)      9,506      4,717   2.02      4,281   \n",
      "4        서울특별시 종로구 삼청동(1111054000)      2,707      1,370   1.98      1,301   \n",
      "...                            ...        ...        ...    ...        ...   \n",
      "3818  제주특별자치도 서귀포시 서홍동(5013058000)     10,416      4,259   2.45      5,160   \n",
      "3819  제주특별자치도 서귀포시 대륜동(5013059000)     14,514      6,342   2.29      7,359   \n",
      "3820  제주특별자치도 서귀포시 대천동(5013060000)     13,820      6,258   2.21      7,011   \n",
      "3821  제주특별자치도 서귀포시 중문동(5013061000)     11,515      5,439   2.12      5,926   \n",
      "3822  제주특별자치도 서귀포시 예래동(5013062000)      3,935      1,950   2.02      2,041   \n",
      "\n",
      "             여자  남녀비율  \n",
      "0     4,988,571  0.95  \n",
      "1        77,095  0.95  \n",
      "2         6,724  0.88  \n",
      "3         5,225  0.82  \n",
      "4         1,406  0.93  \n",
      "...         ...   ...  \n",
      "3818      5,256  0.98  \n",
      "3819      7,155  1.03  \n",
      "3820      6,809  1.03  \n",
      "3821      5,589  1.06  \n",
      "3822      1,894  1.08  \n",
      "\n",
      "[3823 rows x 7 columns]\n"
     ]
    }
   ],
   "source": [
    "print(df)"
   ]
  },
  {
   "cell_type": "markdown",
   "metadata": {},
   "source": [
    "##### 3. 남녀비율 컬럼을 제거합니다."
   ]
  },
  {
   "cell_type": "code",
   "execution_count": 6,
   "metadata": {},
   "outputs": [],
   "source": [
    "df = df.drop(['남녀비율'], axis=1)"
   ]
  },
  {
   "cell_type": "code",
   "execution_count": 7,
   "metadata": {},
   "outputs": [
    {
     "name": "stdout",
     "output_type": "stream",
     "text": [
      "                              행정구역       총인구수        세대수  세대당인구         남자  \\\n",
      "0              서울특별시  (1100000000)  9,720,846  4,384,076   2.22  4,732,275   \n",
      "1           서울특별시 종로구 (1111000000)    150,383     74,497   2.02     73,288   \n",
      "2      서울특별시 종로구 청운효자동(1111051500)     12,609      5,395   2.34      5,885   \n",
      "3        서울특별시 종로구 사직동(1111053000)      9,506      4,717   2.02      4,281   \n",
      "4        서울특별시 종로구 삼청동(1111054000)      2,707      1,370   1.98      1,301   \n",
      "...                            ...        ...        ...    ...        ...   \n",
      "3818  제주특별자치도 서귀포시 서홍동(5013058000)     10,416      4,259   2.45      5,160   \n",
      "3819  제주특별자치도 서귀포시 대륜동(5013059000)     14,514      6,342   2.29      7,359   \n",
      "3820  제주특별자치도 서귀포시 대천동(5013060000)     13,820      6,258   2.21      7,011   \n",
      "3821  제주특별자치도 서귀포시 중문동(5013061000)     11,515      5,439   2.12      5,926   \n",
      "3822  제주특별자치도 서귀포시 예래동(5013062000)      3,935      1,950   2.02      2,041   \n",
      "\n",
      "             여자  \n",
      "0     4,988,571  \n",
      "1        77,095  \n",
      "2         6,724  \n",
      "3         5,225  \n",
      "4         1,406  \n",
      "...         ...  \n",
      "3818      5,256  \n",
      "3819      7,155  \n",
      "3820      6,809  \n",
      "3821      5,589  \n",
      "3822      1,894  \n",
      "\n",
      "[3823 rows x 6 columns]\n"
     ]
    }
   ],
   "source": [
    "print(df)"
   ]
  },
  {
   "cell_type": "markdown",
   "metadata": {},
   "source": [
    "##### 4. 행정구역 컬럼의 ‘(’ ‘)’를 제거하고 시,구,동 컬럼을 만들어 분리해 넣고 대구지역의 값만 가지고 와서 인덱스를 새로 부여합니다."
   ]
  },
  {
   "cell_type": "code",
   "execution_count": 8,
   "metadata": {},
   "outputs": [
    {
     "name": "stdout",
     "output_type": "stream",
     "text": [
      "0                서울특별시  \n",
      "1             서울특별시 종로구 \n",
      "2        서울특별시 종로구 청운효자동\n",
      "3          서울특별시 종로구 사직동\n",
      "4          서울특별시 종로구 삼청동\n",
      "              ...       \n",
      "3818    제주특별자치도 서귀포시 서홍동\n",
      "3819    제주특별자치도 서귀포시 대륜동\n",
      "3820    제주특별자치도 서귀포시 대천동\n",
      "3821    제주특별자치도 서귀포시 중문동\n",
      "3822    제주특별자치도 서귀포시 예래동\n",
      "Name: 행정구역, Length: 3823, dtype: object\n",
      "\n",
      "0         서울특별시\n",
      "1         서울특별시\n",
      "2         서울특별시\n",
      "3         서울특별시\n",
      "4         서울특별시\n",
      "         ...   \n",
      "3818    제주특별자치도\n",
      "3819    제주특별자치도\n",
      "3820    제주특별자치도\n",
      "3821    제주특별자치도\n",
      "3822    제주특별자치도\n",
      "Name: 시, Length: 3823, dtype: object\n",
      "\n",
      "0           \n",
      "1        종로구\n",
      "2        종로구\n",
      "3        종로구\n",
      "4        종로구\n",
      "        ... \n",
      "3818    서귀포시\n",
      "3819    서귀포시\n",
      "3820    서귀포시\n",
      "3821    서귀포시\n",
      "3822    서귀포시\n",
      "Name: 구, Length: 3823, dtype: object\n",
      "\n",
      "0            \n",
      "1            \n",
      "2       청운효자동\n",
      "3         사직동\n",
      "4         삼청동\n",
      "        ...  \n",
      "3818      서홍동\n",
      "3819      대륜동\n",
      "3820      대천동\n",
      "3821      중문동\n",
      "3822      예래동\n",
      "Name: 동, Length: 3823, dtype: object\n"
     ]
    }
   ],
   "source": [
    "df['행정구역'] = df['행정구역'].str.split('(').str[0]\n",
    "print(df['행정구역'])\n",
    "print()\n",
    "df['시'] = df['행정구역'].str.split(' ').str[0]\n",
    "df['구'] = df['행정구역'].str.split(' ').str[1]\n",
    "df['동'] = df['행정구역'].str.split(' ').str[2]\n",
    "print(df['시'])\n",
    "print()\n",
    "print(df['구'])\n",
    "print()\n",
    "print(df['동'])"
   ]
  },
  {
   "cell_type": "code",
   "execution_count": 9,
   "metadata": {},
   "outputs": [
    {
     "name": "stdout",
     "output_type": "stream",
     "text": [
      "              행정구역       총인구수        세대수  세대당인구         남자         여자      시  \\\n",
      "673        대구광역시    2,427,954  1,046,585   2.32  1,198,815  1,229,139  대구광역시   \n",
      "674      대구광역시 중구      76,984     38,954   1.98     37,036     39,948  대구광역시   \n",
      "675   대구광역시 중구 동인동      8,755      5,183   1.69      4,341      4,414  대구광역시   \n",
      "676   대구광역시 중구 삼덕동      6,733      4,018   1.68      3,186      3,547  대구광역시   \n",
      "677  대구광역시 중구 성내1동      5,033      3,349   1.50      2,394      2,639  대구광역시   \n",
      "..             ...        ...        ...    ...        ...        ...    ...   \n",
      "818  대구광역시 달성군 옥포읍     25,236     10,907   2.31     12,774     12,462  대구광역시   \n",
      "819  대구광역시 달성군 현풍읍     23,509     11,775   2.00     12,263     11,246  대구광역시   \n",
      "820  대구광역시 달성군 가창면      8,041      3,754   2.14      4,004      4,037  대구광역시   \n",
      "821  대구광역시 달성군 하빈면      3,725      2,025   1.84      2,014      1,711  대구광역시   \n",
      "822  대구광역시 달성군 구지면      9,514      4,775   1.99      5,104      4,410  대구광역시   \n",
      "\n",
      "       구     동  \n",
      "673             \n",
      "674   중구        \n",
      "675   중구   동인동  \n",
      "676   중구   삼덕동  \n",
      "677   중구  성내1동  \n",
      "..   ...   ...  \n",
      "818  달성군   옥포읍  \n",
      "819  달성군   현풍읍  \n",
      "820  달성군   가창면  \n",
      "821  달성군   하빈면  \n",
      "822  달성군   구지면  \n",
      "\n",
      "[150 rows x 9 columns]\n"
     ]
    }
   ],
   "source": [
    "condition = (df['시'] == '대구광역시')\n",
    "df_daegu = df[condition]\n",
    "\n",
    "print(df_daegu)"
   ]
  },
  {
   "cell_type": "markdown",
   "metadata": {},
   "source": [
    "##### 5. 총인구수, 남자, 여자 컬럼의 데이타 타입을 정수형으로 변경합니다."
   ]
  },
  {
   "cell_type": "code",
   "execution_count": 10,
   "metadata": {},
   "outputs": [
    {
     "ename": "ValueError",
     "evalue": "could not convert string to float: '2,427,954'",
     "output_type": "error",
     "traceback": [
      "\u001b[1;31m---------------------------------------------------------------------------\u001b[0m",
      "\u001b[1;31mValueError\u001b[0m                                Traceback (most recent call last)",
      "\u001b[1;32m<ipython-input-10-706e622eb6dd>\u001b[0m in \u001b[0;36m<module>\u001b[1;34m\u001b[0m\n\u001b[1;32m----> 1\u001b[1;33m \u001b[0mdf_daegu\u001b[0m\u001b[1;33m[\u001b[0m\u001b[1;34m'총인구수'\u001b[0m\u001b[1;33m]\u001b[0m \u001b[1;33m=\u001b[0m \u001b[0mdf_daegu\u001b[0m\u001b[1;33m[\u001b[0m\u001b[1;34m'총인구수'\u001b[0m\u001b[1;33m]\u001b[0m\u001b[1;33m.\u001b[0m\u001b[0mastype\u001b[0m\u001b[1;33m(\u001b[0m\u001b[0mfloat\u001b[0m\u001b[1;33m)\u001b[0m\u001b[1;33m\u001b[0m\u001b[1;33m\u001b[0m\u001b[0m\n\u001b[0m\u001b[0;32m      2\u001b[0m \u001b[0mdf_daegu\u001b[0m\u001b[1;33m[\u001b[0m\u001b[1;34m'총인구수'\u001b[0m\u001b[1;33m]\u001b[0m \u001b[1;33m=\u001b[0m \u001b[0mdf_daegu\u001b[0m\u001b[1;33m[\u001b[0m\u001b[1;34m'총인구수'\u001b[0m\u001b[1;33m]\u001b[0m\u001b[1;33m.\u001b[0m\u001b[0mapply\u001b[0m\u001b[1;33m(\u001b[0m\u001b[0mpd\u001b[0m\u001b[1;33m.\u001b[0m\u001b[0mto_numeric\u001b[0m\u001b[1;33m)\u001b[0m\u001b[1;33m\u001b[0m\u001b[1;33m\u001b[0m\u001b[0m\n\u001b[0;32m      3\u001b[0m \u001b[0mdf_daegu\u001b[0m\u001b[1;33m[\u001b[0m\u001b[1;34m'남자'\u001b[0m\u001b[1;33m]\u001b[0m \u001b[1;33m=\u001b[0m \u001b[0mdf_daegu\u001b[0m\u001b[1;33m[\u001b[0m\u001b[1;34m'남자'\u001b[0m\u001b[1;33m]\u001b[0m\u001b[1;33m.\u001b[0m\u001b[0mastype\u001b[0m\u001b[1;33m(\u001b[0m\u001b[0mfloat\u001b[0m\u001b[1;33m)\u001b[0m\u001b[1;33m\u001b[0m\u001b[1;33m\u001b[0m\u001b[0m\n\u001b[0;32m      4\u001b[0m \u001b[0mdf_daegu\u001b[0m\u001b[1;33m[\u001b[0m\u001b[1;34m'남자'\u001b[0m\u001b[1;33m]\u001b[0m \u001b[1;33m=\u001b[0m \u001b[0mdf_daegu\u001b[0m\u001b[1;33m[\u001b[0m\u001b[1;34m'남자'\u001b[0m\u001b[1;33m]\u001b[0m\u001b[1;33m.\u001b[0m\u001b[0mapply\u001b[0m\u001b[1;33m(\u001b[0m\u001b[0mpd\u001b[0m\u001b[1;33m.\u001b[0m\u001b[0mto_numeric\u001b[0m\u001b[1;33m)\u001b[0m\u001b[1;33m\u001b[0m\u001b[1;33m\u001b[0m\u001b[0m\n\u001b[0;32m      5\u001b[0m \u001b[0mdf_daegu\u001b[0m\u001b[1;33m[\u001b[0m\u001b[1;34m'여자'\u001b[0m\u001b[1;33m]\u001b[0m \u001b[1;33m=\u001b[0m \u001b[0mdf_daegu\u001b[0m\u001b[1;33m[\u001b[0m\u001b[1;34m'여자'\u001b[0m\u001b[1;33m]\u001b[0m\u001b[1;33m.\u001b[0m\u001b[0mastype\u001b[0m\u001b[1;33m(\u001b[0m\u001b[0mfloat\u001b[0m\u001b[1;33m)\u001b[0m\u001b[1;33m\u001b[0m\u001b[1;33m\u001b[0m\u001b[0m\n",
      "\u001b[1;32mC:\\ProgramData\\Anaconda3\\lib\\site-packages\\pandas\\core\\generic.py\u001b[0m in \u001b[0;36mastype\u001b[1;34m(self, dtype, copy, errors)\u001b[0m\n\u001b[0;32m   5696\u001b[0m         \u001b[1;32melse\u001b[0m\u001b[1;33m:\u001b[0m\u001b[1;33m\u001b[0m\u001b[1;33m\u001b[0m\u001b[0m\n\u001b[0;32m   5697\u001b[0m             \u001b[1;31m# else, only a single dtype is given\u001b[0m\u001b[1;33m\u001b[0m\u001b[1;33m\u001b[0m\u001b[1;33m\u001b[0m\u001b[0m\n\u001b[1;32m-> 5698\u001b[1;33m             \u001b[0mnew_data\u001b[0m \u001b[1;33m=\u001b[0m \u001b[0mself\u001b[0m\u001b[1;33m.\u001b[0m\u001b[0m_data\u001b[0m\u001b[1;33m.\u001b[0m\u001b[0mastype\u001b[0m\u001b[1;33m(\u001b[0m\u001b[0mdtype\u001b[0m\u001b[1;33m=\u001b[0m\u001b[0mdtype\u001b[0m\u001b[1;33m,\u001b[0m \u001b[0mcopy\u001b[0m\u001b[1;33m=\u001b[0m\u001b[0mcopy\u001b[0m\u001b[1;33m,\u001b[0m \u001b[0merrors\u001b[0m\u001b[1;33m=\u001b[0m\u001b[0merrors\u001b[0m\u001b[1;33m)\u001b[0m\u001b[1;33m\u001b[0m\u001b[1;33m\u001b[0m\u001b[0m\n\u001b[0m\u001b[0;32m   5699\u001b[0m             \u001b[1;32mreturn\u001b[0m \u001b[0mself\u001b[0m\u001b[1;33m.\u001b[0m\u001b[0m_constructor\u001b[0m\u001b[1;33m(\u001b[0m\u001b[0mnew_data\u001b[0m\u001b[1;33m)\u001b[0m\u001b[1;33m.\u001b[0m\u001b[0m__finalize__\u001b[0m\u001b[1;33m(\u001b[0m\u001b[0mself\u001b[0m\u001b[1;33m)\u001b[0m\u001b[1;33m\u001b[0m\u001b[1;33m\u001b[0m\u001b[0m\n\u001b[0;32m   5700\u001b[0m \u001b[1;33m\u001b[0m\u001b[0m\n",
      "\u001b[1;32mC:\\ProgramData\\Anaconda3\\lib\\site-packages\\pandas\\core\\internals\\managers.py\u001b[0m in \u001b[0;36mastype\u001b[1;34m(self, dtype, copy, errors)\u001b[0m\n\u001b[0;32m    580\u001b[0m \u001b[1;33m\u001b[0m\u001b[0m\n\u001b[0;32m    581\u001b[0m     \u001b[1;32mdef\u001b[0m \u001b[0mastype\u001b[0m\u001b[1;33m(\u001b[0m\u001b[0mself\u001b[0m\u001b[1;33m,\u001b[0m \u001b[0mdtype\u001b[0m\u001b[1;33m,\u001b[0m \u001b[0mcopy\u001b[0m\u001b[1;33m:\u001b[0m \u001b[0mbool\u001b[0m \u001b[1;33m=\u001b[0m \u001b[1;32mFalse\u001b[0m\u001b[1;33m,\u001b[0m \u001b[0merrors\u001b[0m\u001b[1;33m:\u001b[0m \u001b[0mstr\u001b[0m \u001b[1;33m=\u001b[0m \u001b[1;34m\"raise\"\u001b[0m\u001b[1;33m)\u001b[0m\u001b[1;33m:\u001b[0m\u001b[1;33m\u001b[0m\u001b[1;33m\u001b[0m\u001b[0m\n\u001b[1;32m--> 582\u001b[1;33m         \u001b[1;32mreturn\u001b[0m \u001b[0mself\u001b[0m\u001b[1;33m.\u001b[0m\u001b[0mapply\u001b[0m\u001b[1;33m(\u001b[0m\u001b[1;34m\"astype\"\u001b[0m\u001b[1;33m,\u001b[0m \u001b[0mdtype\u001b[0m\u001b[1;33m=\u001b[0m\u001b[0mdtype\u001b[0m\u001b[1;33m,\u001b[0m \u001b[0mcopy\u001b[0m\u001b[1;33m=\u001b[0m\u001b[0mcopy\u001b[0m\u001b[1;33m,\u001b[0m \u001b[0merrors\u001b[0m\u001b[1;33m=\u001b[0m\u001b[0merrors\u001b[0m\u001b[1;33m)\u001b[0m\u001b[1;33m\u001b[0m\u001b[1;33m\u001b[0m\u001b[0m\n\u001b[0m\u001b[0;32m    583\u001b[0m \u001b[1;33m\u001b[0m\u001b[0m\n\u001b[0;32m    584\u001b[0m     \u001b[1;32mdef\u001b[0m \u001b[0mconvert\u001b[0m\u001b[1;33m(\u001b[0m\u001b[0mself\u001b[0m\u001b[1;33m,\u001b[0m \u001b[1;33m**\u001b[0m\u001b[0mkwargs\u001b[0m\u001b[1;33m)\u001b[0m\u001b[1;33m:\u001b[0m\u001b[1;33m\u001b[0m\u001b[1;33m\u001b[0m\u001b[0m\n",
      "\u001b[1;32mC:\\ProgramData\\Anaconda3\\lib\\site-packages\\pandas\\core\\internals\\managers.py\u001b[0m in \u001b[0;36mapply\u001b[1;34m(self, f, filter, **kwargs)\u001b[0m\n\u001b[0;32m    440\u001b[0m                 \u001b[0mapplied\u001b[0m \u001b[1;33m=\u001b[0m \u001b[0mb\u001b[0m\u001b[1;33m.\u001b[0m\u001b[0mapply\u001b[0m\u001b[1;33m(\u001b[0m\u001b[0mf\u001b[0m\u001b[1;33m,\u001b[0m \u001b[1;33m**\u001b[0m\u001b[0mkwargs\u001b[0m\u001b[1;33m)\u001b[0m\u001b[1;33m\u001b[0m\u001b[1;33m\u001b[0m\u001b[0m\n\u001b[0;32m    441\u001b[0m             \u001b[1;32melse\u001b[0m\u001b[1;33m:\u001b[0m\u001b[1;33m\u001b[0m\u001b[1;33m\u001b[0m\u001b[0m\n\u001b[1;32m--> 442\u001b[1;33m                 \u001b[0mapplied\u001b[0m \u001b[1;33m=\u001b[0m \u001b[0mgetattr\u001b[0m\u001b[1;33m(\u001b[0m\u001b[0mb\u001b[0m\u001b[1;33m,\u001b[0m \u001b[0mf\u001b[0m\u001b[1;33m)\u001b[0m\u001b[1;33m(\u001b[0m\u001b[1;33m**\u001b[0m\u001b[0mkwargs\u001b[0m\u001b[1;33m)\u001b[0m\u001b[1;33m\u001b[0m\u001b[1;33m\u001b[0m\u001b[0m\n\u001b[0m\u001b[0;32m    443\u001b[0m             \u001b[0mresult_blocks\u001b[0m \u001b[1;33m=\u001b[0m \u001b[0m_extend_blocks\u001b[0m\u001b[1;33m(\u001b[0m\u001b[0mapplied\u001b[0m\u001b[1;33m,\u001b[0m \u001b[0mresult_blocks\u001b[0m\u001b[1;33m)\u001b[0m\u001b[1;33m\u001b[0m\u001b[1;33m\u001b[0m\u001b[0m\n\u001b[0;32m    444\u001b[0m \u001b[1;33m\u001b[0m\u001b[0m\n",
      "\u001b[1;32mC:\\ProgramData\\Anaconda3\\lib\\site-packages\\pandas\\core\\internals\\blocks.py\u001b[0m in \u001b[0;36mastype\u001b[1;34m(self, dtype, copy, errors)\u001b[0m\n\u001b[0;32m    623\u001b[0m             \u001b[0mvals1d\u001b[0m \u001b[1;33m=\u001b[0m \u001b[0mvalues\u001b[0m\u001b[1;33m.\u001b[0m\u001b[0mravel\u001b[0m\u001b[1;33m(\u001b[0m\u001b[1;33m)\u001b[0m\u001b[1;33m\u001b[0m\u001b[1;33m\u001b[0m\u001b[0m\n\u001b[0;32m    624\u001b[0m             \u001b[1;32mtry\u001b[0m\u001b[1;33m:\u001b[0m\u001b[1;33m\u001b[0m\u001b[1;33m\u001b[0m\u001b[0m\n\u001b[1;32m--> 625\u001b[1;33m                 \u001b[0mvalues\u001b[0m \u001b[1;33m=\u001b[0m \u001b[0mastype_nansafe\u001b[0m\u001b[1;33m(\u001b[0m\u001b[0mvals1d\u001b[0m\u001b[1;33m,\u001b[0m \u001b[0mdtype\u001b[0m\u001b[1;33m,\u001b[0m \u001b[0mcopy\u001b[0m\u001b[1;33m=\u001b[0m\u001b[1;32mTrue\u001b[0m\u001b[1;33m)\u001b[0m\u001b[1;33m\u001b[0m\u001b[1;33m\u001b[0m\u001b[0m\n\u001b[0m\u001b[0;32m    626\u001b[0m             \u001b[1;32mexcept\u001b[0m \u001b[1;33m(\u001b[0m\u001b[0mValueError\u001b[0m\u001b[1;33m,\u001b[0m \u001b[0mTypeError\u001b[0m\u001b[1;33m)\u001b[0m\u001b[1;33m:\u001b[0m\u001b[1;33m\u001b[0m\u001b[1;33m\u001b[0m\u001b[0m\n\u001b[0;32m    627\u001b[0m                 \u001b[1;31m# e.g. astype_nansafe can fail on object-dtype of strings\u001b[0m\u001b[1;33m\u001b[0m\u001b[1;33m\u001b[0m\u001b[1;33m\u001b[0m\u001b[0m\n",
      "\u001b[1;32mC:\\ProgramData\\Anaconda3\\lib\\site-packages\\pandas\\core\\dtypes\\cast.py\u001b[0m in \u001b[0;36mastype_nansafe\u001b[1;34m(arr, dtype, copy, skipna)\u001b[0m\n\u001b[0;32m    895\u001b[0m     \u001b[1;32mif\u001b[0m \u001b[0mcopy\u001b[0m \u001b[1;32mor\u001b[0m \u001b[0mis_object_dtype\u001b[0m\u001b[1;33m(\u001b[0m\u001b[0marr\u001b[0m\u001b[1;33m)\u001b[0m \u001b[1;32mor\u001b[0m \u001b[0mis_object_dtype\u001b[0m\u001b[1;33m(\u001b[0m\u001b[0mdtype\u001b[0m\u001b[1;33m)\u001b[0m\u001b[1;33m:\u001b[0m\u001b[1;33m\u001b[0m\u001b[1;33m\u001b[0m\u001b[0m\n\u001b[0;32m    896\u001b[0m         \u001b[1;31m# Explicit copy, or required since NumPy can't view from / to object.\u001b[0m\u001b[1;33m\u001b[0m\u001b[1;33m\u001b[0m\u001b[1;33m\u001b[0m\u001b[0m\n\u001b[1;32m--> 897\u001b[1;33m         \u001b[1;32mreturn\u001b[0m \u001b[0marr\u001b[0m\u001b[1;33m.\u001b[0m\u001b[0mastype\u001b[0m\u001b[1;33m(\u001b[0m\u001b[0mdtype\u001b[0m\u001b[1;33m,\u001b[0m \u001b[0mcopy\u001b[0m\u001b[1;33m=\u001b[0m\u001b[1;32mTrue\u001b[0m\u001b[1;33m)\u001b[0m\u001b[1;33m\u001b[0m\u001b[1;33m\u001b[0m\u001b[0m\n\u001b[0m\u001b[0;32m    898\u001b[0m \u001b[1;33m\u001b[0m\u001b[0m\n\u001b[0;32m    899\u001b[0m     \u001b[1;32mreturn\u001b[0m \u001b[0marr\u001b[0m\u001b[1;33m.\u001b[0m\u001b[0mview\u001b[0m\u001b[1;33m(\u001b[0m\u001b[0mdtype\u001b[0m\u001b[1;33m)\u001b[0m\u001b[1;33m\u001b[0m\u001b[1;33m\u001b[0m\u001b[0m\n",
      "\u001b[1;31mValueError\u001b[0m: could not convert string to float: '2,427,954'"
     ]
    }
   ],
   "source": [
    "df_daegu['총인구수'] = df_daegu['총인구수'].astype(float)\n",
    "# df_daegu['총인구수'] = df_daegu['총인구수'].apply(pd.to_numeric)\n",
    "df_daegu['남자'] = df_daegu['남자'].astype(float)\n",
    "# df_daegu['남자'] = df_daegu['남자'].apply(pd.to_numeric)\n",
    "df_daegu['여자'] = df_daegu['여자'].astype(float)\n",
    "# df_daegu['여자'] = df_daegu['여자'].apply(pd.to_numeric)"
   ]
  },
  {
   "cell_type": "code",
   "execution_count": 101,
   "metadata": {},
   "outputs": [],
   "source": []
  },
  {
   "cell_type": "markdown",
   "metadata": {
    "jupyter": {
     "outputs_hidden": true
    }
   },
   "source": [
    "##### 6. 동별로 대구 인구를 차트로 표시합니다."
   ]
  },
  {
   "cell_type": "code",
   "execution_count": 25,
   "metadata": {},
   "outputs": [
    {
     "data": {
      "text/plain": [
       "<BarContainer object of 9 artists>"
      ]
     },
     "execution_count": 25,
     "metadata": {},
     "output_type": "execute_result"
    },
    {
     "data": {
      "image/png": "[encoded data removed]",
      "text/plain": [
       "<Figure size 432x288 with 1 Axes>"
      ]
     },
     "metadata": {
      "needs_background": "light"
     },
     "output_type": "display_data"
    }
   ],
   "source": [
    "%matplotlib inline\n",
    "import matplotlib.pyplot as plt\n",
    "import matplotlib as mpl\n",
    "import numpy as np\n",
    "\n",
    "import warnings\n",
    "warnings.filterwarnings('ignore')\n",
    "mpl.rcParams['axes.unicode_minus'] = False\n",
    "\n",
    "x = df_daegu['구'].unique()\n",
    "y = df_daegu.groupby('구')['총인구수'].sum()\n",
    "plt.bar(x, y)\n"
   ]
  },
  {
   "cell_type": "code",
   "execution_count": null,
   "metadata": {},
   "outputs": [],
   "source": [
    "plt.bar(x, y1, alpha=0.5)"
   ]
  },
  {
   "cell_type": "markdown",
   "metadata": {},
   "source": [
    "##### 7. 동별 남,여 인구를 차트로 표시합니다."
   ]
  },
  {
   "cell_type": "code",
   "execution_count": null,
   "metadata": {},
   "outputs": [],
   "source": []
  },
  {
   "cell_type": "code",
   "execution_count": null,
   "metadata": {},
   "outputs": [],
   "source": []
  },
  {
   "cell_type": "markdown",
   "metadata": {},
   "source": [
    "##### 8. Choropleth, geojson 등을 이용하여 동별 인구수를 색상별로 지도에 나타내시오"
   ]
  },
  {
   "cell_type": "code",
   "execution_count": null,
   "metadata": {},
   "outputs": [],
   "source": []
  },
  {
   "cell_type": "code",
   "execution_count": null,
   "metadata": {},
   "outputs": [],
   "source": []
  }
 ],
 "metadata": {
  "kernelspec": {
   "display_name": "Python 3",
   "language": "python",
   "name": "python3"
  },
  "language_info": {
   "codemirror_mode": {
    "name": "ipython",
    "version": 3
   },
   "file_extension": ".py",
   "mimetype": "text/x-python",
   "name": "python",
   "nbconvert_exporter": "python",
   "pygments_lexer": "ipython3",
   "version": "3.7.6"
  }
 },
 "nbformat": 4,
 "nbformat_minor": 4
}
