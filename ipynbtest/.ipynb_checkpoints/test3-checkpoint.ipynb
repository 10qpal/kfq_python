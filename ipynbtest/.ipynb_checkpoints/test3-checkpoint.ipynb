{
 "cells": [
  {
   "cell_type": "code",
   "execution_count": 1,
   "metadata": {},
   "outputs": [],
   "source": [
    "html_doc = \"\"\"\n",
    "<html><head><title>The Dormouse's story</title></head>\n",
    "<body>\n",
    "<p class=\"title\"><b>The Dormouse's story</b></p>\n",
    "\n",
    "<p class=\"story\">Once upon a time there were three little sisters; and their names were\n",
    "<a href=\"http://example.com/elsie\" class=\"sister\" id=\"link1\">Elsie</a>,\n",
    "<a href=\"http://example.com/lacie\" class=\"sister\" id=\"link2\">Lacie</a> and\n",
    "<a href=\"http://example.com/tillie\" class=\"sister\" id=\"link3\">Tillie</a>;\n",
    "and they lived at the bottom of a well.</p>\n",
    "\n",
    "<p class=\"story\">...</p>\n",
    "\"\"\""
   ]
  },
  {
   "cell_type": "code",
   "execution_count": 2,
   "metadata": {},
   "outputs": [],
   "source": [
    "from bs4 import BeautifulSoup"
   ]
  },
  {
   "cell_type": "code",
   "execution_count": 3,
   "metadata": {},
   "outputs": [],
   "source": [
    "soup = BeautifulSoup(html_doc, 'html.parser')"
   ]
  },
  {
   "cell_type": "code",
   "execution_count": 4,
   "metadata": {},
   "outputs": [
    {
     "data": {
      "text/plain": [
       "\n",
       "<html><head><title>The Dormouse's story</title></head>\n",
       "<body>\n",
       "<p class=\"title\"><b>The Dormouse's story</b></p>\n",
       "<p class=\"story\">Once upon a time there were three little sisters; and their names were\n",
       "<a class=\"sister\" href=\"http://example.com/elsie\" id=\"link1\">Elsie</a>,\n",
       "<a class=\"sister\" href=\"http://example.com/lacie\" id=\"link2\">Lacie</a> and\n",
       "<a class=\"sister\" href=\"http://example.com/tillie\" id=\"link3\">Tillie</a>;\n",
       "and they lived at the bottom of a well.</p>\n",
       "<p class=\"story\">...</p>\n",
       "</body></html>"
      ]
     },
     "execution_count": 4,
     "metadata": {},
     "output_type": "execute_result"
    }
   ],
   "source": [
    "soup"
   ]
  },
  {
   "cell_type": "code",
   "execution_count": 6,
   "metadata": {},
   "outputs": [
    {
     "name": "stdout",
     "output_type": "stream",
     "text": [
      "<html>\n",
      " <head>\n",
      "  <title>\n",
      "   The Dormouse's story\n",
      "  </title>\n",
      " </head>\n",
      " <body>\n",
      "  <p class=\"title\">\n",
      "   <b>\n",
      "    The Dormouse's story\n",
      "   </b>\n",
      "  </p>\n",
      "  <p class=\"story\">\n",
      "   Once upon a time there were three little sisters; and their names were\n",
      "   <a class=\"sister\" href=\"http://example.com/elsie\" id=\"link1\">\n",
      "    Elsie\n",
      "   </a>\n",
      "   ,\n",
      "   <a class=\"sister\" href=\"http://example.com/lacie\" id=\"link2\">\n",
      "    Lacie\n",
      "   </a>\n",
      "   and\n",
      "   <a class=\"sister\" href=\"http://example.com/tillie\" id=\"link3\">\n",
      "    Tillie\n",
      "   </a>\n",
      "   ;\n",
      "and they lived at the bottom of a well.\n",
      "  </p>\n",
      "  <p class=\"story\">\n",
      "   ...\n",
      "  </p>\n",
      " </body>\n",
      "</html>\n"
     ]
    }
   ],
   "source": [
    "print(soup.prettify())"
   ]
  },
  {
   "cell_type": "code",
   "execution_count": 7,
   "metadata": {},
   "outputs": [
    {
     "data": {
      "text/plain": [
       "<title>The Dormouse's story</title>"
      ]
     },
     "execution_count": 7,
     "metadata": {},
     "output_type": "execute_result"
    }
   ],
   "source": [
    "soup.title"
   ]
  },
  {
   "cell_type": "code",
   "execution_count": 9,
   "metadata": {},
   "outputs": [
    {
     "data": {
      "text/plain": [
       "'title'"
      ]
     },
     "execution_count": 9,
     "metadata": {},
     "output_type": "execute_result"
    }
   ],
   "source": [
    "soup.title.name"
   ]
  },
  {
   "cell_type": "code",
   "execution_count": 8,
   "metadata": {},
   "outputs": [
    {
     "data": {
      "text/plain": [
       "<body>\n",
       "<p class=\"title\"><b>The Dormouse's story</b></p>\n",
       "<p class=\"story\">Once upon a time there were three little sisters; and their names were\n",
       "<a class=\"sister\" href=\"http://example.com/elsie\" id=\"link1\">Elsie</a>,\n",
       "<a class=\"sister\" href=\"http://example.com/lacie\" id=\"link2\">Lacie</a> and\n",
       "<a class=\"sister\" href=\"http://example.com/tillie\" id=\"link3\">Tillie</a>;\n",
       "and they lived at the bottom of a well.</p>\n",
       "<p class=\"story\">...</p>\n",
       "</body>"
      ]
     },
     "execution_count": 8,
     "metadata": {},
     "output_type": "execute_result"
    }
   ],
   "source": [
    "soup.body"
   ]
  },
  {
   "cell_type": "code",
   "execution_count": 10,
   "metadata": {},
   "outputs": [
    {
     "data": {
      "text/plain": [
       "\"The Dormouse's story\""
      ]
     },
     "execution_count": 10,
     "metadata": {},
     "output_type": "execute_result"
    }
   ],
   "source": [
    "soup.b.string"
   ]
  },
  {
   "cell_type": "code",
   "execution_count": 11,
   "metadata": {},
   "outputs": [
    {
     "data": {
      "text/plain": [
       "\"The Dormouse's story\""
      ]
     },
     "execution_count": 11,
     "metadata": {},
     "output_type": "execute_result"
    }
   ],
   "source": [
    "soup.p.string"
   ]
  },
  {
   "cell_type": "code",
   "execution_count": 12,
   "metadata": {},
   "outputs": [
    {
     "data": {
      "text/plain": [
       "'head'"
      ]
     },
     "execution_count": 12,
     "metadata": {},
     "output_type": "execute_result"
    }
   ],
   "source": [
    "soup.title.parent.name"
   ]
  },
  {
   "cell_type": "code",
   "execution_count": 14,
   "metadata": {},
   "outputs": [],
   "source": [
    "c1 = soup.p"
   ]
  },
  {
   "cell_type": "code",
   "execution_count": 15,
   "metadata": {},
   "outputs": [
    {
     "data": {
      "text/plain": [
       "<b>The Dormouse's story</b>"
      ]
     },
     "execution_count": 15,
     "metadata": {},
     "output_type": "execute_result"
    }
   ],
   "source": [
    "c1.b"
   ]
  },
  {
   "cell_type": "code",
   "execution_count": 16,
   "metadata": {},
   "outputs": [
    {
     "data": {
      "text/plain": [
       "['title']"
      ]
     },
     "execution_count": 16,
     "metadata": {},
     "output_type": "execute_result"
    }
   ],
   "source": [
    "c1['class']"
   ]
  },
  {
   "cell_type": "code",
   "execution_count": 17,
   "metadata": {},
   "outputs": [
    {
     "data": {
      "text/plain": [
       "<a class=\"sister\" href=\"http://example.com/elsie\" id=\"link1\">Elsie</a>"
      ]
     },
     "execution_count": 17,
     "metadata": {},
     "output_type": "execute_result"
    }
   ],
   "source": [
    "soup.a"
   ]
  },
  {
   "cell_type": "code",
   "execution_count": 18,
   "metadata": {},
   "outputs": [
    {
     "data": {
      "text/plain": [
       "[<a class=\"sister\" href=\"http://example.com/elsie\" id=\"link1\">Elsie</a>,\n",
       " <a class=\"sister\" href=\"http://example.com/lacie\" id=\"link2\">Lacie</a>,\n",
       " <a class=\"sister\" href=\"http://example.com/tillie\" id=\"link3\">Tillie</a>]"
      ]
     },
     "execution_count": 18,
     "metadata": {},
     "output_type": "execute_result"
    }
   ],
   "source": [
    "alist = soup.find_all('a')\n",
    "alist"
   ]
  },
  {
   "cell_type": "code",
   "execution_count": 19,
   "metadata": {},
   "outputs": [
    {
     "data": {
      "text/plain": [
       "bs4.element.ResultSet"
      ]
     },
     "execution_count": 19,
     "metadata": {},
     "output_type": "execute_result"
    }
   ],
   "source": [
    "type(alist)"
   ]
  },
  {
   "cell_type": "code",
   "execution_count": 20,
   "metadata": {},
   "outputs": [
    {
     "data": {
      "text/plain": [
       "<a class=\"sister\" href=\"http://example.com/tillie\" id=\"link3\">Tillie</a>"
      ]
     },
     "execution_count": 20,
     "metadata": {},
     "output_type": "execute_result"
    }
   ],
   "source": [
    "soup.find(id='link3')"
   ]
  },
  {
   "cell_type": "code",
   "execution_count": 22,
   "metadata": {},
   "outputs": [
    {
     "data": {
      "text/plain": [
       "[<a class=\"sister\" href=\"http://example.com/elsie\" id=\"link1\">Elsie</a>,\n",
       " <a class=\"sister\" href=\"http://example.com/lacie\" id=\"link2\">Lacie</a>,\n",
       " <a class=\"sister\" href=\"http://example.com/tillie\" id=\"link3\">Tillie</a>]"
      ]
     },
     "execution_count": 22,
     "metadata": {},
     "output_type": "execute_result"
    }
   ],
   "source": [
    "soup.find_all('a', {'class':'sister'})"
   ]
  },
  {
   "cell_type": "code",
   "execution_count": 23,
   "metadata": {},
   "outputs": [
    {
     "data": {
      "text/plain": [
       "<a class=\"sister\" href=\"http://example.com/elsie\" id=\"link1\">Elsie</a>"
      ]
     },
     "execution_count": 23,
     "metadata": {},
     "output_type": "execute_result"
    }
   ],
   "source": [
    "soup.find('a', {'class':'sister'})"
   ]
  },
  {
   "cell_type": "code",
   "execution_count": 24,
   "metadata": {},
   "outputs": [
    {
     "name": "stdout",
     "output_type": "stream",
     "text": [
      "http://example.com/elsie\n",
      "http://example.com/lacie\n",
      "http://example.com/tillie\n"
     ]
    }
   ],
   "source": [
    "for link in soup.find_all('a'):\n",
    "    print(link.get('href'))"
   ]
  },
  {
   "cell_type": "code",
   "execution_count": 25,
   "metadata": {},
   "outputs": [
    {
     "name": "stdout",
     "output_type": "stream",
     "text": [
      "\n",
      "The Dormouse's story\n",
      "\n",
      "The Dormouse's story\n",
      "Once upon a time there were three little sisters; and their names were\n",
      "Elsie,\n",
      "Lacie and\n",
      "Tillie;\n",
      "and they lived at the bottom of a well.\n",
      "...\n",
      "\n"
     ]
    }
   ],
   "source": [
    "print(soup.get_text())"
   ]
  },
  {
   "cell_type": "code",
   "execution_count": 27,
   "metadata": {},
   "outputs": [],
   "source": [
    "ptag = soup.find_all('p')"
   ]
  },
  {
   "cell_type": "code",
   "execution_count": 34,
   "metadata": {},
   "outputs": [
    {
     "name": "stdout",
     "output_type": "stream",
     "text": [
      "<p class=\"title\"><b>The Dormouse's story</b></p>\n",
      "\n",
      "\n",
      "The Dormouse's story\n",
      "\n",
      "\n",
      "<p class=\"story\">Once upon a time there were three little sisters; and their names were\n",
      "<a class=\"sister\" href=\"http://example.com/elsie\" id=\"link1\">Elsie</a>,\n",
      "<a class=\"sister\" href=\"http://example.com/lacie\" id=\"link2\">Lacie</a> and\n",
      "<a class=\"sister\" href=\"http://example.com/tillie\" id=\"link3\">Tillie</a>;\n",
      "and they lived at the bottom of a well.</p>\n",
      "\n",
      "\n",
      "Once upon a time there were three little sisters; and their names were\n",
      "Elsie,\n",
      "Lacie and\n",
      "Tillie;\n",
      "and they lived at the bottom of a well.\n",
      "\n",
      "\n",
      "<p class=\"story\">...</p>\n",
      "\n",
      "\n",
      "...\n",
      "\n",
      "\n"
     ]
    }
   ],
   "source": [
    "for t in ptag:\n",
    "    print(t)\n",
    "    print('\\n')\n",
    "    print(t.get_text())\n",
    "    print('\\n')\n",
    "# ptag.get_text()"
   ]
  },
  {
   "cell_type": "code",
   "execution_count": 35,
   "metadata": {},
   "outputs": [
    {
     "name": "stdout",
     "output_type": "stream",
     "text": [
      "<p class=\"title\"><b>The Dormouse's story</b></p>\n",
      "\n",
      "The Dormouse's story\n",
      "\n",
      "<p class=\"story\">Once upon a time there were three little sisters; and their names were\n",
      "<a class=\"sister\" href=\"http://example.com/elsie\" id=\"link1\">Elsie</a>,\n",
      "<a class=\"sister\" href=\"http://example.com/lacie\" id=\"link2\">Lacie</a> and\n",
      "<a class=\"sister\" href=\"http://example.com/tillie\" id=\"link3\">Tillie</a>;\n",
      "and they lived at the bottom of a well.</p>\n",
      "\n",
      "None\n",
      "\n",
      "<p class=\"story\">...</p>\n",
      "\n",
      "...\n",
      "\n"
     ]
    }
   ],
   "source": [
    "for t in ptag:\n",
    "    print(t)\n",
    "    print()\n",
    "    print(t.string)\n",
    "    print()"
   ]
  },
  {
   "cell_type": "code",
   "execution_count": 36,
   "metadata": {},
   "outputs": [],
   "source": [
    "t = soup.title"
   ]
  },
  {
   "cell_type": "code",
   "execution_count": 37,
   "metadata": {},
   "outputs": [
    {
     "data": {
      "text/plain": [
       "'title'"
      ]
     },
     "execution_count": 37,
     "metadata": {},
     "output_type": "execute_result"
    }
   ],
   "source": [
    "t.name"
   ]
  },
  {
   "cell_type": "code",
   "execution_count": 38,
   "metadata": {},
   "outputs": [],
   "source": [
    "t.name = 'title1'"
   ]
  },
  {
   "cell_type": "code",
   "execution_count": 39,
   "metadata": {},
   "outputs": [
    {
     "data": {
      "text/plain": [
       "<title1>The Dormouse's story</title1>"
      ]
     },
     "execution_count": 39,
     "metadata": {},
     "output_type": "execute_result"
    }
   ],
   "source": [
    "t"
   ]
  },
  {
   "cell_type": "raw",
   "metadata": {},
   "source": [
    "태그 바꾸기 가능"
   ]
  },
  {
   "cell_type": "code",
   "execution_count": 40,
   "metadata": {},
   "outputs": [],
   "source": [
    "html_doc = \"\"\"\n",
    "<html><head><title>The Dormouse's story</title></head>\n",
    "<body>\n",
    "<p class=\"title\"><b>The Dormouse's story</b></p>\n",
    "\n",
    "<p class=\"story\">Once upon a time there were three little sisters; and their names were\n",
    "<a href=\"http://example.com/elsie\" class=\"sister\" id=\"link1\">Elsie</a>,\n",
    "<a href=\"http://example.com/lacie\" class=\"sister\" id=\"link2\">Lacie</a> and\n",
    "<a href=\"http://example.com/tillie\" class=\"sister\" id=\"link3\">Tillie</a>;\n",
    "and they lived at the bottom of a well.</p>\n",
    "\n",
    "<p class=\"story\">...</p>\n",
    "\"\"\""
   ]
  },
  {
   "cell_type": "code",
   "execution_count": 41,
   "metadata": {},
   "outputs": [],
   "source": [
    "from bs4 import BeautifulSoup\n",
    "soup = BeautifulSoup(html_doc, 'html.parser')"
   ]
  },
  {
   "cell_type": "code",
   "execution_count": 42,
   "metadata": {},
   "outputs": [],
   "source": [
    "taga = soup.find('a', {'class':'sister'})"
   ]
  },
  {
   "cell_type": "code",
   "execution_count": 43,
   "metadata": {},
   "outputs": [
    {
     "data": {
      "text/plain": [
       "<a class=\"sister\" href=\"http://example.com/elsie\" id=\"link1\">Elsie</a>"
      ]
     },
     "execution_count": 43,
     "metadata": {},
     "output_type": "execute_result"
    }
   ],
   "source": [
    "taga"
   ]
  },
  {
   "cell_type": "code",
   "execution_count": 44,
   "metadata": {},
   "outputs": [
    {
     "data": {
      "text/plain": [
       "['sister']"
      ]
     },
     "execution_count": 44,
     "metadata": {},
     "output_type": "execute_result"
    }
   ],
   "source": [
    "taga['class']"
   ]
  },
  {
   "cell_type": "code",
   "execution_count": 45,
   "metadata": {},
   "outputs": [
    {
     "data": {
      "text/plain": [
       "'http://example.com/elsie'"
      ]
     },
     "execution_count": 45,
     "metadata": {},
     "output_type": "execute_result"
    }
   ],
   "source": [
    "taga['href']"
   ]
  },
  {
   "cell_type": "code",
   "execution_count": 46,
   "metadata": {},
   "outputs": [
    {
     "data": {
      "text/plain": [
       "'link1'"
      ]
     },
     "execution_count": 46,
     "metadata": {},
     "output_type": "execute_result"
    }
   ],
   "source": [
    "taga['id']"
   ]
  },
  {
   "cell_type": "code",
   "execution_count": 47,
   "metadata": {},
   "outputs": [
    {
     "data": {
      "text/plain": [
       "{'href': 'http://example.com/elsie', 'class': ['sister'], 'id': 'link1'}"
      ]
     },
     "execution_count": 47,
     "metadata": {},
     "output_type": "execute_result"
    }
   ],
   "source": [
    "taga.attrs"
   ]
  },
  {
   "cell_type": "code",
   "execution_count": 51,
   "metadata": {},
   "outputs": [],
   "source": [
    "taga['class'] = 'sister'"
   ]
  },
  {
   "cell_type": "code",
   "execution_count": 52,
   "metadata": {},
   "outputs": [
    {
     "data": {
      "text/plain": [
       "<a class=\"sister\" class1=\"system\" href=\"http://example.com/elsie\" id=\"link1\">Elsie</a>"
      ]
     },
     "execution_count": 52,
     "metadata": {},
     "output_type": "execute_result"
    }
   ],
   "source": [
    "taga"
   ]
  },
  {
   "cell_type": "code",
   "execution_count": 53,
   "metadata": {},
   "outputs": [],
   "source": [
    "del taga['class1']"
   ]
  },
  {
   "cell_type": "code",
   "execution_count": 54,
   "metadata": {},
   "outputs": [
    {
     "data": {
      "text/plain": [
       "<a class=\"sister\" href=\"http://example.com/elsie\" id=\"link1\">Elsie</a>"
      ]
     },
     "execution_count": 54,
     "metadata": {},
     "output_type": "execute_result"
    }
   ],
   "source": [
    "taga"
   ]
  },
  {
   "cell_type": "code",
   "execution_count": 55,
   "metadata": {},
   "outputs": [
    {
     "data": {
      "text/plain": [
       "['body']"
      ]
     },
     "execution_count": 55,
     "metadata": {},
     "output_type": "execute_result"
    }
   ],
   "source": [
    "css_soup = BeautifulSoup('<p class=\"body\"></p>')\n",
    "css_soup.p['class']\n",
    "# [\"body\"]"
   ]
  },
  {
   "cell_type": "code",
   "execution_count": 56,
   "metadata": {},
   "outputs": [
    {
     "data": {
      "text/plain": [
       "['body', 'strikeout']"
      ]
     },
     "execution_count": 56,
     "metadata": {},
     "output_type": "execute_result"
    }
   ],
   "source": [
    "css_soup = BeautifulSoup('<p class=\"body strikeout\"></p>')\n",
    "css_soup.p['class']\n",
    "# [\"body\", \"strikeout\"]"
   ]
  },
  {
   "cell_type": "code",
   "execution_count": 57,
   "metadata": {},
   "outputs": [
    {
     "data": {
      "text/plain": [
       "'my id'"
      ]
     },
     "execution_count": 57,
     "metadata": {},
     "output_type": "execute_result"
    }
   ],
   "source": [
    "id_soup = BeautifulSoup('<p id=\"my id\"></p>')\n",
    "id_soup.p['id']\n",
    "# 'my id'"
   ]
  },
  {
   "cell_type": "code",
   "execution_count": 58,
   "metadata": {},
   "outputs": [
    {
     "name": "stdout",
     "output_type": "stream",
     "text": [
      "<p>Back to the <a rel=\"index contents\">homepage</a></p>\n"
     ]
    }
   ],
   "source": [
    "rel_soup = BeautifulSoup('<p>Back to the <a rel=\"index\">homepage</a></p>')\n",
    "rel_soup.a['rel']\n",
    "# ['index']\n",
    "rel_soup.a['rel'] = ['index', 'contents']\n",
    "print(rel_soup.p)\n",
    "# <p>Back to the <a rel=\"index contents\">homepage</a></p>"
   ]
  },
  {
   "cell_type": "code",
   "execution_count": 60,
   "metadata": {},
   "outputs": [
    {
     "data": {
      "text/plain": [
       "'homepage'"
      ]
     },
     "execution_count": 60,
     "metadata": {},
     "output_type": "execute_result"
    }
   ],
   "source": [
    "rel_soup.a.string"
   ]
  },
  {
   "cell_type": "code",
   "execution_count": 61,
   "metadata": {},
   "outputs": [
    {
     "data": {
      "text/plain": [
       "'homepage'"
      ]
     },
     "execution_count": 61,
     "metadata": {},
     "output_type": "execute_result"
    }
   ],
   "source": [
    "rel_soup.a.string.replace_with('home')"
   ]
  },
  {
   "cell_type": "code",
   "execution_count": 62,
   "metadata": {},
   "outputs": [
    {
     "data": {
      "text/plain": [
       "'home'"
      ]
     },
     "execution_count": 62,
     "metadata": {},
     "output_type": "execute_result"
    }
   ],
   "source": [
    "rel_soup.a.string"
   ]
  },
  {
   "cell_type": "code",
   "execution_count": 63,
   "metadata": {},
   "outputs": [
    {
     "data": {
      "text/plain": [
       "[<title>The Dormouse's story</title>]"
      ]
     },
     "execution_count": 63,
     "metadata": {},
     "output_type": "execute_result"
    }
   ],
   "source": [
    "soup.select('title')"
   ]
  },
  {
   "cell_type": "code",
   "execution_count": 64,
   "metadata": {},
   "outputs": [
    {
     "data": {
      "text/plain": [
       "[<a class=\"sister\" href=\"http://example.com/elsie\" id=\"link1\">Elsie</a>,\n",
       " <a class=\"sister\" href=\"http://example.com/lacie\" id=\"link2\">Lacie</a>,\n",
       " <a class=\"sister\" href=\"http://example.com/tillie\" id=\"link3\">Tillie</a>]"
      ]
     },
     "execution_count": 64,
     "metadata": {},
     "output_type": "execute_result"
    }
   ],
   "source": [
    "soup.select('a')"
   ]
  },
  {
   "cell_type": "code",
   "execution_count": 65,
   "metadata": {},
   "outputs": [
    {
     "data": {
      "text/plain": [
       "[<a class=\"sister\" href=\"http://example.com/elsie\" id=\"link1\">Elsie</a>,\n",
       " <a class=\"sister\" href=\"http://example.com/lacie\" id=\"link2\">Lacie</a>,\n",
       " <a class=\"sister\" href=\"http://example.com/tillie\" id=\"link3\">Tillie</a>]"
      ]
     },
     "execution_count": 65,
     "metadata": {},
     "output_type": "execute_result"
    }
   ],
   "source": [
    "soup.select('body a')"
   ]
  },
  {
   "cell_type": "raw",
   "metadata": {},
   "source": [
    "body 안에 있는 a 선택"
   ]
  },
  {
   "cell_type": "code",
   "execution_count": 66,
   "metadata": {
    "scrolled": true
   },
   "outputs": [
    {
     "data": {
      "text/plain": [
       "[]"
      ]
     },
     "execution_count": 66,
     "metadata": {},
     "output_type": "execute_result"
    }
   ],
   "source": [
    "soup.select('body > a')"
   ]
  },
  {
   "cell_type": "raw",
   "metadata": {},
   "source": [
    "body 바로 밑에 있는 a 선택"
   ]
  },
  {
   "cell_type": "code",
   "execution_count": 67,
   "metadata": {},
   "outputs": [
    {
     "data": {
      "text/plain": [
       "[<p class=\"story\">...</p>]"
      ]
     },
     "execution_count": 67,
     "metadata": {},
     "output_type": "execute_result"
    }
   ],
   "source": [
    "soup.select('p:nth-of-type(3)')"
   ]
  },
  {
   "cell_type": "code",
   "execution_count": 68,
   "metadata": {},
   "outputs": [
    {
     "data": {
      "text/plain": [
       "[<a class=\"sister\" href=\"http://example.com/elsie\" id=\"link1\">Elsie</a>,\n",
       " <a class=\"sister\" href=\"http://example.com/lacie\" id=\"link2\">Lacie</a>,\n",
       " <a class=\"sister\" href=\"http://example.com/tillie\" id=\"link3\">Tillie</a>]"
      ]
     },
     "execution_count": 68,
     "metadata": {},
     "output_type": "execute_result"
    }
   ],
   "source": [
    "soup.select(\"p > a\")\n",
    "# [<a class=\"sister\" href=\"http://example.com/elsie\" id=\"link1\">Elsie</a>,\n",
    "#  <a class=\"sister\" href=\"http://example.com/lacie\"  id=\"link2\">Lacie</a>,\n",
    "#  <a class=\"sister\" href=\"http://example.com/tillie\" id=\"link3\">Tillie</a>]"
   ]
  },
  {
   "cell_type": "code",
   "execution_count": 69,
   "metadata": {},
   "outputs": [
    {
     "data": {
      "text/plain": [
       "[<a class=\"sister\" href=\"http://example.com/lacie\" id=\"link2\">Lacie</a>]"
      ]
     },
     "execution_count": 69,
     "metadata": {},
     "output_type": "execute_result"
    }
   ],
   "source": [
    "soup.select(\"p > a:nth-of-type(2)\")\n",
    "# [<a class=\"sister\" href=\"http://example.com/lacie\" id=\"link2\">Lacie</a>]"
   ]
  },
  {
   "cell_type": "code",
   "execution_count": 70,
   "metadata": {},
   "outputs": [
    {
     "data": {
      "text/plain": [
       "[<a class=\"sister\" href=\"http://example.com/elsie\" id=\"link1\">Elsie</a>]"
      ]
     },
     "execution_count": 70,
     "metadata": {},
     "output_type": "execute_result"
    }
   ],
   "source": [
    "soup.select(\"p > #link1\")\n",
    "# [<a class=\"sister\" href=\"http://example.com/elsie\" id=\"link1\">Elsie</a>]"
   ]
  },
  {
   "cell_type": "raw",
   "metadata": {},
   "source": [
    "p 태그 / #____ : id 값이 ____인 것 찾음 / .____ : 클래스 값이 ____인 것 찾음"
   ]
  },
  {
   "cell_type": "code",
   "execution_count": 71,
   "metadata": {},
   "outputs": [
    {
     "data": {
      "text/plain": [
       "[<a class=\"sister\" href=\"http://example.com/lacie\" id=\"link2\">Lacie</a>,\n",
       " <a class=\"sister\" href=\"http://example.com/tillie\" id=\"link3\">Tillie</a>]"
      ]
     },
     "execution_count": 71,
     "metadata": {},
     "output_type": "execute_result"
    }
   ],
   "source": [
    "soup.select(\"#link1 ~ .sister\")\n",
    "# [<a class=\"sister\" href=\"http://example.com/lacie\" id=\"link2\">Lacie</a>,\n",
    "#  <a class=\"sister\" href=\"http://example.com/tillie\"  id=\"link3\">Tillie</a>]"
   ]
  },
  {
   "cell_type": "code",
   "execution_count": 72,
   "metadata": {},
   "outputs": [
    {
     "data": {
      "text/plain": [
       "[<a class=\"sister\" href=\"http://example.com/lacie\" id=\"link2\">Lacie</a>]"
      ]
     },
     "execution_count": 72,
     "metadata": {},
     "output_type": "execute_result"
    }
   ],
   "source": [
    "soup.select(\"#link1 + .sister\")\n",
    "# [<a class=\"sister\" href=\"http://example.com/lacie\" id=\"link2\">Lacie</a>]"
   ]
  },
  {
   "cell_type": "code",
   "execution_count": 73,
   "metadata": {},
   "outputs": [
    {
     "data": {
      "text/plain": [
       "<a class=\"sister\" href=\"http://example.com/elsie\" id=\"link1\">Elsie</a>"
      ]
     },
     "execution_count": 73,
     "metadata": {},
     "output_type": "execute_result"
    }
   ],
   "source": [
    "soup.select_one('a')"
   ]
  },
  {
   "cell_type": "code",
   "execution_count": 84,
   "metadata": {
    "scrolled": true
   },
   "outputs": [
    {
     "data": {
      "text/plain": [
       "[<a href=\"/marketindex/exchangeDetail.nhn?marketindexCd=FX_USDKRW\" onclick=\"parent.clickcr(this, 'exl.exlist', 'FX_USDKRW', '1', event);\" target=\"_parent\">\n",
       " \t\t\t\t\n",
       " \t\t\t\t\t\n",
       " \t\t\t\t\t\n",
       " \t\t\t\t\t\n",
       " \t\t\t\t\t미국 USD\n",
       " \t\t\t\t\n",
       " \t\t\t\t</a>,\n",
       " <a href=\"/marketindex/exchangeDetail.nhn?marketindexCd=FX_EURKRW\" onclick=\"parent.clickcr(this, 'exl.exlist', 'FX_EURKRW', '2', event);\" target=\"_parent\">\n",
       " \t\t\t\t\n",
       " \t\t\t\t\t\n",
       " \t\t\t\t\t\n",
       " \t\t\t\t\t\n",
       " \t\t\t\t\t유럽연합 EUR\n",
       " \t\t\t\t\n",
       " \t\t\t\t</a>,\n",
       " <a href=\"/marketindex/exchangeDetail.nhn?marketindexCd=FX_JPYKRW\" onclick=\"parent.clickcr(this, 'exl.exlist', 'FX_JPYKRW', '3', event);\" target=\"_parent\">\n",
       " \t\t\t\t\n",
       " \t\t\t\t\t일본 JPY (100엔)\n",
       " \t\t\t\t\t\n",
       " \t\t\t\t\t\n",
       " \t\t\t\t\t\n",
       " \t\t\t\t\n",
       " \t\t\t\t</a>,\n",
       " <a href=\"/marketindex/exchangeDetail.nhn?marketindexCd=FX_CNYKRW\" onclick=\"parent.clickcr(this, 'exl.exlist', 'FX_CNYKRW', '4', event);\" target=\"_parent\">\n",
       " \t\t\t\t\n",
       " \t\t\t\t\t\n",
       " \t\t\t\t\t\n",
       " \t\t\t\t\t\n",
       " \t\t\t\t\t중국 CNY\n",
       " \t\t\t\t\n",
       " \t\t\t\t</a>,\n",
       " <a href=\"/marketindex/exchangeDetail.nhn?marketindexCd=FX_HKDKRW\" onclick=\"parent.clickcr(this, 'exl.exlist', 'FX_HKDKRW', '5', event);\" target=\"_parent\">\n",
       " \t\t\t\t\n",
       " \t\t\t\t\t\n",
       " \t\t\t\t\t\n",
       " \t\t\t\t\t\n",
       " \t\t\t\t\t홍콩 HKD\n",
       " \t\t\t\t\n",
       " \t\t\t\t</a>,\n",
       " <a href=\"/marketindex/exchangeDetail.nhn?marketindexCd=FX_TWDKRW\" onclick=\"parent.clickcr(this, 'exl.exlist', 'FX_TWDKRW', '6', event);\" target=\"_parent\">\n",
       " \t\t\t\t\n",
       " \t\t\t\t\t\n",
       " \t\t\t\t\t\n",
       " \t\t\t\t\t\n",
       " \t\t\t\t\t대만 TWD\n",
       " \t\t\t\t\n",
       " \t\t\t\t</a>,\n",
       " <a href=\"/marketindex/exchangeDetail.nhn?marketindexCd=FX_GBPKRW\" onclick=\"parent.clickcr(this, 'exl.exlist', 'FX_GBPKRW', '7', event);\" target=\"_parent\">\n",
       " \t\t\t\t\n",
       " \t\t\t\t\t\n",
       " \t\t\t\t\t\n",
       " \t\t\t\t\t\n",
       " \t\t\t\t\t영국 GBP\n",
       " \t\t\t\t\n",
       " \t\t\t\t</a>,\n",
       " <a href=\"/marketindex/exchangeDetail.nhn?marketindexCd=FX_OMRKRW\" onclick=\"parent.clickcr(this, 'exl.exlist', 'FX_OMRKRW', '8', event);\" target=\"_parent\">\n",
       " \t\t\t\t\n",
       " \t\t\t\t\t\n",
       " \t\t\t\t\t\n",
       " \t\t\t\t\t\n",
       " \t\t\t\t\t오만 OMR\n",
       " \t\t\t\t\n",
       " \t\t\t\t</a>,\n",
       " <a href=\"/marketindex/exchangeDetail.nhn?marketindexCd=FX_CADKRW\" onclick=\"parent.clickcr(this, 'exl.exlist', 'FX_CADKRW', '9', event);\" target=\"_parent\">\n",
       " \t\t\t\t\n",
       " \t\t\t\t\t\n",
       " \t\t\t\t\t\n",
       " \t\t\t\t\t\n",
       " \t\t\t\t\t캐나다 CAD\n",
       " \t\t\t\t\n",
       " \t\t\t\t</a>,\n",
       " <a href=\"/marketindex/exchangeDetail.nhn?marketindexCd=FX_CHFKRW\" onclick=\"parent.clickcr(this, 'exl.exlist', 'FX_CHFKRW', '10', event);\" target=\"_parent\">\n",
       " \t\t\t\t\n",
       " \t\t\t\t\t\n",
       " \t\t\t\t\t\n",
       " \t\t\t\t\t\n",
       " \t\t\t\t\t스위스 CHF\n",
       " \t\t\t\t\n",
       " \t\t\t\t</a>,\n",
       " <a href=\"/marketindex/exchangeDetail.nhn?marketindexCd=FX_SEKKRW\" onclick=\"parent.clickcr(this, 'exl.exlist', 'FX_SEKKRW', '11', event);\" target=\"_parent\">\n",
       " \t\t\t\t\n",
       " \t\t\t\t\t\n",
       " \t\t\t\t\t\n",
       " \t\t\t\t\t\n",
       " \t\t\t\t\t스웨덴 SEK\n",
       " \t\t\t\t\n",
       " \t\t\t\t</a>,\n",
       " <a href=\"/marketindex/exchangeDetail.nhn?marketindexCd=FX_AUDKRW\" onclick=\"parent.clickcr(this, 'exl.exlist', 'FX_AUDKRW', '12', event);\" target=\"_parent\">\n",
       " \t\t\t\t\n",
       " \t\t\t\t\t\n",
       " \t\t\t\t\t\n",
       " \t\t\t\t\t\n",
       " \t\t\t\t\t호주 AUD\n",
       " \t\t\t\t\n",
       " \t\t\t\t</a>,\n",
       " <a href=\"/marketindex/exchangeDetail.nhn?marketindexCd=FX_NZDKRW\" onclick=\"parent.clickcr(this, 'exl.exlist', 'FX_NZDKRW', '13', event);\" target=\"_parent\">\n",
       " \t\t\t\t\n",
       " \t\t\t\t\t\n",
       " \t\t\t\t\t\n",
       " \t\t\t\t\t\n",
       " \t\t\t\t\t뉴질랜드 NZD\n",
       " \t\t\t\t\n",
       " \t\t\t\t</a>,\n",
       " <a href=\"/marketindex/exchangeDetail.nhn?marketindexCd=FX_CZKKRW\" onclick=\"parent.clickcr(this, 'exl.exlist', 'FX_CZKKRW', '14', event);\" target=\"_parent\">\n",
       " \t\t\t\t\n",
       " \t\t\t\t\t\n",
       " \t\t\t\t\t\n",
       " \t\t\t\t\t\n",
       " \t\t\t\t\t체코 CZK\n",
       " \t\t\t\t\n",
       " \t\t\t\t</a>,\n",
       " <a href=\"/marketindex/exchangeDetail.nhn?marketindexCd=FX_CLPKRW\" onclick=\"parent.clickcr(this, 'exl.exlist', 'FX_CLPKRW', '15', event);\" target=\"_parent\">\n",
       " \t\t\t\t\n",
       " \t\t\t\t\t\n",
       " \t\t\t\t\t\n",
       " \t\t\t\t\t\n",
       " \t\t\t\t\t칠레 CLP\n",
       " \t\t\t\t\n",
       " \t\t\t\t</a>,\n",
       " <a href=\"/marketindex/exchangeDetail.nhn?marketindexCd=FX_TRYKRW\" onclick=\"parent.clickcr(this, 'exl.exlist', 'FX_TRYKRW', '16', event);\" target=\"_parent\">\n",
       " \t\t\t\t\n",
       " \t\t\t\t\t\n",
       " \t\t\t\t\t\n",
       " \t\t\t\t\t\n",
       " \t\t\t\t\t터키 TRY\n",
       " \t\t\t\t\n",
       " \t\t\t\t</a>,\n",
       " <a href=\"/marketindex/exchangeDetail.nhn?marketindexCd=FX_MNTKRW\" onclick=\"parent.clickcr(this, 'exl.exlist', 'FX_MNTKRW', '17', event);\" target=\"_parent\">\n",
       " \t\t\t\t\n",
       " \t\t\t\t\t\n",
       " \t\t\t\t\t\n",
       " \t\t\t\t\t\n",
       " \t\t\t\t\t몽골 MNT\n",
       " \t\t\t\t\n",
       " \t\t\t\t</a>,\n",
       " <a href=\"/marketindex/exchangeDetail.nhn?marketindexCd=FX_ILSKRW\" onclick=\"parent.clickcr(this, 'exl.exlist', 'FX_ILSKRW', '18', event);\" target=\"_parent\">\n",
       " \t\t\t\t\n",
       " \t\t\t\t\t\n",
       " \t\t\t\t\t\n",
       " \t\t\t\t\t\n",
       " \t\t\t\t\t이스라엘 ILS\n",
       " \t\t\t\t\n",
       " \t\t\t\t</a>,\n",
       " <a href=\"/marketindex/exchangeDetail.nhn?marketindexCd=FX_DKKKRW\" onclick=\"parent.clickcr(this, 'exl.exlist', 'FX_DKKKRW', '19', event);\" target=\"_parent\">\n",
       " \t\t\t\t\n",
       " \t\t\t\t\t\n",
       " \t\t\t\t\t\n",
       " \t\t\t\t\t\n",
       " \t\t\t\t\t덴마크 DKK\n",
       " \t\t\t\t\n",
       " \t\t\t\t</a>,\n",
       " <a href=\"/marketindex/exchangeDetail.nhn?marketindexCd=FX_NOKKRW\" onclick=\"parent.clickcr(this, 'exl.exlist', 'FX_NOKKRW', '20', event);\" target=\"_parent\">\n",
       " \t\t\t\t\n",
       " \t\t\t\t\t\n",
       " \t\t\t\t\t\n",
       " \t\t\t\t\t\n",
       " \t\t\t\t\t노르웨이 NOK\n",
       " \t\t\t\t\n",
       " \t\t\t\t</a>,\n",
       " <a href=\"/marketindex/exchangeDetail.nhn?marketindexCd=FX_SARKRW\" onclick=\"parent.clickcr(this, 'exl.exlist', 'FX_SARKRW', '21', event);\" target=\"_parent\">\n",
       " \t\t\t\t\n",
       " \t\t\t\t\t\n",
       " \t\t\t\t\t\n",
       " \t\t\t\t\t\n",
       " \t\t\t\t\t사우디아라비아 SAR\n",
       " \t\t\t\t\n",
       " \t\t\t\t</a>,\n",
       " <a href=\"/marketindex/exchangeDetail.nhn?marketindexCd=FX_KWDKRW\" onclick=\"parent.clickcr(this, 'exl.exlist', 'FX_KWDKRW', '22', event);\" target=\"_parent\">\n",
       " \t\t\t\t\n",
       " \t\t\t\t\t\n",
       " \t\t\t\t\t\n",
       " \t\t\t\t\t\n",
       " \t\t\t\t\t쿠웨이트 KWD\n",
       " \t\t\t\t\n",
       " \t\t\t\t</a>,\n",
       " <a href=\"/marketindex/exchangeDetail.nhn?marketindexCd=FX_BHDKRW\" onclick=\"parent.clickcr(this, 'exl.exlist', 'FX_BHDKRW', '23', event);\" target=\"_parent\">\n",
       " \t\t\t\t\n",
       " \t\t\t\t\t\n",
       " \t\t\t\t\t\n",
       " \t\t\t\t\t\n",
       " \t\t\t\t\t바레인 BHD\n",
       " \t\t\t\t\n",
       " \t\t\t\t</a>,\n",
       " <a href=\"/marketindex/exchangeDetail.nhn?marketindexCd=FX_AEDKRW\" onclick=\"parent.clickcr(this, 'exl.exlist', 'FX_AEDKRW', '24', event);\" target=\"_parent\">\n",
       " \t\t\t\t\n",
       " \t\t\t\t\t\n",
       " \t\t\t\t\t\n",
       " \t\t\t\t\t\n",
       " \t\t\t\t\t아랍에미리트 AED\n",
       " \t\t\t\t\n",
       " \t\t\t\t</a>,\n",
       " <a href=\"/marketindex/exchangeDetail.nhn?marketindexCd=FX_JODKRW\" onclick=\"parent.clickcr(this, 'exl.exlist', 'FX_JODKRW', '25', event);\" target=\"_parent\">\n",
       " \t\t\t\t\n",
       " \t\t\t\t\t\n",
       " \t\t\t\t\t\n",
       " \t\t\t\t\t\n",
       " \t\t\t\t\t요르단 JOD\n",
       " \t\t\t\t\n",
       " \t\t\t\t</a>,\n",
       " <a href=\"/marketindex/exchangeDetail.nhn?marketindexCd=FX_EGPKRW\" onclick=\"parent.clickcr(this, 'exl.exlist', 'FX_EGPKRW', '26', event);\" target=\"_parent\">\n",
       " \t\t\t\t\n",
       " \t\t\t\t\t\n",
       " \t\t\t\t\t\n",
       " \t\t\t\t\t\n",
       " \t\t\t\t\t이집트 EGP\n",
       " \t\t\t\t\n",
       " \t\t\t\t</a>,\n",
       " <a href=\"/marketindex/exchangeDetail.nhn?marketindexCd=FX_THBKRW\" onclick=\"parent.clickcr(this, 'exl.exlist', 'FX_THBKRW', '27', event);\" target=\"_parent\">\n",
       " \t\t\t\t\n",
       " \t\t\t\t\t\n",
       " \t\t\t\t\t\n",
       " \t\t\t\t\t\n",
       " \t\t\t\t\t태국 THB\n",
       " \t\t\t\t\n",
       " \t\t\t\t</a>,\n",
       " <a href=\"/marketindex/exchangeDetail.nhn?marketindexCd=FX_SGDKRW\" onclick=\"parent.clickcr(this, 'exl.exlist', 'FX_SGDKRW', '28', event);\" target=\"_parent\">\n",
       " \t\t\t\t\n",
       " \t\t\t\t\t\n",
       " \t\t\t\t\t\n",
       " \t\t\t\t\t\n",
       " \t\t\t\t\t싱가포르 SGD\n",
       " \t\t\t\t\n",
       " \t\t\t\t</a>,\n",
       " <a href=\"/marketindex/exchangeDetail.nhn?marketindexCd=FX_MYRKRW\" onclick=\"parent.clickcr(this, 'exl.exlist', 'FX_MYRKRW', '29', event);\" target=\"_parent\">\n",
       " \t\t\t\t\n",
       " \t\t\t\t\t\n",
       " \t\t\t\t\t\n",
       " \t\t\t\t\t\n",
       " \t\t\t\t\t말레이시아 MYR\n",
       " \t\t\t\t\n",
       " \t\t\t\t</a>,\n",
       " <a href=\"/marketindex/exchangeDetail.nhn?marketindexCd=FX_IDRKRW\" onclick=\"parent.clickcr(this, 'exl.exlist', 'FX_IDRKRW', '30', event);\" target=\"_parent\">\n",
       " \t\t\t\t\n",
       " \t\t\t\t\t\n",
       " \t\t\t\t\t인도네시아 IDR 100\n",
       " \t\t\t\t\t\n",
       " \t\t\t\t\t\n",
       " \t\t\t\t\n",
       " \t\t\t\t</a>,\n",
       " <a href=\"/marketindex/exchangeDetail.nhn?marketindexCd=FX_QARKRW\" onclick=\"parent.clickcr(this, 'exl.exlist', 'FX_QARKRW', '31', event);\" target=\"_parent\">\n",
       " \t\t\t\t\n",
       " \t\t\t\t\t\n",
       " \t\t\t\t\t\n",
       " \t\t\t\t\t\n",
       " \t\t\t\t\t카타르 QAR\n",
       " \t\t\t\t\n",
       " \t\t\t\t</a>,\n",
       " <a href=\"/marketindex/exchangeDetail.nhn?marketindexCd=FX_KZTKRW\" onclick=\"parent.clickcr(this, 'exl.exlist', 'FX_KZTKRW', '32', event);\" target=\"_parent\">\n",
       " \t\t\t\t\n",
       " \t\t\t\t\t\n",
       " \t\t\t\t\t\n",
       " \t\t\t\t\t\n",
       " \t\t\t\t\t카자흐스탄 KZT\n",
       " \t\t\t\t\n",
       " \t\t\t\t</a>,\n",
       " <a href=\"/marketindex/exchangeDetail.nhn?marketindexCd=FX_BNDKRW\" onclick=\"parent.clickcr(this, 'exl.exlist', 'FX_BNDKRW', '33', event);\" target=\"_parent\">\n",
       " \t\t\t\t\n",
       " \t\t\t\t\t\n",
       " \t\t\t\t\t\n",
       " \t\t\t\t\t\n",
       " \t\t\t\t\t브루나이 BND\n",
       " \t\t\t\t\n",
       " \t\t\t\t</a>,\n",
       " <a href=\"/marketindex/exchangeDetail.nhn?marketindexCd=FX_INRKRW\" onclick=\"parent.clickcr(this, 'exl.exlist', 'FX_INRKRW', '34', event);\" target=\"_parent\">\n",
       " \t\t\t\t\n",
       " \t\t\t\t\t\n",
       " \t\t\t\t\t\n",
       " \t\t\t\t\t\n",
       " \t\t\t\t\t인도 INR\n",
       " \t\t\t\t\n",
       " \t\t\t\t</a>,\n",
       " <a href=\"/marketindex/exchangeDetail.nhn?marketindexCd=FX_PKRKRW\" onclick=\"parent.clickcr(this, 'exl.exlist', 'FX_PKRKRW', '35', event);\" target=\"_parent\">\n",
       " \t\t\t\t\n",
       " \t\t\t\t\t\n",
       " \t\t\t\t\t\n",
       " \t\t\t\t\t\n",
       " \t\t\t\t\t파키스탄 PKR\n",
       " \t\t\t\t\n",
       " \t\t\t\t</a>,\n",
       " <a href=\"/marketindex/exchangeDetail.nhn?marketindexCd=FX_BDTKRW\" onclick=\"parent.clickcr(this, 'exl.exlist', 'FX_BDTKRW', '36', event);\" target=\"_parent\">\n",
       " \t\t\t\t\n",
       " \t\t\t\t\t\n",
       " \t\t\t\t\t\n",
       " \t\t\t\t\t\n",
       " \t\t\t\t\t방글라데시 BDT\n",
       " \t\t\t\t\n",
       " \t\t\t\t</a>,\n",
       " <a href=\"/marketindex/exchangeDetail.nhn?marketindexCd=FX_PHPKRW\" onclick=\"parent.clickcr(this, 'exl.exlist', 'FX_PHPKRW', '37', event);\" target=\"_parent\">\n",
       " \t\t\t\t\n",
       " \t\t\t\t\t\n",
       " \t\t\t\t\t\n",
       " \t\t\t\t\t\n",
       " \t\t\t\t\t필리핀 PHP\n",
       " \t\t\t\t\n",
       " \t\t\t\t</a>,\n",
       " <a href=\"/marketindex/exchangeDetail.nhn?marketindexCd=FX_MXNKRW\" onclick=\"parent.clickcr(this, 'exl.exlist', 'FX_MXNKRW', '38', event);\" target=\"_parent\">\n",
       " \t\t\t\t\n",
       " \t\t\t\t\t\n",
       " \t\t\t\t\t\n",
       " \t\t\t\t\t\n",
       " \t\t\t\t\t멕시코 MXN\n",
       " \t\t\t\t\n",
       " \t\t\t\t</a>,\n",
       " <a href=\"/marketindex/exchangeDetail.nhn?marketindexCd=FX_BRLKRW\" onclick=\"parent.clickcr(this, 'exl.exlist', 'FX_BRLKRW', '39', event);\" target=\"_parent\">\n",
       " \t\t\t\t\n",
       " \t\t\t\t\t\n",
       " \t\t\t\t\t\n",
       " \t\t\t\t\t\n",
       " \t\t\t\t\t브라질 BRL\n",
       " \t\t\t\t\n",
       " \t\t\t\t</a>,\n",
       " <a href=\"/marketindex/exchangeDetail.nhn?marketindexCd=FX_VNDKRW\" onclick=\"parent.clickcr(this, 'exl.exlist', 'FX_VNDKRW', '40', event);\" target=\"_parent\">\n",
       " \t\t\t\t\n",
       " \t\t\t\t\t\n",
       " \t\t\t\t\t\n",
       " \t\t\t\t\t베트남 VND 100\n",
       " \t\t\t\t\t\n",
       " \t\t\t\t\n",
       " \t\t\t\t</a>,\n",
       " <a href=\"/marketindex/exchangeDetail.nhn?marketindexCd=FX_ZARKRW\" onclick=\"parent.clickcr(this, 'exl.exlist', 'FX_ZARKRW', '41', event);\" target=\"_parent\">\n",
       " \t\t\t\t\n",
       " \t\t\t\t\t\n",
       " \t\t\t\t\t\n",
       " \t\t\t\t\t\n",
       " \t\t\t\t\t남아프리카 공화국 ZAR\n",
       " \t\t\t\t\n",
       " \t\t\t\t</a>,\n",
       " <a href=\"/marketindex/exchangeDetail.nhn?marketindexCd=FX_RUBKRW\" onclick=\"parent.clickcr(this, 'exl.exlist', 'FX_RUBKRW', '42', event);\" target=\"_parent\">\n",
       " \t\t\t\t\n",
       " \t\t\t\t\t\n",
       " \t\t\t\t\t\n",
       " \t\t\t\t\t\n",
       " \t\t\t\t\t러시아 RUB\n",
       " \t\t\t\t\n",
       " \t\t\t\t</a>,\n",
       " <a href=\"/marketindex/exchangeDetail.nhn?marketindexCd=FX_HUFKRW\" onclick=\"parent.clickcr(this, 'exl.exlist', 'FX_HUFKRW', '43', event);\" target=\"_parent\">\n",
       " \t\t\t\t\n",
       " \t\t\t\t\t\n",
       " \t\t\t\t\t\n",
       " \t\t\t\t\t\n",
       " \t\t\t\t\t헝가리 HUF\n",
       " \t\t\t\t\n",
       " \t\t\t\t</a>,\n",
       " <a href=\"/marketindex/exchangeDetail.nhn?marketindexCd=FX_PLNKRW\" onclick=\"parent.clickcr(this, 'exl.exlist', 'FX_PLNKRW', '44', event);\" target=\"_parent\">\n",
       " \t\t\t\t\n",
       " \t\t\t\t\t\n",
       " \t\t\t\t\t\n",
       " \t\t\t\t\t\n",
       " \t\t\t\t\t폴란드 PLN\n",
       " \t\t\t\t\n",
       " \t\t\t\t</a>]"
      ]
     },
     "execution_count": 84,
     "metadata": {},
     "output_type": "execute_result"
    }
   ],
   "source": [
    "import requests\n",
    "from bs4 import BeautifulSoup\n",
    "url = 'https://finance.naver.com/marketindex/exchangeList.nhn'\n",
    "req = requests.get(url)\n",
    "soup = BeautifulSoup(req.text, 'html.parser')\n",
    "tit = soup.select('td.tit>a')\n",
    "tit"
   ]
  },
  {
   "cell_type": "code",
   "execution_count": 85,
   "metadata": {},
   "outputs": [
    {
     "name": "stdout",
     "output_type": "stream",
     "text": [
      "미국 USD\n",
      "유럽연합 EUR\n",
      "일본 JPY (100엔)\n",
      "중국 CNY\n",
      "홍콩 HKD\n",
      "대만 TWD\n",
      "영국 GBP\n",
      "오만 OMR\n",
      "캐나다 CAD\n",
      "스위스 CHF\n",
      "스웨덴 SEK\n",
      "호주 AUD\n",
      "뉴질랜드 NZD\n",
      "체코 CZK\n",
      "칠레 CLP\n",
      "터키 TRY\n",
      "몽골 MNT\n",
      "이스라엘 ILS\n",
      "덴마크 DKK\n",
      "노르웨이 NOK\n",
      "사우디아라비아 SAR\n",
      "쿠웨이트 KWD\n",
      "바레인 BHD\n",
      "아랍에미리트 AED\n",
      "요르단 JOD\n",
      "이집트 EGP\n",
      "태국 THB\n",
      "싱가포르 SGD\n",
      "말레이시아 MYR\n",
      "인도네시아 IDR 100\n",
      "카타르 QAR\n",
      "카자흐스탄 KZT\n",
      "브루나이 BND\n",
      "인도 INR\n",
      "파키스탄 PKR\n",
      "방글라데시 BDT\n",
      "필리핀 PHP\n",
      "멕시코 MXN\n",
      "브라질 BRL\n",
      "베트남 VND 100\n",
      "남아프리카 공화국 ZAR\n",
      "러시아 RUB\n",
      "헝가리 HUF\n",
      "폴란드 PLN\n"
     ]
    }
   ],
   "source": [
    "list1=[]\n",
    "for i in tit:\n",
    "    str = i.string.strip()\n",
    "    list1.append(str)\n",
    "    print(str)"
   ]
  },
  {
   "cell_type": "code",
   "execution_count": 86,
   "metadata": {},
   "outputs": [
    {
     "name": "stdout",
     "output_type": "stream",
     "text": [
      "1205.70\n",
      "1374.68\n",
      "1127.35\n",
      "172.31\n",
      "155.51\n",
      "40.92\n",
      "1513.45\n",
      "3131.69\n",
      "892.91\n",
      "1274.86\n",
      "132.59\n",
      "842.97\n",
      "791.00\n",
      "51.51\n",
      "1.54\n",
      "175.81\n",
      "0.43\n",
      "351.20\n",
      "184.61\n",
      "129.44\n",
      "321.47\n",
      "3920.98\n",
      "3197.72\n",
      "328.25\n",
      "1700.56\n",
      "75.50\n",
      "38.00\n",
      "865.70\n",
      "282.33\n",
      "8.28\n",
      "331.15\n",
      "2.92\n",
      "865.11\n",
      "16.02\n",
      "7.21\n",
      "14.22\n",
      "24.32\n",
      "53.85\n",
      "224.52\n",
      "5.20\n",
      "72.35\n",
      "16.96\n",
      "3.88\n",
      "306.01\n"
     ]
    }
   ],
   "source": [
    "tit2 = soup.select('td.sale')\n",
    "list2=[]\n",
    "for i in tit2:\n",
    "    str = i.string.strip()\n",
    "    str = str.replace(\",\",\"\")\n",
    "    list2.append(str)\n",
    "    print(str)"
   ]
  },
  {
   "cell_type": "code",
   "execution_count": 87,
   "metadata": {},
   "outputs": [
    {
     "data": {
      "text/plain": [
       "[('미국 USD', '1205.70'),\n",
       " ('유럽연합 EUR', '1374.68'),\n",
       " ('일본 JPY (100엔)', '1127.35'),\n",
       " ('중국 CNY', '172.31'),\n",
       " ('홍콩 HKD', '155.51'),\n",
       " ('대만 TWD', '40.92'),\n",
       " ('영국 GBP', '1513.45'),\n",
       " ('오만 OMR', '3131.69'),\n",
       " ('캐나다 CAD', '892.91'),\n",
       " ('스위스 CHF', '1274.86'),\n",
       " ('스웨덴 SEK', '132.59'),\n",
       " ('호주 AUD', '842.97'),\n",
       " ('뉴질랜드 NZD', '791.00'),\n",
       " ('체코 CZK', '51.51'),\n",
       " ('칠레 CLP', '1.54'),\n",
       " ('터키 TRY', '175.81'),\n",
       " ('몽골 MNT', '0.43'),\n",
       " ('이스라엘 ILS', '351.20'),\n",
       " ('덴마크 DKK', '184.61'),\n",
       " ('노르웨이 NOK', '129.44'),\n",
       " ('사우디아라비아 SAR', '321.47'),\n",
       " ('쿠웨이트 KWD', '3920.98'),\n",
       " ('바레인 BHD', '3197.72'),\n",
       " ('아랍에미리트 AED', '328.25'),\n",
       " ('요르단 JOD', '1700.56'),\n",
       " ('이집트 EGP', '75.50'),\n",
       " ('태국 THB', '38.00'),\n",
       " ('싱가포르 SGD', '865.70'),\n",
       " ('말레이시아 MYR', '282.33'),\n",
       " ('인도네시아 IDR 100', '8.28'),\n",
       " ('카타르 QAR', '331.15'),\n",
       " ('카자흐스탄 KZT', '2.92'),\n",
       " ('브루나이 BND', '865.11'),\n",
       " ('인도 INR', '16.02'),\n",
       " ('파키스탄 PKR', '7.21'),\n",
       " ('방글라데시 BDT', '14.22'),\n",
       " ('필리핀 PHP', '24.32'),\n",
       " ('멕시코 MXN', '53.85'),\n",
       " ('브라질 BRL', '224.52'),\n",
       " ('베트남 VND 100', '5.20'),\n",
       " ('남아프리카 공화국 ZAR', '72.35'),\n",
       " ('러시아 RUB', '16.96'),\n",
       " ('헝가리 HUF', '3.88'),\n",
       " ('폴란드 PLN', '306.01')]"
      ]
     },
     "execution_count": 87,
     "metadata": {},
     "output_type": "execute_result"
    }
   ],
   "source": [
    "result = list(zip(list1, list2))\n",
    "result"
   ]
  },
  {
   "cell_type": "code",
   "execution_count": 121,
   "metadata": {},
   "outputs": [
    {
     "name": "stdout",
     "output_type": "stream",
     "text": [
      "1 OHIO Crush\n",
      "2 How You Like That BLACKPINK\n",
      "3 여름 안에서 (Covered By 싹쓰리) (Feat. 황광희) 싹쓰리 (유두래곤, 린다G, 비룡)\n",
      "4 마리아 (Maria) 화사(Hwa Sa)\n",
      "5 Summer Hate (Feat. 비) 지코\n",
      "6 보라빛 밤 (pporappippam) 선미\n",
      "7 PLAY (Feat. 창모) 청하\n",
      "8 Monster 레드벨벳-아이린&슬기\n",
      "9 아직 너의 시간에 살아 이수현\n",
      "10 Downtown Baby 블루(BLOO)\n",
      "11 에잇(Prod.&Feat. SUGA of BTS) 아이유(IU)\n",
      "12 AWay 정은지\n",
      "13 Dolphin 오마이걸(OH MY GIRL)\n",
      "14 살짝 설렜어 (Nonstop) 오마이걸(OH MY GIRL)\n",
      "15 Into the I-LAND 아이유(IU)\n",
      "16 Apple 여자친구(GFRIEND)\n",
      "17 사랑하게 될 줄 알았어 전미도\n",
      "18 아로하 조정석\n",
      "19 Dance Monkey Tones And I\n",
      "20 MORE & MORE TWICE (트와이스)\n",
      "21 Memories Maroon 5(마룬 파이브)\n",
      "22 거짓말이라도 해서 널 보고싶어 백지영\n",
      "23 Blueming 아이유(IU)\n",
      "24 흔들리는 꽃들 속에서 네 샴푸향이 느껴진거야 장범준\n",
      "25 숨 (Breath) 샘김(Sam Kim)\n",
      "26 Error (Feat. Loopy) ASH ISLAND\n",
      "27 어떻게 지내 (Prod. By VAN.C) 오반\n",
      "28 너에게 난, 나에게 넌 미도와 파라솔\n",
      "29 언제라도 어디에서라도 정승환\n",
      "30 Maniac Conan Gray\n",
      "31 Don't Start Now Dua Lipa(두아 리파)\n",
      "32 모든 날, 모든 순간 (Every day, Every Moment) 폴킴(Paul Kim)\n",
      "33 아무노래 지코\n",
      "34 METEOR 창모(CHANGMO)\n",
      "35 You're Cold (더 많이 사랑한 쪽이 아프대) 헤이즈(Heize)\n",
      "36 Psycho Red Velvet (레드벨벳)\n",
      "37 어떻게 이별까지 사랑하겠어, 널 사랑하는 거지 AKMU (악동뮤지션)\n",
      "38 Juice Lizzo\n",
      "39 좋은 사람 있으면 소개시켜줘 조이 (JOY)\n",
      "40 2002 Anne-Marie(앤 마리)\n",
      "41 Left & Right 세븐틴(Seventeen)\n",
      "42 환상동화 (Secret Story of the Swan) IZ*ONE(아이즈원)\n",
      "43 Square (2017) 백예린\n",
      "44 오늘따라 비가 와서 그런가 봐 솔지\n",
      "45 Painkiller Ruel(루엘)\n",
      "46 집돌이 폴킴(Paul Kim)\n",
      "47 마음을 드려요 아이유(IU)\n",
      "48 Zombie DAY6 (데이식스)\n",
      "49 Lonely Night 권진아\n",
      "50 화려하지 않은 고백 규현 (KYUHYUN)\n",
      "51 Dishes Lauv(라우브)\n",
      "52 사계 (Four Seasons) 태연 (TAEYEON)\n",
      "53 12:45 (Stripped) Etham\n",
      "54 밤이 깊었네 (Drama Ver.) 미도와 파라솔\n",
      "55 품 볼빨간사춘기\n",
      "56 나비와 고양이 (feat. 백현 (BAEKHYUN)) 볼빨간사춘기\n",
      "57 i'M THE TREND (여자)아이들\n",
      "58 시작 가호(Gaho)\n",
      "59 Stay Tonight 청하\n",
      "60 LALALILALA 에이프릴(APRIL)\n",
      "61 내 눈물 모아 휘인(Whee In)\n",
      "62 오늘도 빛나는 너에게 (To You My Light) (Feat.이라온) 마크툽(Maktub)\n",
      "63 Love poem 아이유(IU)\n",
      "64 작사가 헤이즈(Heize)\n",
      "65 Birthday Anne-Marie(앤 마리)\n",
      "66 그때 그 아인 김필(Kim Feel)\n",
      "67 썸 타긴 뭘 타 백아연\n",
      "68 Paris In The Rain Lauv(라우브)\n",
      "69 WANNABE ITZY (있지)\n",
      "70 HIP 마마무(Mamamoo)\n",
      "71 BUNGEE (Fall in Love) 오마이걸(OH MY GIRL)\n",
      "72 니가 왜 거기서 나와 (Narr. 고은아) 영탁\n",
      "73 처음처럼 엠씨더맥스 (M.C the MAX)\n",
      "74 그대 고운 내사랑 어반자카파\n",
      "75 늦은 밤 너의 집 앞 골목길에서 노을\n",
      "76 첫 줄 신용재\n",
      "77 어떻게 지내 (답가) 런치\n",
      "78 이제 나만 믿어요 임영웅\n",
      "79 Say So Doja Cat(도자 캣)\n",
      "80 FIESTA IZ*ONE(아이즈원)\n",
      "81 돌덩이 하현우(국카스텐)\n",
      "82 덤더럼(Dumhdurum) Apink (에이핑크)\n",
      "83 작은 것들을 위한 시 (Boy With Luv) (Feat. Halsey) 방탄소년단\n",
      "84 Blinding Lights The Weeknd(위켄드)\n",
      "85 My Tale 박원\n",
      "86 밤편지 아이유(IU)\n",
      "87 Happy 태연 (TAEYEON)\n",
      "88 Stuck with U Ariana Grande(아리아나 그란데)\n",
      "89 불 좀 꺼줄래 오반\n",
      "90 주저하는 연인들을 위해 잔나비\n",
      "91 안녕 폴킴(Paul Kim)\n",
      "92 Let Me (Feat. Devin Morrison) Crush\n",
      "93 눈의 시간 여자친구(GFRIEND)\n",
      "94 To Die For Sam Smith(샘 스미스)\n",
      "95 10억뷰 (Feat. MOON) 세훈&찬열\n",
      "96 깡 Official Remix 식케이 (Sik-K)\n",
      "97 자나깨나 (Feat. 조이 of Red Velvet) Crush\n",
      "98 bad guy Billie Eilish(빌리 아일리시)\n",
      "99 거울의 방 여자친구(GFRIEND)\n",
      "100 Rain On Me Lady GaGa(레이디 가가)\n"
     ]
    }
   ],
   "source": [
    "import requests\n",
    "from bs4 import BeautifulSoup\n",
    "url = 'https://music.bugs.co.kr/chart'\n",
    "req = requests.get(url)\n",
    "soup = BeautifulSoup(req.text, 'html.parser')\n",
    "\n",
    "result = soup.select('tbody > tr')\n",
    "\n",
    "list = []\n",
    "for item in result[:100]:\n",
    "    rank = item.select('.ranking > strong')[0].string\n",
    "    # print(rank)\n",
    "    title = item.select('.title > a')[0].string\n",
    "    # print(title)\n",
    "    artist = item.select('.artist > a')[0].string\n",
    "    # print(artist)\n",
    "    # list.append((rank, title, artist))\n",
    "    print(rank, title, artist)"
   ]
  },
  {
   "cell_type": "code",
   "execution_count": null,
   "metadata": {},
   "outputs": [],
   "source": [
    "from bs4 import BeautifulSoup\n",
    "import requests, time\n",
    "\n",
    "url = 'https://news.naver.com/'\n",
    "r = requests.get(url)\n",
    "soup = BeautifulSoup(r.text, 'html.parser')\n",
    "results = soup.select('.section_list_ranking li a')\n",
    "\n",
    "for result in results:\n",
    "    print('제목 : ', result.attrs['title'])\n",
    "    print('링크 : ', result.attrs['href'])\n",
    "    print()\n",
    "    \n",
    "    url_content = 'https://news.naver.com'+result.attrs['href']\n",
    "    response_content = requests.get(url_content)\n",
    "    soup_content = BeautifulSoup(response_content.text, 'html.parser')\n",
    "    content = soup_content.select_one('#articleBodyContents')\n",
    "    # print(type(content.contents[0]))\n",
    "    \n",
    "# 가공 작업\n",
    "    output=''\n",
    "    for item in content.contents:\n",
    "        stripped = str(item).strip() # 공백 제거\n",
    "        if stripped == '':\n",
    "            continue\n",
    "        if stripped[0] not in ['<','/']: # 태그나 주석 제거\n",
    "            output += str(item).strip()\n",
    "    print(output.replace('본문 내용 TV플레이어',''))\n",
    "    print()\n",
    "    time.sleep(2)"
   ]
  }
 ],
 "metadata": {
  "kernelspec": {
   "display_name": "Python 3",
   "language": "python",
   "name": "python3"
  },
  "language_info": {
   "codemirror_mode": {
    "name": "ipython",
    "version": 3
   },
   "file_extension": ".py",
   "mimetype": "text/x-python",
   "name": "python",
   "nbconvert_exporter": "python",
   "pygments_lexer": "ipython3",
   "version": "3.7.6"
  }
 },
 "nbformat": 4,
 "nbformat_minor": 4
}
