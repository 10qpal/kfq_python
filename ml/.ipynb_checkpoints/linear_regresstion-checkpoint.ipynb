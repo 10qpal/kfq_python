{
 "cells": [
  {
   "cell_type": "code",
   "execution_count": 1,
   "metadata": {},
   "outputs": [],
   "source": [
    "import numpy as np\n",
    "\n",
    "x_data = np.array([1, 2, 3, 4, 5]).reshape(5, 1) # 5행 1열\n",
    "t_data = np.array([2, 3, 4, 5, 6]).reshape(5, 1)\n",
    "# print(\"x_data.shape = \", x_data.shape, \", y_data.shape = \", t_data.shape) # .shape : 차원을 튜플로 리턴"
   ]
  },
  {
   "cell_type": "code",
   "execution_count": 2,
   "metadata": {},
   "outputs": [
    {
     "name": "stdout",
     "output_type": "stream",
     "text": [
      "<class 'numpy.ndarray'>\n",
      "[[1]\n",
      " [2]\n",
      " [3]\n",
      " [4]\n",
      " [5]]\n",
      "[[2]\n",
      " [3]\n",
      " [4]\n",
      " [5]\n",
      " [6]]\n",
      "(5, 1)\n",
      "(5, 1)\n"
     ]
    }
   ],
   "source": [
    "# 데이터가 리스트로 들어온다면\n",
    "raw_data = [[1, 2], [2, 3], [3, 4], [4, 5], [5, 6]]\n",
    "\n",
    "raw_data = np.array(raw_data)\n",
    "print(type(raw_data))\n",
    "print(raw_data[:, :1])\n",
    "print(raw_data[:, -1:])\n",
    "print(raw_data[:, :1].shape)\n",
    "print(raw_data[:, -1:].shape)\n",
    "\n",
    "# raw_data_x = []\n",
    "# raw_data_t = []\n",
    "# for i in range(0, len(raw_data)):\n",
    "#     raw_data_x.append(raw_data[i][0])\n",
    "#     raw_data_t.append(raw_data[i][1])\n",
    "# x_data = np.array(raw_data_x).reshape(5, 1)\n",
    "# t_data = np.array(raw_data_t).reshape(5, 1)"
   ]
  },
  {
   "cell_type": "code",
   "execution_count": 3,
   "metadata": {},
   "outputs": [
    {
     "name": "stdout",
     "output_type": "stream",
     "text": [
      "W =  [[0.47462201]] , W.shape =  (1, 1) , b =  [0.59800843] , b.shape =  (1,)\n",
      "2 1\n"
     ]
    }
   ],
   "source": [
    "W = np.random.rand(1, 1) # 1행 1열\n",
    "b = np.random.rand(1) # 값 하나\n",
    "print(\"W = \", W, \", W.shape = \", W.shape, \", b = \", b, \", b.shape = \", b.shape)\n",
    "print(W.ndim, b.ndim) # 2차원, 1차원\n",
    "\n",
    "# 왜 W를 2차원으로 만들까\n",
    "# W*x가 가능해야 하기 때문에(x : 5행 1열)"
   ]
  },
  {
   "cell_type": "code",
   "execution_count": 4,
   "metadata": {},
   "outputs": [],
   "source": [
    "def loss_func(x, t):\n",
    "    y = np.dot(x, W) + b\n",
    "    return (np.sum((t-y)**2))/(len(x))"
   ]
  },
  {
   "cell_type": "code",
   "execution_count": null,
   "metadata": {},
   "outputs": [],
   "source": [
    "def numerical_derivative(f, x):\n",
    "    delta_x = 1e-4 # 0.0001(미세하게 변하는 x값)\n",
    "    grad = np.zeros_like(x) # x와 같은 모양을 만듦, 값은 모두 0\n",
    "    \n",
    "    it = np.nditer(x, flags=['multi_index'], op_flags=['readwrite']) # iterator\n",
    "    \n",
    "    while not it.finished:\n",
    "        idx = it.multi_index\n",
    "        tmp_val = x[idx]\n",
    "        x[idx] = float(tmp_val) + delta_x\n",
    "        fx1 = f(x) # f(x + delta_x)\n",
    "        x[idx] = float(tmp_val) - delta_x\n",
    "        fx2 = f(x) # f(x - delta_x)\n",
    "        grad[idx] = (fx1 - fx2) / (2 * delta_x)"
   ]
  }
 ],
 "metadata": {
  "kernelspec": {
   "display_name": "Python 3",
   "language": "python",
   "name": "python3"
  },
  "language_info": {
   "codemirror_mode": {
    "name": "ipython",
    "version": 3
   },
   "file_extension": ".py",
   "mimetype": "text/x-python",
   "name": "python",
   "nbconvert_exporter": "python",
   "pygments_lexer": "ipython3",
   "version": "3.7.6"
  }
 },
 "nbformat": 4,
 "nbformat_minor": 4
}
