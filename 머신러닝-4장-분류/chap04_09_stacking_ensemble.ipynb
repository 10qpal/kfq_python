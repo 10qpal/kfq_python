{
 "cells": [
  {
   "cell_type": "markdown",
   "metadata": {},
   "source": [
    "# 기본 스태킹 모델"
   ]
  },
  {
   "cell_type": "code",
   "execution_count": 1,
   "metadata": {},
   "outputs": [],
   "source": [
    "import numpy as np\n",
    "from sklearn.neighbors import KNeighborsClassifier # 개별 모델(1)\n",
    "from sklearn.ensemble import RandomForestClassifier # 개별 모델(2)\n",
    "from sklearn.ensemble import AdaBoostClassifier # 개별 모델(3)\n",
    "from sklearn.tree import DecisionTreeClassifier # 개별 모델(4)\n",
    "from sklearn.linear_model import LogisticRegression # 최종 모델\n",
    "\n",
    "from sklearn.datasets import load_breast_cancer\n",
    "from sklearn.model_selection import train_test_split\n",
    "from sklearn.metrics import accuracy_score"
   ]
  },
  {
   "cell_type": "code",
   "execution_count": 2,
   "metadata": {},
   "outputs": [],
   "source": [
    "cancer_data = load_breast_cancer()\n",
    "\n",
    "X_data = cancer_data.data\n",
    "y_label = cancer_data.target\n",
    "\n",
    "X_train, X_test, y_train, y_test = train_test_split(X_data, y_label, test_size=0.2, random_state=0)\n",
    "# stratify=y_label"
   ]
  },
  {
   "cell_type": "code",
   "execution_count": 3,
   "metadata": {},
   "outputs": [],
   "source": [
    "# 개별 ML 모델 생성\n",
    "knn_clf = KNeighborsClassifier(n_neighbors=4)\n",
    "rf_clf = RandomForestClassifier(n_estimators=100, random_state=0)\n",
    "dt_clf = DecisionTreeClassifier()\n",
    "ada_clf = AdaBoostClassifier(n_estimators=100)\n",
    "\n",
    "# 최종 ML 모델 생성\n",
    "lr_clf = LogisticRegression(C=10)"
   ]
  },
  {
   "cell_type": "code",
   "execution_count": 4,
   "metadata": {},
   "outputs": [
    {
     "data": {
      "text/plain": [
       "AdaBoostClassifier(n_estimators=100)"
      ]
     },
     "execution_count": 4,
     "metadata": {},
     "output_type": "execute_result"
    }
   ],
   "source": [
    "# 개별 ML 모델 학습\n",
    "knn_clf.fit(X_train, y_train)\n",
    "rf_clf.fit(X_train, y_train)\n",
    "dt_clf.fit(X_train, y_train)\n",
    "ada_clf.fit(X_train, y_train)"
   ]
  },
  {
   "cell_type": "code",
   "execution_count": 5,
   "metadata": {},
   "outputs": [
    {
     "name": "stdout",
     "output_type": "stream",
     "text": [
      "KNN 정확도 : 0.9211\n",
      "랜덤 포레스트 정확도 : 0.9649\n",
      "결정 트리 정확도 : 0.9123\n",
      "에이다부스트 정확도 : 0.9561\n"
     ]
    }
   ],
   "source": [
    "# 개별 ML 모듈의 정확도 측정\n",
    "knn_pred = knn_clf.predict(X_test)\n",
    "rf_pred = rf_clf.predict(X_test)\n",
    "dt_pred = dt_clf.predict(X_test)\n",
    "ada_pred = ada_clf.predict(X_test)\n",
    "\n",
    "print(\"KNN 정확도 : {:.4f}\".format(accuracy_score(y_test, knn_pred)))\n",
    "print(\"랜덤 포레스트 정확도 : {:.4f}\".format(accuracy_score(y_test, rf_pred)))\n",
    "print(\"결정 트리 정확도 : {:.4f}\".format(accuracy_score(y_test, dt_pred)))\n",
    "print(\"에이다부스트 정확도 : {:.4f}\".format(accuracy_score(y_test, ada_pred)))"
   ]
  },
  {
   "cell_type": "code",
   "execution_count": 6,
   "metadata": {},
   "outputs": [
    {
     "data": {
      "text/plain": [
       "(4, 114)"
      ]
     },
     "execution_count": 6,
     "metadata": {},
     "output_type": "execute_result"
    }
   ],
   "source": [
    "pred = np.array([knn_pred, rf_pred, dt_pred, ada_pred])\n",
    "pred.shape"
   ]
  },
  {
   "cell_type": "code",
   "execution_count": 7,
   "metadata": {},
   "outputs": [
    {
     "data": {
      "text/plain": [
       "(114, 4)"
      ]
     },
     "execution_count": 7,
     "metadata": {},
     "output_type": "execute_result"
    }
   ],
   "source": [
    "# 행, 열 교환\n",
    "pred = np.transpose(pred)\n",
    "pred.shape"
   ]
  },
  {
   "cell_type": "code",
   "execution_count": 8,
   "metadata": {},
   "outputs": [
    {
     "name": "stdout",
     "output_type": "stream",
     "text": [
      "최종 로지스틱 회귀 정확도 : 0.9737\n"
     ]
    }
   ],
   "source": [
    "# 최종 ML 모듈 학습, 정확도 측정\n",
    "lr_clf.fit(pred, y_test)\n",
    "final_lr_pred = lr_clf.predict(pred)\n",
    "\n",
    "print(\"최종 로지스틱 회귀 정확도 : {:.4f}\".format(accuracy_score(y_test, final_lr_pred)))"
   ]
  },
  {
   "cell_type": "markdown",
   "metadata": {},
   "source": [
    "# CV 세트 기반의 스태킹"
   ]
  },
  {
   "cell_type": "code",
   "execution_count": 9,
   "metadata": {},
   "outputs": [],
   "source": [
    "from sklearn.model_selection import KFold\n",
    "from sklearn.metrics import mean_absolute_error # 오차를 절대값으로 바꿔서 평균 구함"
   ]
  },
  {
   "cell_type": "code",
   "execution_count": 10,
   "metadata": {},
   "outputs": [],
   "source": [
    "# 최종 모델이 사용할 학습 및 테스트용 데이터를 생성하기 위한 함수\n",
    "def get_stacking_base_datasets(model, X_train_n, y_train_n, X_test_n, n_fold):\n",
    "    # KFold 생성\n",
    "    kf = KFold(n_splits=n_fold, shuffle=False, random_state=0)\n",
    "    # 최종 모델이 사용할 학습용 데이터가 들어갈 배열 초기화\n",
    "    train_fold_pred = np.zeros((X_train_n.shape[0], 1))\n",
    "    test_pred = np.zeros((X_test_n.shape[0], n_fold))\n",
    "    print(model.__class__.__name__, 'model 시작')\n",
    "    \n",
    "    for folder_counter, (train_index, valid_index) in enumerate(kf.split(X_train_n)):\n",
    "        # 원본 학습 데이터 - 학습/검증 데이터 세트 추출\n",
    "        print(\"\\t 폴드 세트 : \", folder_counter, \"시작\")\n",
    "        X_tr = X_train_n[train_index]\n",
    "        y_tr = y_train_n[train_index]\n",
    "        X_te = X_train_n[valid_index]\n",
    "        \n",
    "        # 만들어진 학습 데이터 - 학습 수행\n",
    "        model.fit(X_tr,y_tr)\n",
    "        # 만들어진 검증 데이터 - 예측, 데이터 저장\n",
    "        train_fold_pred[valid_index, :] = model.predict(X_te).reshape(-1, 1)\n",
    "        # 원본 테스트 데이터 - 예측, 데이터 저장\n",
    "        test_pred[:, folder_counter] = model.predict(X_test_n)\n",
    "        \n",
    "    # 테스트 데이터 생성\n",
    "    test_pred_mean = np.mean(test_pred, axis=1).reshape(-1, 1)\n",
    "    # 최종 모델이 사용할 학습 데이터, 테스트 데이터 출력\n",
    "    return train_fold_pred, test_pred_mean"
   ]
  },
  {
   "cell_type": "code",
   "execution_count": 11,
   "metadata": {},
   "outputs": [
    {
     "name": "stderr",
     "output_type": "stream",
     "text": [
      "C:\\ProgramData\\Anaconda3\\lib\\site-packages\\sklearn\\model_selection\\_split.py:297: FutureWarning: Setting a random_state has no effect since shuffle is False. This will raise an error in 0.24. You should leave random_state to its default (None), or set shuffle=True.\n",
      "  FutureWarning\n",
      "C:\\ProgramData\\Anaconda3\\lib\\site-packages\\sklearn\\model_selection\\_split.py:297: FutureWarning: Setting a random_state has no effect since shuffle is False. This will raise an error in 0.24. You should leave random_state to its default (None), or set shuffle=True.\n",
      "  FutureWarning\n"
     ]
    },
    {
     "name": "stdout",
     "output_type": "stream",
     "text": [
      "KNeighborsClassifier model 시작\n",
      "\t 폴드 세트 :  0 시작\n",
      "\t 폴드 세트 :  1 시작\n",
      "\t 폴드 세트 :  2 시작\n",
      "\t 폴드 세트 :  3 시작\n",
      "\t 폴드 세트 :  4 시작\n",
      "\t 폴드 세트 :  5 시작\n",
      "\t 폴드 세트 :  6 시작\n",
      "RandomForestClassifier model 시작\n",
      "\t 폴드 세트 :  0 시작\n",
      "\t 폴드 세트 :  1 시작\n",
      "\t 폴드 세트 :  2 시작\n",
      "\t 폴드 세트 :  3 시작\n",
      "\t 폴드 세트 :  4 시작\n",
      "\t 폴드 세트 :  5 시작\n",
      "\t 폴드 세트 :  6 시작\n",
      "DecisionTreeClassifier model 시작\n",
      "\t 폴드 세트 :  0 시작\n",
      "\t 폴드 세트 :  1 시작\n",
      "\t 폴드 세트 :  2 시작\n",
      "\t 폴드 세트 :  3 시작\n",
      "\t 폴드 세트 :  4 시작\n",
      "\t 폴드 세트 :  5 시작\n",
      "\t 폴드 세트 :  6 시작\n",
      "AdaBoostClassifier model 시작\n",
      "\t 폴드 세트 :  0 시작\n"
     ]
    },
    {
     "name": "stderr",
     "output_type": "stream",
     "text": [
      "C:\\ProgramData\\Anaconda3\\lib\\site-packages\\sklearn\\model_selection\\_split.py:297: FutureWarning: Setting a random_state has no effect since shuffle is False. This will raise an error in 0.24. You should leave random_state to its default (None), or set shuffle=True.\n",
      "  FutureWarning\n",
      "C:\\ProgramData\\Anaconda3\\lib\\site-packages\\sklearn\\model_selection\\_split.py:297: FutureWarning: Setting a random_state has no effect since shuffle is False. This will raise an error in 0.24. You should leave random_state to its default (None), or set shuffle=True.\n",
      "  FutureWarning\n"
     ]
    },
    {
     "name": "stdout",
     "output_type": "stream",
     "text": [
      "\t 폴드 세트 :  1 시작\n",
      "\t 폴드 세트 :  2 시작\n",
      "\t 폴드 세트 :  3 시작\n",
      "\t 폴드 세트 :  4 시작\n",
      "\t 폴드 세트 :  5 시작\n",
      "\t 폴드 세트 :  6 시작\n"
     ]
    }
   ],
   "source": [
    "knn_train, knn_test = get_stacking_base_datasets(knn_clf, X_train, y_train, X_test, 7)\n",
    "rf_train, rf_test = get_stacking_base_datasets(rf_clf, X_train, y_train, X_test, 7)\n",
    "dt_train, dt_test = get_stacking_base_datasets(dt_clf, X_train, y_train, X_test, 7)\n",
    "ada_train, ada_test = get_stacking_base_datasets(ada_clf, X_train, y_train, X_test, 7)"
   ]
  },
  {
   "cell_type": "code",
   "execution_count": 12,
   "metadata": {},
   "outputs": [
    {
     "name": "stdout",
     "output_type": "stream",
     "text": [
      "(455, 30)\n",
      "(114, 30)\n",
      "(455, 1)\n",
      "(114, 1)\n"
     ]
    }
   ],
   "source": [
    "print(X_train.shape)\n",
    "print(X_test.shape)\n",
    "print(ada_train.shape)\n",
    "print(ada_test.shape)"
   ]
  },
  {
   "cell_type": "code",
   "execution_count": 13,
   "metadata": {},
   "outputs": [
    {
     "name": "stdout",
     "output_type": "stream",
     "text": [
      "(455, 30)\n",
      "(114, 30)\n",
      "(455, 4)\n",
      "(114, 4)\n"
     ]
    }
   ],
   "source": [
    "stack_final_X_train = np.concatenate((knn_train, rf_train, dt_train, ada_train), axis=1)\n",
    "stack_final_X_test = np.concatenate((knn_test, rf_test, dt_test, ada_test), axis=1)\n",
    "print(X_train.shape)\n",
    "print(X_test.shape)\n",
    "print(stack_final_X_train.shape)\n",
    "print(stack_final_X_test.shape)"
   ]
  },
  {
   "cell_type": "code",
   "execution_count": 14,
   "metadata": {},
   "outputs": [
    {
     "name": "stdout",
     "output_type": "stream",
     "text": [
      "최종 로지스틱 회귀 정확도 : 0.9737\n"
     ]
    }
   ],
   "source": [
    "# 최종 ML 모듈 학습, 정확도 측정\n",
    "lr_clf.fit(stack_final_X_train, y_train)\n",
    "stack_final = lr_clf.predict(stack_final_X_test)\n",
    "\n",
    "print(\"최종 로지스틱 회귀 정확도 : {:.4f}\".format(accuracy_score(y_test, stack_final)))"
   ]
  },
  {
   "cell_type": "code",
   "execution_count": null,
   "metadata": {},
   "outputs": [],
   "source": []
  }
 ],
 "metadata": {
  "kernelspec": {
   "display_name": "Python 3",
   "language": "python",
   "name": "python3"
  },
  "language_info": {
   "codemirror_mode": {
    "name": "ipython",
    "version": 3
   },
   "file_extension": ".py",
   "mimetype": "text/x-python",
   "name": "python",
   "nbconvert_exporter": "python",
   "pygments_lexer": "ipython3",
   "version": "3.7.6"
  }
 },
 "nbformat": 4,
 "nbformat_minor": 4
}
