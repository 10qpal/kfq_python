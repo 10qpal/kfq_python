{
 "cells": [
  {
   "cell_type": "code",
   "execution_count": 1,
   "metadata": {},
   "outputs": [],
   "source": [
    "import pandas as pd"
   ]
  },
  {
   "cell_type": "code",
   "execution_count": 2,
   "metadata": {},
   "outputs": [],
   "source": [
    "customer = pd.read_csv('customer_join.csv')"
   ]
  },
  {
   "cell_type": "code",
   "execution_count": 3,
   "metadata": {},
   "outputs": [
    {
     "data": {
      "text/html": [
       "<div>\n",
       "<style scoped>\n",
       "    .dataframe tbody tr th:only-of-type {\n",
       "        vertical-align: middle;\n",
       "    }\n",
       "\n",
       "    .dataframe tbody tr th {\n",
       "        vertical-align: top;\n",
       "    }\n",
       "\n",
       "    .dataframe thead th {\n",
       "        text-align: right;\n",
       "    }\n",
       "</style>\n",
       "<table border=\"1\" class=\"dataframe\">\n",
       "  <thead>\n",
       "    <tr style=\"text-align: right;\">\n",
       "      <th></th>\n",
       "      <th>customer_id</th>\n",
       "      <th>name</th>\n",
       "      <th>class</th>\n",
       "      <th>gender</th>\n",
       "      <th>start_date</th>\n",
       "      <th>end_date</th>\n",
       "      <th>campaign_id</th>\n",
       "      <th>is_deleted</th>\n",
       "      <th>class_name</th>\n",
       "      <th>price</th>\n",
       "      <th>campaign_name</th>\n",
       "      <th>mean</th>\n",
       "      <th>median</th>\n",
       "      <th>max</th>\n",
       "      <th>min</th>\n",
       "      <th>routine_flg</th>\n",
       "      <th>calc_date</th>\n",
       "      <th>membership_period</th>\n",
       "    </tr>\n",
       "  </thead>\n",
       "  <tbody>\n",
       "    <tr>\n",
       "      <th>0</th>\n",
       "      <td>OA832399</td>\n",
       "      <td>XXXX</td>\n",
       "      <td>C01</td>\n",
       "      <td>F</td>\n",
       "      <td>2015-05-01</td>\n",
       "      <td>NaN</td>\n",
       "      <td>CA1</td>\n",
       "      <td>0</td>\n",
       "      <td>종일</td>\n",
       "      <td>10500</td>\n",
       "      <td>일반</td>\n",
       "      <td>4.833333</td>\n",
       "      <td>5.0</td>\n",
       "      <td>8</td>\n",
       "      <td>2</td>\n",
       "      <td>1</td>\n",
       "      <td>2019-04-30</td>\n",
       "      <td>47</td>\n",
       "    </tr>\n",
       "    <tr>\n",
       "      <th>1</th>\n",
       "      <td>PL270116</td>\n",
       "      <td>XXXXX</td>\n",
       "      <td>C01</td>\n",
       "      <td>M</td>\n",
       "      <td>2015-05-01</td>\n",
       "      <td>NaN</td>\n",
       "      <td>CA1</td>\n",
       "      <td>0</td>\n",
       "      <td>종일</td>\n",
       "      <td>10500</td>\n",
       "      <td>일반</td>\n",
       "      <td>5.083333</td>\n",
       "      <td>5.0</td>\n",
       "      <td>7</td>\n",
       "      <td>3</td>\n",
       "      <td>1</td>\n",
       "      <td>2019-04-30</td>\n",
       "      <td>47</td>\n",
       "    </tr>\n",
       "  </tbody>\n",
       "</table>\n",
       "</div>"
      ],
      "text/plain": [
       "  customer_id   name class gender  start_date end_date campaign_id  \\\n",
       "0    OA832399   XXXX   C01      F  2015-05-01      NaN         CA1   \n",
       "1    PL270116  XXXXX   C01      M  2015-05-01      NaN         CA1   \n",
       "\n",
       "   is_deleted class_name  price campaign_name      mean  median  max  min  \\\n",
       "0           0         종일  10500            일반  4.833333     5.0    8    2   \n",
       "1           0         종일  10500            일반  5.083333     5.0    7    3   \n",
       "\n",
       "   routine_flg   calc_date  membership_period  \n",
       "0            1  2019-04-30                 47  \n",
       "1            1  2019-04-30                 47  "
      ]
     },
     "execution_count": 3,
     "metadata": {},
     "output_type": "execute_result"
    }
   ],
   "source": [
    "customer.head(2)"
   ]
  },
  {
   "cell_type": "code",
   "execution_count": 4,
   "metadata": {},
   "outputs": [
    {
     "data": {
      "text/plain": [
       "(4192, 18)"
      ]
     },
     "execution_count": 4,
     "metadata": {},
     "output_type": "execute_result"
    }
   ],
   "source": [
    "customer.shape"
   ]
  },
  {
   "cell_type": "code",
   "execution_count": 5,
   "metadata": {},
   "outputs": [
    {
     "name": "stdout",
     "output_type": "stream",
     "text": [
      "<class 'pandas.core.frame.DataFrame'>\n",
      "RangeIndex: 4192 entries, 0 to 4191\n",
      "Data columns (total 18 columns):\n",
      " #   Column             Non-Null Count  Dtype  \n",
      "---  ------             --------------  -----  \n",
      " 0   customer_id        4192 non-null   object \n",
      " 1   name               4192 non-null   object \n",
      " 2   class              4192 non-null   object \n",
      " 3   gender             4192 non-null   object \n",
      " 4   start_date         4192 non-null   object \n",
      " 5   end_date           1350 non-null   object \n",
      " 6   campaign_id        4192 non-null   object \n",
      " 7   is_deleted         4192 non-null   int64  \n",
      " 8   class_name         4192 non-null   object \n",
      " 9   price              4192 non-null   int64  \n",
      " 10  campaign_name      4192 non-null   object \n",
      " 11  mean               4192 non-null   float64\n",
      " 12  median             4192 non-null   float64\n",
      " 13  max                4192 non-null   int64  \n",
      " 14  min                4192 non-null   int64  \n",
      " 15  routine_flg        4192 non-null   int64  \n",
      " 16  calc_date          4192 non-null   object \n",
      " 17  membership_period  4192 non-null   int64  \n",
      "dtypes: float64(2), int64(6), object(10)\n",
      "memory usage: 589.6+ KB\n"
     ]
    }
   ],
   "source": [
    "customer.info()"
   ]
  },
  {
   "cell_type": "code",
   "execution_count": 6,
   "metadata": {},
   "outputs": [],
   "source": [
    "uselog_months = pd.read_csv('use_log_months.csv')"
   ]
  },
  {
   "cell_type": "code",
   "execution_count": 7,
   "metadata": {},
   "outputs": [
    {
     "data": {
      "text/html": [
       "<div>\n",
       "<style scoped>\n",
       "    .dataframe tbody tr th:only-of-type {\n",
       "        vertical-align: middle;\n",
       "    }\n",
       "\n",
       "    .dataframe tbody tr th {\n",
       "        vertical-align: top;\n",
       "    }\n",
       "\n",
       "    .dataframe thead th {\n",
       "        text-align: right;\n",
       "    }\n",
       "</style>\n",
       "<table border=\"1\" class=\"dataframe\">\n",
       "  <thead>\n",
       "    <tr style=\"text-align: right;\">\n",
       "      <th></th>\n",
       "      <th>연월</th>\n",
       "      <th>customer_id</th>\n",
       "      <th>count</th>\n",
       "    </tr>\n",
       "  </thead>\n",
       "  <tbody>\n",
       "    <tr>\n",
       "      <th>0</th>\n",
       "      <td>201804</td>\n",
       "      <td>AS002855</td>\n",
       "      <td>4</td>\n",
       "    </tr>\n",
       "    <tr>\n",
       "      <th>1</th>\n",
       "      <td>201804</td>\n",
       "      <td>AS009013</td>\n",
       "      <td>2</td>\n",
       "    </tr>\n",
       "  </tbody>\n",
       "</table>\n",
       "</div>"
      ],
      "text/plain": [
       "       연월 customer_id  count\n",
       "0  201804    AS002855      4\n",
       "1  201804    AS009013      2"
      ]
     },
     "execution_count": 7,
     "metadata": {},
     "output_type": "execute_result"
    }
   ],
   "source": [
    "uselog_months.head(2)"
   ]
  },
  {
   "cell_type": "code",
   "execution_count": 8,
   "metadata": {},
   "outputs": [
    {
     "data": {
      "text/plain": [
       "(36842, 3)"
      ]
     },
     "execution_count": 8,
     "metadata": {},
     "output_type": "execute_result"
    }
   ],
   "source": [
    "uselog_months.shape"
   ]
  },
  {
   "cell_type": "code",
   "execution_count": 9,
   "metadata": {},
   "outputs": [
    {
     "name": "stdout",
     "output_type": "stream",
     "text": [
      "<class 'pandas.core.frame.DataFrame'>\n",
      "RangeIndex: 36842 entries, 0 to 36841\n",
      "Data columns (total 3 columns):\n",
      " #   Column       Non-Null Count  Dtype \n",
      "---  ------       --------------  ----- \n",
      " 0   연월           36842 non-null  int64 \n",
      " 1   customer_id  36842 non-null  object\n",
      " 2   count        36842 non-null  int64 \n",
      "dtypes: int64(2), object(1)\n",
      "memory usage: 863.6+ KB\n"
     ]
    }
   ],
   "source": [
    "uselog_months.info()"
   ]
  },
  {
   "cell_type": "code",
   "execution_count": 10,
   "metadata": {},
   "outputs": [],
   "source": [
    "year_months = list(uselog_months['연월'].unique())"
   ]
  },
  {
   "cell_type": "code",
   "execution_count": 11,
   "metadata": {},
   "outputs": [
    {
     "data": {
      "text/plain": [
       "[201804,\n",
       " 201805,\n",
       " 201806,\n",
       " 201807,\n",
       " 201808,\n",
       " 201809,\n",
       " 201810,\n",
       " 201811,\n",
       " 201812,\n",
       " 201901,\n",
       " 201902,\n",
       " 201903]"
      ]
     },
     "execution_count": 11,
     "metadata": {},
     "output_type": "execute_result"
    }
   ],
   "source": [
    "year_months"
   ]
  },
  {
   "cell_type": "code",
   "execution_count": 12,
   "metadata": {},
   "outputs": [],
   "source": [
    "uselog=pd.DataFrame()"
   ]
  },
  {
   "cell_type": "code",
   "execution_count": 13,
   "metadata": {},
   "outputs": [
    {
     "name": "stderr",
     "output_type": "stream",
     "text": [
      "C:\\ProgramData\\Anaconda3\\lib\\site-packages\\pandas\\core\\frame.py:4133: SettingWithCopyWarning: \n",
      "A value is trying to be set on a copy of a slice from a DataFrame\n",
      "\n",
      "See the caveats in the documentation: https://pandas.pydata.org/pandas-docs/stable/user_guide/indexing.html#returning-a-view-versus-a-copy\n",
      "  errors=errors,\n"
     ]
    }
   ],
   "source": [
    "for i in range(1,len(year_months)):\n",
    "    tmp = uselog_months.loc[uselog_months['연월']==year_months[i]]\n",
    "    tmp.rename(columns={'count':'count_0'},inplace=True)\n",
    "    tmp_before = uselog_months.loc[uselog_months['연월']==year_months[i-1]]\n",
    "    tmp_before.rename(columns={'count':'count_1'},inplace=True)\n",
    "    del tmp_before['연월']\n",
    "    tmp = pd.merge(tmp,tmp_before,on='customer_id',how='left')\n",
    "    uselog = pd.concat([uselog,tmp],ignore_index=True)   "
   ]
  },
  {
   "cell_type": "code",
   "execution_count": 14,
   "metadata": {},
   "outputs": [
    {
     "data": {
      "text/html": [
       "<div>\n",
       "<style scoped>\n",
       "    .dataframe tbody tr th:only-of-type {\n",
       "        vertical-align: middle;\n",
       "    }\n",
       "\n",
       "    .dataframe tbody tr th {\n",
       "        vertical-align: top;\n",
       "    }\n",
       "\n",
       "    .dataframe thead th {\n",
       "        text-align: right;\n",
       "    }\n",
       "</style>\n",
       "<table border=\"1\" class=\"dataframe\">\n",
       "  <thead>\n",
       "    <tr style=\"text-align: right;\">\n",
       "      <th></th>\n",
       "      <th>연월</th>\n",
       "      <th>customer_id</th>\n",
       "      <th>count_0</th>\n",
       "      <th>count_1</th>\n",
       "    </tr>\n",
       "  </thead>\n",
       "  <tbody>\n",
       "    <tr>\n",
       "      <th>0</th>\n",
       "      <td>201903</td>\n",
       "      <td>AS002855</td>\n",
       "      <td>4</td>\n",
       "      <td>5.0</td>\n",
       "    </tr>\n",
       "    <tr>\n",
       "      <th>1</th>\n",
       "      <td>201903</td>\n",
       "      <td>AS008805</td>\n",
       "      <td>1</td>\n",
       "      <td>6.0</td>\n",
       "    </tr>\n",
       "  </tbody>\n",
       "</table>\n",
       "</div>"
      ],
      "text/plain": [
       "       연월 customer_id  count_0  count_1\n",
       "0  201903    AS002855        4      5.0\n",
       "1  201903    AS008805        1      6.0"
      ]
     },
     "execution_count": 14,
     "metadata": {},
     "output_type": "execute_result"
    }
   ],
   "source": [
    "tmp.head(2)"
   ]
  },
  {
   "cell_type": "code",
   "execution_count": 15,
   "metadata": {},
   "outputs": [
    {
     "data": {
      "text/plain": [
       "(2953, 4)"
      ]
     },
     "execution_count": 15,
     "metadata": {},
     "output_type": "execute_result"
    }
   ],
   "source": [
    "tmp.shape"
   ]
  },
  {
   "cell_type": "code",
   "execution_count": 16,
   "metadata": {},
   "outputs": [
    {
     "data": {
      "text/html": [
       "<div>\n",
       "<style scoped>\n",
       "    .dataframe tbody tr th:only-of-type {\n",
       "        vertical-align: middle;\n",
       "    }\n",
       "\n",
       "    .dataframe tbody tr th {\n",
       "        vertical-align: top;\n",
       "    }\n",
       "\n",
       "    .dataframe thead th {\n",
       "        text-align: right;\n",
       "    }\n",
       "</style>\n",
       "<table border=\"1\" class=\"dataframe\">\n",
       "  <thead>\n",
       "    <tr style=\"text-align: right;\">\n",
       "      <th></th>\n",
       "      <th>연월</th>\n",
       "      <th>customer_id</th>\n",
       "      <th>count_0</th>\n",
       "      <th>count_1</th>\n",
       "    </tr>\n",
       "  </thead>\n",
       "  <tbody>\n",
       "    <tr>\n",
       "      <th>0</th>\n",
       "      <td>201805</td>\n",
       "      <td>AS002855</td>\n",
       "      <td>5</td>\n",
       "      <td>4.0</td>\n",
       "    </tr>\n",
       "    <tr>\n",
       "      <th>1</th>\n",
       "      <td>201805</td>\n",
       "      <td>AS009373</td>\n",
       "      <td>4</td>\n",
       "      <td>3.0</td>\n",
       "    </tr>\n",
       "  </tbody>\n",
       "</table>\n",
       "</div>"
      ],
      "text/plain": [
       "       연월 customer_id  count_0  count_1\n",
       "0  201805    AS002855        5      4.0\n",
       "1  201805    AS009373        4      3.0"
      ]
     },
     "execution_count": 16,
     "metadata": {},
     "output_type": "execute_result"
    }
   ],
   "source": [
    "uselog.head(2)"
   ]
  },
  {
   "cell_type": "code",
   "execution_count": 17,
   "metadata": {},
   "outputs": [
    {
     "data": {
      "text/plain": [
       "(33851, 4)"
      ]
     },
     "execution_count": 17,
     "metadata": {},
     "output_type": "execute_result"
    }
   ],
   "source": [
    "uselog.shape"
   ]
  },
  {
   "cell_type": "code",
   "execution_count": 18,
   "metadata": {},
   "outputs": [],
   "source": [
    "from dateutil.relativedelta import relativedelta"
   ]
  },
  {
   "cell_type": "code",
   "execution_count": 19,
   "metadata": {},
   "outputs": [],
   "source": [
    "exit_customer = customer.loc[customer['is_deleted']==1]"
   ]
  },
  {
   "cell_type": "code",
   "execution_count": 20,
   "metadata": {},
   "outputs": [
    {
     "data": {
      "text/html": [
       "<div>\n",
       "<style scoped>\n",
       "    .dataframe tbody tr th:only-of-type {\n",
       "        vertical-align: middle;\n",
       "    }\n",
       "\n",
       "    .dataframe tbody tr th {\n",
       "        vertical-align: top;\n",
       "    }\n",
       "\n",
       "    .dataframe thead th {\n",
       "        text-align: right;\n",
       "    }\n",
       "</style>\n",
       "<table border=\"1\" class=\"dataframe\">\n",
       "  <thead>\n",
       "    <tr style=\"text-align: right;\">\n",
       "      <th></th>\n",
       "      <th>customer_id</th>\n",
       "      <th>name</th>\n",
       "      <th>class</th>\n",
       "      <th>gender</th>\n",
       "      <th>start_date</th>\n",
       "      <th>end_date</th>\n",
       "      <th>campaign_id</th>\n",
       "      <th>is_deleted</th>\n",
       "      <th>class_name</th>\n",
       "      <th>price</th>\n",
       "      <th>campaign_name</th>\n",
       "      <th>mean</th>\n",
       "      <th>median</th>\n",
       "      <th>max</th>\n",
       "      <th>min</th>\n",
       "      <th>routine_flg</th>\n",
       "      <th>calc_date</th>\n",
       "      <th>membership_period</th>\n",
       "    </tr>\n",
       "  </thead>\n",
       "  <tbody>\n",
       "    <tr>\n",
       "      <th>708</th>\n",
       "      <td>TS511179</td>\n",
       "      <td>XXXXXX</td>\n",
       "      <td>C01</td>\n",
       "      <td>F</td>\n",
       "      <td>2016-05-01</td>\n",
       "      <td>2018-04-30</td>\n",
       "      <td>CA1</td>\n",
       "      <td>1</td>\n",
       "      <td>종일</td>\n",
       "      <td>10500</td>\n",
       "      <td>일반</td>\n",
       "      <td>3.0</td>\n",
       "      <td>3.0</td>\n",
       "      <td>3</td>\n",
       "      <td>3</td>\n",
       "      <td>0</td>\n",
       "      <td>2018-04-30</td>\n",
       "      <td>23</td>\n",
       "    </tr>\n",
       "    <tr>\n",
       "      <th>729</th>\n",
       "      <td>TS443736</td>\n",
       "      <td>XXXX</td>\n",
       "      <td>C02</td>\n",
       "      <td>M</td>\n",
       "      <td>2016-05-01</td>\n",
       "      <td>2018-04-30</td>\n",
       "      <td>CA1</td>\n",
       "      <td>1</td>\n",
       "      <td>주간</td>\n",
       "      <td>7500</td>\n",
       "      <td>일반</td>\n",
       "      <td>3.0</td>\n",
       "      <td>3.0</td>\n",
       "      <td>3</td>\n",
       "      <td>3</td>\n",
       "      <td>0</td>\n",
       "      <td>2018-04-30</td>\n",
       "      <td>23</td>\n",
       "    </tr>\n",
       "  </tbody>\n",
       "</table>\n",
       "</div>"
      ],
      "text/plain": [
       "    customer_id    name class gender  start_date    end_date campaign_id  \\\n",
       "708    TS511179  XXXXXX   C01      F  2016-05-01  2018-04-30         CA1   \n",
       "729    TS443736    XXXX   C02      M  2016-05-01  2018-04-30         CA1   \n",
       "\n",
       "     is_deleted class_name  price campaign_name  mean  median  max  min  \\\n",
       "708           1         종일  10500            일반   3.0     3.0    3    3   \n",
       "729           1         주간   7500            일반   3.0     3.0    3    3   \n",
       "\n",
       "     routine_flg   calc_date  membership_period  \n",
       "708            0  2018-04-30                 23  \n",
       "729            0  2018-04-30                 23  "
      ]
     },
     "execution_count": 20,
     "metadata": {},
     "output_type": "execute_result"
    }
   ],
   "source": [
    "exit_customer.head(2)"
   ]
  },
  {
   "cell_type": "code",
   "execution_count": 21,
   "metadata": {},
   "outputs": [
    {
     "data": {
      "text/plain": [
       "(1350, 18)"
      ]
     },
     "execution_count": 21,
     "metadata": {},
     "output_type": "execute_result"
    }
   ],
   "source": [
    "exit_customer.shape"
   ]
  },
  {
   "cell_type": "code",
   "execution_count": 22,
   "metadata": {},
   "outputs": [
    {
     "name": "stderr",
     "output_type": "stream",
     "text": [
      "C:\\ProgramData\\Anaconda3\\lib\\site-packages\\ipykernel_launcher.py:1: SettingWithCopyWarning: \n",
      "A value is trying to be set on a copy of a slice from a DataFrame.\n",
      "Try using .loc[row_indexer,col_indexer] = value instead\n",
      "\n",
      "See the caveats in the documentation: https://pandas.pydata.org/pandas-docs/stable/user_guide/indexing.html#returning-a-view-versus-a-copy\n",
      "  \"\"\"Entry point for launching an IPython kernel.\n"
     ]
    }
   ],
   "source": [
    "exit_customer['exit_date']=None"
   ]
  },
  {
   "cell_type": "code",
   "execution_count": 23,
   "metadata": {},
   "outputs": [],
   "source": [
    "import warnings\n",
    "warnings.filterwarnings('ignore')"
   ]
  },
  {
   "cell_type": "code",
   "execution_count": 24,
   "metadata": {},
   "outputs": [],
   "source": [
    "exit_customer['exit_date'] = pd.to_datetime(exit_customer['end_date'])"
   ]
  },
  {
   "cell_type": "code",
   "execution_count": 25,
   "metadata": {},
   "outputs": [
    {
     "data": {
      "text/plain": [
       "708    2018-04-30\n",
       "729    2018-04-30\n",
       "730    2018-04-30\n",
       "770    2018-05-31\n",
       "785    2018-05-31\n",
       "          ...    \n",
       "4049   2019-02-28\n",
       "4050   2019-03-31\n",
       "4068   2019-03-31\n",
       "4086   2019-03-31\n",
       "4099   2019-03-31\n",
       "Name: exit_date, Length: 1350, dtype: datetime64[ns]"
      ]
     },
     "execution_count": 25,
     "metadata": {},
     "output_type": "execute_result"
    }
   ],
   "source": [
    "exit_customer['exit_date']"
   ]
  },
  {
   "cell_type": "code",
   "execution_count": 26,
   "metadata": {},
   "outputs": [],
   "source": [
    "for i in range(len(exit_customer)):\n",
    "    exit_customer['exit_date'].iloc[i] = exit_customer['exit_date'].iloc[i] - relativedelta(months=1)   "
   ]
  },
  {
   "cell_type": "code",
   "execution_count": 27,
   "metadata": {},
   "outputs": [
    {
     "data": {
      "text/plain": [
       "708    2018-03-30\n",
       "729    2018-03-30\n",
       "730    2018-03-30\n",
       "770    2018-04-30\n",
       "785    2018-04-30\n",
       "          ...    \n",
       "4049   2019-01-28\n",
       "4050   2019-02-28\n",
       "4068   2019-02-28\n",
       "4086   2019-02-28\n",
       "4099   2019-02-28\n",
       "Name: exit_date, Length: 1350, dtype: datetime64[ns]"
      ]
     },
     "execution_count": 27,
     "metadata": {},
     "output_type": "execute_result"
    }
   ],
   "source": [
    "exit_customer['exit_date']"
   ]
  },
  {
   "cell_type": "code",
   "execution_count": 28,
   "metadata": {},
   "outputs": [],
   "source": [
    "exit_customer['연월'] = exit_customer['exit_date'].dt.strftime('%Y%m')"
   ]
  },
  {
   "cell_type": "code",
   "execution_count": 29,
   "metadata": {},
   "outputs": [
    {
     "data": {
      "text/html": [
       "<div>\n",
       "<style scoped>\n",
       "    .dataframe tbody tr th:only-of-type {\n",
       "        vertical-align: middle;\n",
       "    }\n",
       "\n",
       "    .dataframe tbody tr th {\n",
       "        vertical-align: top;\n",
       "    }\n",
       "\n",
       "    .dataframe thead th {\n",
       "        text-align: right;\n",
       "    }\n",
       "</style>\n",
       "<table border=\"1\" class=\"dataframe\">\n",
       "  <thead>\n",
       "    <tr style=\"text-align: right;\">\n",
       "      <th></th>\n",
       "      <th>customer_id</th>\n",
       "      <th>name</th>\n",
       "      <th>class</th>\n",
       "      <th>gender</th>\n",
       "      <th>start_date</th>\n",
       "      <th>end_date</th>\n",
       "      <th>campaign_id</th>\n",
       "      <th>is_deleted</th>\n",
       "      <th>class_name</th>\n",
       "      <th>price</th>\n",
       "      <th>campaign_name</th>\n",
       "      <th>mean</th>\n",
       "      <th>median</th>\n",
       "      <th>max</th>\n",
       "      <th>min</th>\n",
       "      <th>routine_flg</th>\n",
       "      <th>calc_date</th>\n",
       "      <th>membership_period</th>\n",
       "      <th>exit_date</th>\n",
       "      <th>연월</th>\n",
       "    </tr>\n",
       "  </thead>\n",
       "  <tbody>\n",
       "    <tr>\n",
       "      <th>708</th>\n",
       "      <td>TS511179</td>\n",
       "      <td>XXXXXX</td>\n",
       "      <td>C01</td>\n",
       "      <td>F</td>\n",
       "      <td>2016-05-01</td>\n",
       "      <td>2018-04-30</td>\n",
       "      <td>CA1</td>\n",
       "      <td>1</td>\n",
       "      <td>종일</td>\n",
       "      <td>10500</td>\n",
       "      <td>일반</td>\n",
       "      <td>3.0</td>\n",
       "      <td>3.0</td>\n",
       "      <td>3</td>\n",
       "      <td>3</td>\n",
       "      <td>0</td>\n",
       "      <td>2018-04-30</td>\n",
       "      <td>23</td>\n",
       "      <td>2018-03-30</td>\n",
       "      <td>201803</td>\n",
       "    </tr>\n",
       "    <tr>\n",
       "      <th>729</th>\n",
       "      <td>TS443736</td>\n",
       "      <td>XXXX</td>\n",
       "      <td>C02</td>\n",
       "      <td>M</td>\n",
       "      <td>2016-05-01</td>\n",
       "      <td>2018-04-30</td>\n",
       "      <td>CA1</td>\n",
       "      <td>1</td>\n",
       "      <td>주간</td>\n",
       "      <td>7500</td>\n",
       "      <td>일반</td>\n",
       "      <td>3.0</td>\n",
       "      <td>3.0</td>\n",
       "      <td>3</td>\n",
       "      <td>3</td>\n",
       "      <td>0</td>\n",
       "      <td>2018-04-30</td>\n",
       "      <td>23</td>\n",
       "      <td>2018-03-30</td>\n",
       "      <td>201803</td>\n",
       "    </tr>\n",
       "  </tbody>\n",
       "</table>\n",
       "</div>"
      ],
      "text/plain": [
       "    customer_id    name class gender  start_date    end_date campaign_id  \\\n",
       "708    TS511179  XXXXXX   C01      F  2016-05-01  2018-04-30         CA1   \n",
       "729    TS443736    XXXX   C02      M  2016-05-01  2018-04-30         CA1   \n",
       "\n",
       "     is_deleted class_name  price campaign_name  mean  median  max  min  \\\n",
       "708           1         종일  10500            일반   3.0     3.0    3    3   \n",
       "729           1         주간   7500            일반   3.0     3.0    3    3   \n",
       "\n",
       "     routine_flg   calc_date  membership_period  exit_date      연월  \n",
       "708            0  2018-04-30                 23 2018-03-30  201803  \n",
       "729            0  2018-04-30                 23 2018-03-30  201803  "
      ]
     },
     "execution_count": 29,
     "metadata": {},
     "output_type": "execute_result"
    }
   ],
   "source": [
    "exit_customer.head(2)"
   ]
  },
  {
   "cell_type": "code",
   "execution_count": 30,
   "metadata": {},
   "outputs": [
    {
     "data": {
      "text/html": [
       "<div>\n",
       "<style scoped>\n",
       "    .dataframe tbody tr th:only-of-type {\n",
       "        vertical-align: middle;\n",
       "    }\n",
       "\n",
       "    .dataframe tbody tr th {\n",
       "        vertical-align: top;\n",
       "    }\n",
       "\n",
       "    .dataframe thead th {\n",
       "        text-align: right;\n",
       "    }\n",
       "</style>\n",
       "<table border=\"1\" class=\"dataframe\">\n",
       "  <thead>\n",
       "    <tr style=\"text-align: right;\">\n",
       "      <th></th>\n",
       "      <th>연월</th>\n",
       "      <th>customer_id</th>\n",
       "      <th>count_0</th>\n",
       "      <th>count_1</th>\n",
       "    </tr>\n",
       "  </thead>\n",
       "  <tbody>\n",
       "    <tr>\n",
       "      <th>0</th>\n",
       "      <td>201805</td>\n",
       "      <td>AS002855</td>\n",
       "      <td>5</td>\n",
       "      <td>4.0</td>\n",
       "    </tr>\n",
       "    <tr>\n",
       "      <th>1</th>\n",
       "      <td>201805</td>\n",
       "      <td>AS009373</td>\n",
       "      <td>4</td>\n",
       "      <td>3.0</td>\n",
       "    </tr>\n",
       "  </tbody>\n",
       "</table>\n",
       "</div>"
      ],
      "text/plain": [
       "       연월 customer_id  count_0  count_1\n",
       "0  201805    AS002855        5      4.0\n",
       "1  201805    AS009373        4      3.0"
      ]
     },
     "execution_count": 30,
     "metadata": {},
     "output_type": "execute_result"
    }
   ],
   "source": [
    "uselog.head(2)"
   ]
  },
  {
   "cell_type": "code",
   "execution_count": 31,
   "metadata": {},
   "outputs": [
    {
     "name": "stdout",
     "output_type": "stream",
     "text": [
      "<class 'pandas.core.frame.DataFrame'>\n",
      "RangeIndex: 33851 entries, 0 to 33850\n",
      "Data columns (total 4 columns):\n",
      " #   Column       Non-Null Count  Dtype  \n",
      "---  ------       --------------  -----  \n",
      " 0   연월           33851 non-null  int64  \n",
      " 1   customer_id  33851 non-null  object \n",
      " 2   count_0      33851 non-null  int64  \n",
      " 3   count_1      32650 non-null  float64\n",
      "dtypes: float64(1), int64(2), object(1)\n",
      "memory usage: 1.0+ MB\n"
     ]
    }
   ],
   "source": [
    "uselog.info()"
   ]
  },
  {
   "cell_type": "code",
   "execution_count": 32,
   "metadata": {},
   "outputs": [],
   "source": [
    "uselog['연월'] = uselog['연월'].astype(str)"
   ]
  },
  {
   "cell_type": "code",
   "execution_count": 33,
   "metadata": {},
   "outputs": [
    {
     "name": "stdout",
     "output_type": "stream",
     "text": [
      "<class 'pandas.core.frame.DataFrame'>\n",
      "RangeIndex: 33851 entries, 0 to 33850\n",
      "Data columns (total 4 columns):\n",
      " #   Column       Non-Null Count  Dtype  \n",
      "---  ------       --------------  -----  \n",
      " 0   연월           33851 non-null  object \n",
      " 1   customer_id  33851 non-null  object \n",
      " 2   count_0      33851 non-null  int64  \n",
      " 3   count_1      32650 non-null  float64\n",
      "dtypes: float64(1), int64(1), object(2)\n",
      "memory usage: 1.0+ MB\n"
     ]
    }
   ],
   "source": [
    "uselog.info()"
   ]
  },
  {
   "cell_type": "code",
   "execution_count": 34,
   "metadata": {},
   "outputs": [],
   "source": [
    "exit_uselog = pd.merge(uselog,exit_customer,on=['customer_id','연월'],how='left')"
   ]
  },
  {
   "cell_type": "code",
   "execution_count": 35,
   "metadata": {},
   "outputs": [
    {
     "data": {
      "text/plain": [
       "(33851, 22)"
      ]
     },
     "execution_count": 35,
     "metadata": {},
     "output_type": "execute_result"
    }
   ],
   "source": [
    "exit_uselog.shape"
   ]
  },
  {
   "cell_type": "code",
   "execution_count": 36,
   "metadata": {},
   "outputs": [
    {
     "data": {
      "text/html": [
       "<div>\n",
       "<style scoped>\n",
       "    .dataframe tbody tr th:only-of-type {\n",
       "        vertical-align: middle;\n",
       "    }\n",
       "\n",
       "    .dataframe tbody tr th {\n",
       "        vertical-align: top;\n",
       "    }\n",
       "\n",
       "    .dataframe thead th {\n",
       "        text-align: right;\n",
       "    }\n",
       "</style>\n",
       "<table border=\"1\" class=\"dataframe\">\n",
       "  <thead>\n",
       "    <tr style=\"text-align: right;\">\n",
       "      <th></th>\n",
       "      <th>연월</th>\n",
       "      <th>customer_id</th>\n",
       "      <th>count_0</th>\n",
       "      <th>count_1</th>\n",
       "      <th>name</th>\n",
       "      <th>class</th>\n",
       "      <th>gender</th>\n",
       "      <th>start_date</th>\n",
       "      <th>end_date</th>\n",
       "      <th>campaign_id</th>\n",
       "      <th>...</th>\n",
       "      <th>price</th>\n",
       "      <th>campaign_name</th>\n",
       "      <th>mean</th>\n",
       "      <th>median</th>\n",
       "      <th>max</th>\n",
       "      <th>min</th>\n",
       "      <th>routine_flg</th>\n",
       "      <th>calc_date</th>\n",
       "      <th>membership_period</th>\n",
       "      <th>exit_date</th>\n",
       "    </tr>\n",
       "  </thead>\n",
       "  <tbody>\n",
       "    <tr>\n",
       "      <th>28133</th>\n",
       "      <td>201902</td>\n",
       "      <td>AS742617</td>\n",
       "      <td>2</td>\n",
       "      <td>6.0</td>\n",
       "      <td>NaN</td>\n",
       "      <td>NaN</td>\n",
       "      <td>NaN</td>\n",
       "      <td>NaN</td>\n",
       "      <td>NaN</td>\n",
       "      <td>NaN</td>\n",
       "      <td>...</td>\n",
       "      <td>NaN</td>\n",
       "      <td>NaN</td>\n",
       "      <td>NaN</td>\n",
       "      <td>NaN</td>\n",
       "      <td>NaN</td>\n",
       "      <td>NaN</td>\n",
       "      <td>NaN</td>\n",
       "      <td>NaN</td>\n",
       "      <td>NaN</td>\n",
       "      <td>NaT</td>\n",
       "    </tr>\n",
       "    <tr>\n",
       "      <th>7622</th>\n",
       "      <td>201807</td>\n",
       "      <td>HI780815</td>\n",
       "      <td>8</td>\n",
       "      <td>NaN</td>\n",
       "      <td>XXXXX</td>\n",
       "      <td>C03</td>\n",
       "      <td>M</td>\n",
       "      <td>2018-07-08</td>\n",
       "      <td>2018-08-31</td>\n",
       "      <td>CA1</td>\n",
       "      <td>...</td>\n",
       "      <td>6000.0</td>\n",
       "      <td>일반</td>\n",
       "      <td>5.5</td>\n",
       "      <td>5.5</td>\n",
       "      <td>8.0</td>\n",
       "      <td>3.0</td>\n",
       "      <td>0.0</td>\n",
       "      <td>2018-08-31</td>\n",
       "      <td>1.0</td>\n",
       "      <td>2018-07-31</td>\n",
       "    </tr>\n",
       "    <tr>\n",
       "      <th>28449</th>\n",
       "      <td>201902</td>\n",
       "      <td>GD651678</td>\n",
       "      <td>9</td>\n",
       "      <td>7.0</td>\n",
       "      <td>NaN</td>\n",
       "      <td>NaN</td>\n",
       "      <td>NaN</td>\n",
       "      <td>NaN</td>\n",
       "      <td>NaN</td>\n",
       "      <td>NaN</td>\n",
       "      <td>...</td>\n",
       "      <td>NaN</td>\n",
       "      <td>NaN</td>\n",
       "      <td>NaN</td>\n",
       "      <td>NaN</td>\n",
       "      <td>NaN</td>\n",
       "      <td>NaN</td>\n",
       "      <td>NaN</td>\n",
       "      <td>NaN</td>\n",
       "      <td>NaN</td>\n",
       "      <td>NaT</td>\n",
       "    </tr>\n",
       "    <tr>\n",
       "      <th>30421</th>\n",
       "      <td>201902</td>\n",
       "      <td>PL856333</td>\n",
       "      <td>6</td>\n",
       "      <td>4.0</td>\n",
       "      <td>NaN</td>\n",
       "      <td>NaN</td>\n",
       "      <td>NaN</td>\n",
       "      <td>NaN</td>\n",
       "      <td>NaN</td>\n",
       "      <td>NaN</td>\n",
       "      <td>...</td>\n",
       "      <td>NaN</td>\n",
       "      <td>NaN</td>\n",
       "      <td>NaN</td>\n",
       "      <td>NaN</td>\n",
       "      <td>NaN</td>\n",
       "      <td>NaN</td>\n",
       "      <td>NaN</td>\n",
       "      <td>NaN</td>\n",
       "      <td>NaN</td>\n",
       "      <td>NaT</td>\n",
       "    </tr>\n",
       "  </tbody>\n",
       "</table>\n",
       "<p>4 rows × 22 columns</p>\n",
       "</div>"
      ],
      "text/plain": [
       "           연월 customer_id  count_0  count_1   name class gender  start_date  \\\n",
       "28133  201902    AS742617        2      6.0    NaN   NaN    NaN         NaN   \n",
       "7622   201807    HI780815        8      NaN  XXXXX   C03      M  2018-07-08   \n",
       "28449  201902    GD651678        9      7.0    NaN   NaN    NaN         NaN   \n",
       "30421  201902    PL856333        6      4.0    NaN   NaN    NaN         NaN   \n",
       "\n",
       "         end_date campaign_id  ...   price campaign_name  mean median  max  \\\n",
       "28133         NaN         NaN  ...     NaN           NaN   NaN    NaN  NaN   \n",
       "7622   2018-08-31         CA1  ...  6000.0            일반   5.5    5.5  8.0   \n",
       "28449         NaN         NaN  ...     NaN           NaN   NaN    NaN  NaN   \n",
       "30421         NaN         NaN  ...     NaN           NaN   NaN    NaN  NaN   \n",
       "\n",
       "       min  routine_flg   calc_date  membership_period  exit_date  \n",
       "28133  NaN          NaN         NaN                NaN        NaT  \n",
       "7622   3.0          0.0  2018-08-31                1.0 2018-07-31  \n",
       "28449  NaN          NaN         NaN                NaN        NaT  \n",
       "30421  NaN          NaN         NaN                NaN        NaT  \n",
       "\n",
       "[4 rows x 22 columns]"
      ]
     },
     "execution_count": 36,
     "metadata": {},
     "output_type": "execute_result"
    }
   ],
   "source": [
    "exit_uselog.sample(4)"
   ]
  },
  {
   "cell_type": "code",
   "execution_count": 37,
   "metadata": {},
   "outputs": [],
   "source": [
    "exit_uselog = exit_uselog.dropna(subset=['name'])"
   ]
  },
  {
   "cell_type": "code",
   "execution_count": 39,
   "metadata": {},
   "outputs": [
    {
     "data": {
      "text/html": [
       "<div>\n",
       "<style scoped>\n",
       "    .dataframe tbody tr th:only-of-type {\n",
       "        vertical-align: middle;\n",
       "    }\n",
       "\n",
       "    .dataframe tbody tr th {\n",
       "        vertical-align: top;\n",
       "    }\n",
       "\n",
       "    .dataframe thead th {\n",
       "        text-align: right;\n",
       "    }\n",
       "</style>\n",
       "<table border=\"1\" class=\"dataframe\">\n",
       "  <thead>\n",
       "    <tr style=\"text-align: right;\">\n",
       "      <th></th>\n",
       "      <th>연월</th>\n",
       "      <th>customer_id</th>\n",
       "      <th>count_0</th>\n",
       "      <th>count_1</th>\n",
       "      <th>name</th>\n",
       "      <th>class</th>\n",
       "      <th>gender</th>\n",
       "      <th>start_date</th>\n",
       "      <th>end_date</th>\n",
       "      <th>campaign_id</th>\n",
       "      <th>...</th>\n",
       "      <th>price</th>\n",
       "      <th>campaign_name</th>\n",
       "      <th>mean</th>\n",
       "      <th>median</th>\n",
       "      <th>max</th>\n",
       "      <th>min</th>\n",
       "      <th>routine_flg</th>\n",
       "      <th>calc_date</th>\n",
       "      <th>membership_period</th>\n",
       "      <th>exit_date</th>\n",
       "    </tr>\n",
       "  </thead>\n",
       "  <tbody>\n",
       "    <tr>\n",
       "      <th>18256</th>\n",
       "      <td>201810</td>\n",
       "      <td>TS075183</td>\n",
       "      <td>3</td>\n",
       "      <td>2.0</td>\n",
       "      <td>XXXXX</td>\n",
       "      <td>C01</td>\n",
       "      <td>M</td>\n",
       "      <td>2018-04-12</td>\n",
       "      <td>2018-11-30</td>\n",
       "      <td>CA3</td>\n",
       "      <td>...</td>\n",
       "      <td>10500.0</td>\n",
       "      <td>입회비무료</td>\n",
       "      <td>4.25</td>\n",
       "      <td>4.5</td>\n",
       "      <td>8.0</td>\n",
       "      <td>2.0</td>\n",
       "      <td>1.0</td>\n",
       "      <td>2018-11-30</td>\n",
       "      <td>7.0</td>\n",
       "      <td>2018-10-30</td>\n",
       "    </tr>\n",
       "    <tr>\n",
       "      <th>11952</th>\n",
       "      <td>201808</td>\n",
       "      <td>PL829579</td>\n",
       "      <td>4</td>\n",
       "      <td>8.0</td>\n",
       "      <td>XXX</td>\n",
       "      <td>C01</td>\n",
       "      <td>M</td>\n",
       "      <td>2018-07-13</td>\n",
       "      <td>2018-09-30</td>\n",
       "      <td>CA1</td>\n",
       "      <td>...</td>\n",
       "      <td>10500.0</td>\n",
       "      <td>일반</td>\n",
       "      <td>5.00</td>\n",
       "      <td>4.0</td>\n",
       "      <td>8.0</td>\n",
       "      <td>3.0</td>\n",
       "      <td>1.0</td>\n",
       "      <td>2018-09-30</td>\n",
       "      <td>2.0</td>\n",
       "      <td>2018-08-30</td>\n",
       "    </tr>\n",
       "    <tr>\n",
       "      <th>10906</th>\n",
       "      <td>201808</td>\n",
       "      <td>IK147368</td>\n",
       "      <td>2</td>\n",
       "      <td>3.0</td>\n",
       "      <td>XXXX</td>\n",
       "      <td>C03</td>\n",
       "      <td>F</td>\n",
       "      <td>2016-10-01</td>\n",
       "      <td>2018-09-30</td>\n",
       "      <td>CA1</td>\n",
       "      <td>...</td>\n",
       "      <td>6000.0</td>\n",
       "      <td>일반</td>\n",
       "      <td>2.50</td>\n",
       "      <td>3.0</td>\n",
       "      <td>3.0</td>\n",
       "      <td>1.0</td>\n",
       "      <td>0.0</td>\n",
       "      <td>2018-09-30</td>\n",
       "      <td>23.0</td>\n",
       "      <td>2018-08-30</td>\n",
       "    </tr>\n",
       "    <tr>\n",
       "      <th>7714</th>\n",
       "      <td>201807</td>\n",
       "      <td>IK011787</td>\n",
       "      <td>1</td>\n",
       "      <td>1.0</td>\n",
       "      <td>XXXX</td>\n",
       "      <td>C02</td>\n",
       "      <td>F</td>\n",
       "      <td>2017-09-01</td>\n",
       "      <td>2018-08-31</td>\n",
       "      <td>CA1</td>\n",
       "      <td>...</td>\n",
       "      <td>7500.0</td>\n",
       "      <td>일반</td>\n",
       "      <td>1.80</td>\n",
       "      <td>1.0</td>\n",
       "      <td>4.0</td>\n",
       "      <td>1.0</td>\n",
       "      <td>0.0</td>\n",
       "      <td>2018-08-31</td>\n",
       "      <td>11.0</td>\n",
       "      <td>2018-07-31</td>\n",
       "    </tr>\n",
       "  </tbody>\n",
       "</table>\n",
       "<p>4 rows × 22 columns</p>\n",
       "</div>"
      ],
      "text/plain": [
       "           연월 customer_id  count_0  count_1   name class gender  start_date  \\\n",
       "18256  201810    TS075183        3      2.0  XXXXX   C01      M  2018-04-12   \n",
       "11952  201808    PL829579        4      8.0    XXX   C01      M  2018-07-13   \n",
       "10906  201808    IK147368        2      3.0   XXXX   C03      F  2016-10-01   \n",
       "7714   201807    IK011787        1      1.0   XXXX   C02      F  2017-09-01   \n",
       "\n",
       "         end_date campaign_id  ...    price campaign_name  mean median  max  \\\n",
       "18256  2018-11-30         CA3  ...  10500.0         입회비무료  4.25    4.5  8.0   \n",
       "11952  2018-09-30         CA1  ...  10500.0            일반  5.00    4.0  8.0   \n",
       "10906  2018-09-30         CA1  ...   6000.0            일반  2.50    3.0  3.0   \n",
       "7714   2018-08-31         CA1  ...   7500.0            일반  1.80    1.0  4.0   \n",
       "\n",
       "       min  routine_flg   calc_date  membership_period  exit_date  \n",
       "18256  2.0          1.0  2018-11-30                7.0 2018-10-30  \n",
       "11952  3.0          1.0  2018-09-30                2.0 2018-08-30  \n",
       "10906  1.0          0.0  2018-09-30               23.0 2018-08-30  \n",
       "7714   1.0          0.0  2018-08-31               11.0 2018-07-31  \n",
       "\n",
       "[4 rows x 22 columns]"
      ]
     },
     "execution_count": 39,
     "metadata": {},
     "output_type": "execute_result"
    }
   ],
   "source": [
    "exit_uselog.sample(4)"
   ]
  },
  {
   "cell_type": "code",
   "execution_count": 40,
   "metadata": {},
   "outputs": [
    {
     "data": {
      "text/plain": [
       "연월                    0\n",
       "customer_id           0\n",
       "count_0               0\n",
       "count_1              52\n",
       "name                  0\n",
       "class                 0\n",
       "gender                0\n",
       "start_date            0\n",
       "end_date              0\n",
       "campaign_id           0\n",
       "is_deleted            0\n",
       "class_name            0\n",
       "price                 0\n",
       "campaign_name         0\n",
       "mean                  0\n",
       "median                0\n",
       "max                   0\n",
       "min                   0\n",
       "routine_flg           0\n",
       "calc_date             0\n",
       "membership_period     0\n",
       "exit_date             0\n",
       "dtype: int64"
      ]
     },
     "execution_count": 40,
     "metadata": {},
     "output_type": "execute_result"
    }
   ],
   "source": [
    "exit_uselog.isnull().sum()"
   ]
  },
  {
   "cell_type": "code",
   "execution_count": 41,
   "metadata": {},
   "outputs": [],
   "source": [
    "conti_customer = customer.loc[customer['is_deleted']==0]"
   ]
  },
  {
   "cell_type": "code",
   "execution_count": 42,
   "metadata": {},
   "outputs": [],
   "source": [
    "conti_uselog = pd.merge(uselog,conti_customer,on=['customer_id'],how='left')"
   ]
  },
  {
   "cell_type": "code",
   "execution_count": 43,
   "metadata": {},
   "outputs": [
    {
     "data": {
      "text/plain": [
       "(33851, 21)"
      ]
     },
     "execution_count": 43,
     "metadata": {},
     "output_type": "execute_result"
    }
   ],
   "source": [
    "conti_uselog.shape"
   ]
  },
  {
   "cell_type": "code",
   "execution_count": 45,
   "metadata": {},
   "outputs": [
    {
     "data": {
      "text/html": [
       "<div>\n",
       "<style scoped>\n",
       "    .dataframe tbody tr th:only-of-type {\n",
       "        vertical-align: middle;\n",
       "    }\n",
       "\n",
       "    .dataframe tbody tr th {\n",
       "        vertical-align: top;\n",
       "    }\n",
       "\n",
       "    .dataframe thead th {\n",
       "        text-align: right;\n",
       "    }\n",
       "</style>\n",
       "<table border=\"1\" class=\"dataframe\">\n",
       "  <thead>\n",
       "    <tr style=\"text-align: right;\">\n",
       "      <th></th>\n",
       "      <th>연월</th>\n",
       "      <th>customer_id</th>\n",
       "      <th>count_0</th>\n",
       "      <th>count_1</th>\n",
       "      <th>name</th>\n",
       "      <th>class</th>\n",
       "      <th>gender</th>\n",
       "      <th>start_date</th>\n",
       "      <th>end_date</th>\n",
       "      <th>campaign_id</th>\n",
       "      <th>...</th>\n",
       "      <th>class_name</th>\n",
       "      <th>price</th>\n",
       "      <th>campaign_name</th>\n",
       "      <th>mean</th>\n",
       "      <th>median</th>\n",
       "      <th>max</th>\n",
       "      <th>min</th>\n",
       "      <th>routine_flg</th>\n",
       "      <th>calc_date</th>\n",
       "      <th>membership_period</th>\n",
       "    </tr>\n",
       "  </thead>\n",
       "  <tbody>\n",
       "    <tr>\n",
       "      <th>23513</th>\n",
       "      <td>201812</td>\n",
       "      <td>IK866321</td>\n",
       "      <td>9</td>\n",
       "      <td>NaN</td>\n",
       "      <td>XX</td>\n",
       "      <td>C03</td>\n",
       "      <td>M</td>\n",
       "      <td>2018-12-10</td>\n",
       "      <td>NaN</td>\n",
       "      <td>CA3</td>\n",
       "      <td>...</td>\n",
       "      <td>야간</td>\n",
       "      <td>6000.0</td>\n",
       "      <td>입회비무료</td>\n",
       "      <td>8.250000</td>\n",
       "      <td>8.0</td>\n",
       "      <td>10.0</td>\n",
       "      <td>7.0</td>\n",
       "      <td>1.0</td>\n",
       "      <td>2019-04-30</td>\n",
       "      <td>4.0</td>\n",
       "    </tr>\n",
       "    <tr>\n",
       "      <th>26599</th>\n",
       "      <td>201901</td>\n",
       "      <td>IK865460</td>\n",
       "      <td>8</td>\n",
       "      <td>4.0</td>\n",
       "      <td>XXXXX</td>\n",
       "      <td>C02</td>\n",
       "      <td>F</td>\n",
       "      <td>2017-07-01</td>\n",
       "      <td>NaN</td>\n",
       "      <td>CA2</td>\n",
       "      <td>...</td>\n",
       "      <td>주간</td>\n",
       "      <td>7500.0</td>\n",
       "      <td>입회비반액할인</td>\n",
       "      <td>5.916667</td>\n",
       "      <td>5.5</td>\n",
       "      <td>9.0</td>\n",
       "      <td>4.0</td>\n",
       "      <td>1.0</td>\n",
       "      <td>2019-04-30</td>\n",
       "      <td>21.0</td>\n",
       "    </tr>\n",
       "    <tr>\n",
       "      <th>631</th>\n",
       "      <td>201805</td>\n",
       "      <td>GD763218</td>\n",
       "      <td>3</td>\n",
       "      <td>3.0</td>\n",
       "      <td>XX</td>\n",
       "      <td>C03</td>\n",
       "      <td>M</td>\n",
       "      <td>2015-10-01</td>\n",
       "      <td>NaN</td>\n",
       "      <td>CA1</td>\n",
       "      <td>...</td>\n",
       "      <td>야간</td>\n",
       "      <td>6000.0</td>\n",
       "      <td>일반</td>\n",
       "      <td>4.166667</td>\n",
       "      <td>4.0</td>\n",
       "      <td>6.0</td>\n",
       "      <td>3.0</td>\n",
       "      <td>1.0</td>\n",
       "      <td>2019-04-30</td>\n",
       "      <td>42.0</td>\n",
       "    </tr>\n",
       "    <tr>\n",
       "      <th>14480</th>\n",
       "      <td>201809</td>\n",
       "      <td>OA332826</td>\n",
       "      <td>9</td>\n",
       "      <td>6.0</td>\n",
       "      <td>XXXXX</td>\n",
       "      <td>C01</td>\n",
       "      <td>M</td>\n",
       "      <td>2018-06-07</td>\n",
       "      <td>NaN</td>\n",
       "      <td>CA2</td>\n",
       "      <td>...</td>\n",
       "      <td>종일</td>\n",
       "      <td>10500.0</td>\n",
       "      <td>입회비반액할인</td>\n",
       "      <td>7.400000</td>\n",
       "      <td>7.0</td>\n",
       "      <td>11.0</td>\n",
       "      <td>6.0</td>\n",
       "      <td>1.0</td>\n",
       "      <td>2019-04-30</td>\n",
       "      <td>10.0</td>\n",
       "    </tr>\n",
       "  </tbody>\n",
       "</table>\n",
       "<p>4 rows × 21 columns</p>\n",
       "</div>"
      ],
      "text/plain": [
       "           연월 customer_id  count_0  count_1   name class gender  start_date  \\\n",
       "23513  201812    IK866321        9      NaN     XX   C03      M  2018-12-10   \n",
       "26599  201901    IK865460        8      4.0  XXXXX   C02      F  2017-07-01   \n",
       "631    201805    GD763218        3      3.0     XX   C03      M  2015-10-01   \n",
       "14480  201809    OA332826        9      6.0  XXXXX   C01      M  2018-06-07   \n",
       "\n",
       "      end_date campaign_id  ...  class_name    price  campaign_name      mean  \\\n",
       "23513      NaN         CA3  ...          야간   6000.0          입회비무료  8.250000   \n",
       "26599      NaN         CA2  ...          주간   7500.0        입회비반액할인  5.916667   \n",
       "631        NaN         CA1  ...          야간   6000.0             일반  4.166667   \n",
       "14480      NaN         CA2  ...          종일  10500.0        입회비반액할인  7.400000   \n",
       "\n",
       "       median   max  min  routine_flg   calc_date membership_period  \n",
       "23513     8.0  10.0  7.0          1.0  2019-04-30               4.0  \n",
       "26599     5.5   9.0  4.0          1.0  2019-04-30              21.0  \n",
       "631       4.0   6.0  3.0          1.0  2019-04-30              42.0  \n",
       "14480     7.0  11.0  6.0          1.0  2019-04-30              10.0  \n",
       "\n",
       "[4 rows x 21 columns]"
      ]
     },
     "execution_count": 45,
     "metadata": {},
     "output_type": "execute_result"
    }
   ],
   "source": [
    "conti_uselog.sample(4)"
   ]
  },
  {
   "cell_type": "code",
   "execution_count": 46,
   "metadata": {
    "collapsed": true,
    "jupyter": {
     "outputs_hidden": true
    }
   },
   "outputs": [
    {
     "data": {
      "text/plain": [
       "연월                       0\n",
       "customer_id              0\n",
       "count_0                  0\n",
       "count_1               1201\n",
       "name                  6429\n",
       "class                 6429\n",
       "gender                6429\n",
       "start_date            6429\n",
       "end_date             33851\n",
       "campaign_id           6429\n",
       "is_deleted            6429\n",
       "class_name            6429\n",
       "price                 6429\n",
       "campaign_name         6429\n",
       "mean                  6429\n",
       "median                6429\n",
       "max                   6429\n",
       "min                   6429\n",
       "routine_flg           6429\n",
       "calc_date             6429\n",
       "membership_period     6429\n",
       "dtype: int64"
      ]
     },
     "execution_count": 46,
     "metadata": {},
     "output_type": "execute_result"
    }
   ],
   "source": [
    "conti_uselog.isnull().sum()"
   ]
  },
  {
   "cell_type": "code",
   "execution_count": 47,
   "metadata": {},
   "outputs": [],
   "source": [
    "conti_uselog = conti_uselog.dropna(subset=['name'])"
   ]
  },
  {
   "cell_type": "code",
   "execution_count": 48,
   "metadata": {},
   "outputs": [
    {
     "data": {
      "text/plain": [
       "연월                       0\n",
       "customer_id              0\n",
       "count_0                  0\n",
       "count_1                688\n",
       "name                     0\n",
       "class                    0\n",
       "gender                   0\n",
       "start_date               0\n",
       "end_date             27422\n",
       "campaign_id              0\n",
       "is_deleted               0\n",
       "class_name               0\n",
       "price                    0\n",
       "campaign_name            0\n",
       "mean                     0\n",
       "median                   0\n",
       "max                      0\n",
       "min                      0\n",
       "routine_flg              0\n",
       "calc_date                0\n",
       "membership_period        0\n",
       "dtype: int64"
      ]
     },
     "execution_count": 48,
     "metadata": {},
     "output_type": "execute_result"
    }
   ],
   "source": [
    "conti_uselog.isnull().sum()"
   ]
  },
  {
   "cell_type": "code",
   "execution_count": 49,
   "metadata": {},
   "outputs": [],
   "source": [
    "conti_uselog = conti_uselog.sample(frac=1).reset_index(drop=True)"
   ]
  },
  {
   "cell_type": "code",
   "execution_count": 50,
   "metadata": {
    "collapsed": true,
    "jupyter": {
     "outputs_hidden": true
    }
   },
   "outputs": [
    {
     "data": {
      "text/html": [
       "<div>\n",
       "<style scoped>\n",
       "    .dataframe tbody tr th:only-of-type {\n",
       "        vertical-align: middle;\n",
       "    }\n",
       "\n",
       "    .dataframe tbody tr th {\n",
       "        vertical-align: top;\n",
       "    }\n",
       "\n",
       "    .dataframe thead th {\n",
       "        text-align: right;\n",
       "    }\n",
       "</style>\n",
       "<table border=\"1\" class=\"dataframe\">\n",
       "  <thead>\n",
       "    <tr style=\"text-align: right;\">\n",
       "      <th></th>\n",
       "      <th>연월</th>\n",
       "      <th>customer_id</th>\n",
       "      <th>count_0</th>\n",
       "      <th>count_1</th>\n",
       "      <th>name</th>\n",
       "      <th>class</th>\n",
       "      <th>gender</th>\n",
       "      <th>start_date</th>\n",
       "      <th>end_date</th>\n",
       "      <th>campaign_id</th>\n",
       "      <th>...</th>\n",
       "      <th>class_name</th>\n",
       "      <th>price</th>\n",
       "      <th>campaign_name</th>\n",
       "      <th>mean</th>\n",
       "      <th>median</th>\n",
       "      <th>max</th>\n",
       "      <th>min</th>\n",
       "      <th>routine_flg</th>\n",
       "      <th>calc_date</th>\n",
       "      <th>membership_period</th>\n",
       "    </tr>\n",
       "  </thead>\n",
       "  <tbody>\n",
       "    <tr>\n",
       "      <th>0</th>\n",
       "      <td>201812</td>\n",
       "      <td>TS357747</td>\n",
       "      <td>8</td>\n",
       "      <td>10.0</td>\n",
       "      <td>XX</td>\n",
       "      <td>C01</td>\n",
       "      <td>M</td>\n",
       "      <td>2018-05-13</td>\n",
       "      <td>NaN</td>\n",
       "      <td>CA2</td>\n",
       "      <td>...</td>\n",
       "      <td>종일</td>\n",
       "      <td>10500.0</td>\n",
       "      <td>입회비반액할인</td>\n",
       "      <td>7.909091</td>\n",
       "      <td>8.0</td>\n",
       "      <td>10.0</td>\n",
       "      <td>7.0</td>\n",
       "      <td>1.0</td>\n",
       "      <td>2019-04-30</td>\n",
       "      <td>11.0</td>\n",
       "    </tr>\n",
       "    <tr>\n",
       "      <th>1</th>\n",
       "      <td>201806</td>\n",
       "      <td>TS286542</td>\n",
       "      <td>5</td>\n",
       "      <td>4.0</td>\n",
       "      <td>XXXX</td>\n",
       "      <td>C01</td>\n",
       "      <td>M</td>\n",
       "      <td>2016-01-01</td>\n",
       "      <td>NaN</td>\n",
       "      <td>CA1</td>\n",
       "      <td>...</td>\n",
       "      <td>종일</td>\n",
       "      <td>10500.0</td>\n",
       "      <td>일반</td>\n",
       "      <td>4.750000</td>\n",
       "      <td>5.0</td>\n",
       "      <td>8.0</td>\n",
       "      <td>2.0</td>\n",
       "      <td>1.0</td>\n",
       "      <td>2019-04-30</td>\n",
       "      <td>39.0</td>\n",
       "    </tr>\n",
       "    <tr>\n",
       "      <th>2</th>\n",
       "      <td>201805</td>\n",
       "      <td>PL343970</td>\n",
       "      <td>7</td>\n",
       "      <td>6.0</td>\n",
       "      <td>XXXXX</td>\n",
       "      <td>C01</td>\n",
       "      <td>F</td>\n",
       "      <td>2015-10-01</td>\n",
       "      <td>NaN</td>\n",
       "      <td>CA1</td>\n",
       "      <td>...</td>\n",
       "      <td>종일</td>\n",
       "      <td>10500.0</td>\n",
       "      <td>일반</td>\n",
       "      <td>5.250000</td>\n",
       "      <td>5.0</td>\n",
       "      <td>7.0</td>\n",
       "      <td>4.0</td>\n",
       "      <td>1.0</td>\n",
       "      <td>2019-04-30</td>\n",
       "      <td>42.0</td>\n",
       "    </tr>\n",
       "    <tr>\n",
       "      <th>3</th>\n",
       "      <td>201811</td>\n",
       "      <td>OA758034</td>\n",
       "      <td>7</td>\n",
       "      <td>9.0</td>\n",
       "      <td>XXX</td>\n",
       "      <td>C01</td>\n",
       "      <td>F</td>\n",
       "      <td>2016-09-01</td>\n",
       "      <td>NaN</td>\n",
       "      <td>CA1</td>\n",
       "      <td>...</td>\n",
       "      <td>종일</td>\n",
       "      <td>10500.0</td>\n",
       "      <td>일반</td>\n",
       "      <td>4.916667</td>\n",
       "      <td>4.5</td>\n",
       "      <td>9.0</td>\n",
       "      <td>2.0</td>\n",
       "      <td>1.0</td>\n",
       "      <td>2019-04-30</td>\n",
       "      <td>31.0</td>\n",
       "    </tr>\n",
       "    <tr>\n",
       "      <th>4</th>\n",
       "      <td>201811</td>\n",
       "      <td>OA955085</td>\n",
       "      <td>4</td>\n",
       "      <td>8.0</td>\n",
       "      <td>XXXXX</td>\n",
       "      <td>C01</td>\n",
       "      <td>F</td>\n",
       "      <td>2015-08-01</td>\n",
       "      <td>NaN</td>\n",
       "      <td>CA1</td>\n",
       "      <td>...</td>\n",
       "      <td>종일</td>\n",
       "      <td>10500.0</td>\n",
       "      <td>일반</td>\n",
       "      <td>4.500000</td>\n",
       "      <td>4.0</td>\n",
       "      <td>8.0</td>\n",
       "      <td>2.0</td>\n",
       "      <td>1.0</td>\n",
       "      <td>2019-04-30</td>\n",
       "      <td>44.0</td>\n",
       "    </tr>\n",
       "  </tbody>\n",
       "</table>\n",
       "<p>5 rows × 21 columns</p>\n",
       "</div>"
      ],
      "text/plain": [
       "       연월 customer_id  count_0  count_1   name class gender  start_date  \\\n",
       "0  201812    TS357747        8     10.0     XX   C01      M  2018-05-13   \n",
       "1  201806    TS286542        5      4.0   XXXX   C01      M  2016-01-01   \n",
       "2  201805    PL343970        7      6.0  XXXXX   C01      F  2015-10-01   \n",
       "3  201811    OA758034        7      9.0    XXX   C01      F  2016-09-01   \n",
       "4  201811    OA955085        4      8.0  XXXXX   C01      F  2015-08-01   \n",
       "\n",
       "  end_date campaign_id  ...  class_name    price  campaign_name      mean  \\\n",
       "0      NaN         CA2  ...          종일  10500.0        입회비반액할인  7.909091   \n",
       "1      NaN         CA1  ...          종일  10500.0             일반  4.750000   \n",
       "2      NaN         CA1  ...          종일  10500.0             일반  5.250000   \n",
       "3      NaN         CA1  ...          종일  10500.0             일반  4.916667   \n",
       "4      NaN         CA1  ...          종일  10500.0             일반  4.500000   \n",
       "\n",
       "   median   max  min  routine_flg   calc_date membership_period  \n",
       "0     8.0  10.0  7.0          1.0  2019-04-30              11.0  \n",
       "1     5.0   8.0  2.0          1.0  2019-04-30              39.0  \n",
       "2     5.0   7.0  4.0          1.0  2019-04-30              42.0  \n",
       "3     4.5   9.0  2.0          1.0  2019-04-30              31.0  \n",
       "4     4.0   8.0  2.0          1.0  2019-04-30              44.0  \n",
       "\n",
       "[5 rows x 21 columns]"
      ]
     },
     "execution_count": 50,
     "metadata": {},
     "output_type": "execute_result"
    }
   ],
   "source": [
    "conti_uselog.head()"
   ]
  },
  {
   "cell_type": "code",
   "execution_count": 51,
   "metadata": {},
   "outputs": [],
   "source": [
    "conti_uselog = conti_uselog.drop_duplicates(subset=['customer_id'])"
   ]
  },
  {
   "cell_type": "code",
   "execution_count": 52,
   "metadata": {},
   "outputs": [
    {
     "data": {
      "text/plain": [
       "(2842, 21)"
      ]
     },
     "execution_count": 52,
     "metadata": {},
     "output_type": "execute_result"
    }
   ],
   "source": [
    "conti_uselog.shape"
   ]
  },
  {
   "cell_type": "code",
   "execution_count": 55,
   "metadata": {},
   "outputs": [],
   "source": [
    "predict_data = pd.concat([conti_uselog,exit_uselog], ignore_index=True)"
   ]
  },
  {
   "cell_type": "code",
   "execution_count": 56,
   "metadata": {
    "collapsed": true,
    "jupyter": {
     "outputs_hidden": true
    }
   },
   "outputs": [
    {
     "data": {
      "text/html": [
       "<div>\n",
       "<style scoped>\n",
       "    .dataframe tbody tr th:only-of-type {\n",
       "        vertical-align: middle;\n",
       "    }\n",
       "\n",
       "    .dataframe tbody tr th {\n",
       "        vertical-align: top;\n",
       "    }\n",
       "\n",
       "    .dataframe thead th {\n",
       "        text-align: right;\n",
       "    }\n",
       "</style>\n",
       "<table border=\"1\" class=\"dataframe\">\n",
       "  <thead>\n",
       "    <tr style=\"text-align: right;\">\n",
       "      <th></th>\n",
       "      <th>연월</th>\n",
       "      <th>customer_id</th>\n",
       "      <th>count_0</th>\n",
       "      <th>count_1</th>\n",
       "      <th>name</th>\n",
       "      <th>class</th>\n",
       "      <th>gender</th>\n",
       "      <th>start_date</th>\n",
       "      <th>end_date</th>\n",
       "      <th>campaign_id</th>\n",
       "      <th>...</th>\n",
       "      <th>price</th>\n",
       "      <th>campaign_name</th>\n",
       "      <th>mean</th>\n",
       "      <th>median</th>\n",
       "      <th>max</th>\n",
       "      <th>min</th>\n",
       "      <th>routine_flg</th>\n",
       "      <th>calc_date</th>\n",
       "      <th>membership_period</th>\n",
       "      <th>exit_date</th>\n",
       "    </tr>\n",
       "  </thead>\n",
       "  <tbody>\n",
       "    <tr>\n",
       "      <th>0</th>\n",
       "      <td>201812</td>\n",
       "      <td>TS357747</td>\n",
       "      <td>8</td>\n",
       "      <td>10.0</td>\n",
       "      <td>XX</td>\n",
       "      <td>C01</td>\n",
       "      <td>M</td>\n",
       "      <td>2018-05-13</td>\n",
       "      <td>NaN</td>\n",
       "      <td>CA2</td>\n",
       "      <td>...</td>\n",
       "      <td>10500.0</td>\n",
       "      <td>입회비반액할인</td>\n",
       "      <td>7.909091</td>\n",
       "      <td>8.0</td>\n",
       "      <td>10.0</td>\n",
       "      <td>7.0</td>\n",
       "      <td>1.0</td>\n",
       "      <td>2019-04-30</td>\n",
       "      <td>11.0</td>\n",
       "      <td>NaT</td>\n",
       "    </tr>\n",
       "    <tr>\n",
       "      <th>1</th>\n",
       "      <td>201806</td>\n",
       "      <td>TS286542</td>\n",
       "      <td>5</td>\n",
       "      <td>4.0</td>\n",
       "      <td>XXXX</td>\n",
       "      <td>C01</td>\n",
       "      <td>M</td>\n",
       "      <td>2016-01-01</td>\n",
       "      <td>NaN</td>\n",
       "      <td>CA1</td>\n",
       "      <td>...</td>\n",
       "      <td>10500.0</td>\n",
       "      <td>일반</td>\n",
       "      <td>4.750000</td>\n",
       "      <td>5.0</td>\n",
       "      <td>8.0</td>\n",
       "      <td>2.0</td>\n",
       "      <td>1.0</td>\n",
       "      <td>2019-04-30</td>\n",
       "      <td>39.0</td>\n",
       "      <td>NaT</td>\n",
       "    </tr>\n",
       "    <tr>\n",
       "      <th>2</th>\n",
       "      <td>201805</td>\n",
       "      <td>PL343970</td>\n",
       "      <td>7</td>\n",
       "      <td>6.0</td>\n",
       "      <td>XXXXX</td>\n",
       "      <td>C01</td>\n",
       "      <td>F</td>\n",
       "      <td>2015-10-01</td>\n",
       "      <td>NaN</td>\n",
       "      <td>CA1</td>\n",
       "      <td>...</td>\n",
       "      <td>10500.0</td>\n",
       "      <td>일반</td>\n",
       "      <td>5.250000</td>\n",
       "      <td>5.0</td>\n",
       "      <td>7.0</td>\n",
       "      <td>4.0</td>\n",
       "      <td>1.0</td>\n",
       "      <td>2019-04-30</td>\n",
       "      <td>42.0</td>\n",
       "      <td>NaT</td>\n",
       "    </tr>\n",
       "    <tr>\n",
       "      <th>3</th>\n",
       "      <td>201811</td>\n",
       "      <td>OA758034</td>\n",
       "      <td>7</td>\n",
       "      <td>9.0</td>\n",
       "      <td>XXX</td>\n",
       "      <td>C01</td>\n",
       "      <td>F</td>\n",
       "      <td>2016-09-01</td>\n",
       "      <td>NaN</td>\n",
       "      <td>CA1</td>\n",
       "      <td>...</td>\n",
       "      <td>10500.0</td>\n",
       "      <td>일반</td>\n",
       "      <td>4.916667</td>\n",
       "      <td>4.5</td>\n",
       "      <td>9.0</td>\n",
       "      <td>2.0</td>\n",
       "      <td>1.0</td>\n",
       "      <td>2019-04-30</td>\n",
       "      <td>31.0</td>\n",
       "      <td>NaT</td>\n",
       "    </tr>\n",
       "    <tr>\n",
       "      <th>4</th>\n",
       "      <td>201811</td>\n",
       "      <td>OA955085</td>\n",
       "      <td>4</td>\n",
       "      <td>8.0</td>\n",
       "      <td>XXXXX</td>\n",
       "      <td>C01</td>\n",
       "      <td>F</td>\n",
       "      <td>2015-08-01</td>\n",
       "      <td>NaN</td>\n",
       "      <td>CA1</td>\n",
       "      <td>...</td>\n",
       "      <td>10500.0</td>\n",
       "      <td>일반</td>\n",
       "      <td>4.500000</td>\n",
       "      <td>4.0</td>\n",
       "      <td>8.0</td>\n",
       "      <td>2.0</td>\n",
       "      <td>1.0</td>\n",
       "      <td>2019-04-30</td>\n",
       "      <td>44.0</td>\n",
       "      <td>NaT</td>\n",
       "    </tr>\n",
       "    <tr>\n",
       "      <th>...</th>\n",
       "      <td>...</td>\n",
       "      <td>...</td>\n",
       "      <td>...</td>\n",
       "      <td>...</td>\n",
       "      <td>...</td>\n",
       "      <td>...</td>\n",
       "      <td>...</td>\n",
       "      <td>...</td>\n",
       "      <td>...</td>\n",
       "      <td>...</td>\n",
       "      <td>...</td>\n",
       "      <td>...</td>\n",
       "      <td>...</td>\n",
       "      <td>...</td>\n",
       "      <td>...</td>\n",
       "      <td>...</td>\n",
       "      <td>...</td>\n",
       "      <td>...</td>\n",
       "      <td>...</td>\n",
       "      <td>...</td>\n",
       "      <td>...</td>\n",
       "    </tr>\n",
       "    <tr>\n",
       "      <th>3941</th>\n",
       "      <td>201902</td>\n",
       "      <td>TS645212</td>\n",
       "      <td>4</td>\n",
       "      <td>2.0</td>\n",
       "      <td>XXXX</td>\n",
       "      <td>C03</td>\n",
       "      <td>F</td>\n",
       "      <td>2018-03-01</td>\n",
       "      <td>2019-03-31</td>\n",
       "      <td>CA1</td>\n",
       "      <td>...</td>\n",
       "      <td>6000.0</td>\n",
       "      <td>일반</td>\n",
       "      <td>4.500000</td>\n",
       "      <td>4.5</td>\n",
       "      <td>7.0</td>\n",
       "      <td>1.0</td>\n",
       "      <td>0.0</td>\n",
       "      <td>2019-03-31</td>\n",
       "      <td>12.0</td>\n",
       "      <td>2019-02-28</td>\n",
       "    </tr>\n",
       "    <tr>\n",
       "      <th>3942</th>\n",
       "      <td>201902</td>\n",
       "      <td>TS741703</td>\n",
       "      <td>5</td>\n",
       "      <td>6.0</td>\n",
       "      <td>XXXX</td>\n",
       "      <td>C03</td>\n",
       "      <td>M</td>\n",
       "      <td>2018-12-08</td>\n",
       "      <td>2019-03-31</td>\n",
       "      <td>CA3</td>\n",
       "      <td>...</td>\n",
       "      <td>6000.0</td>\n",
       "      <td>입회비무료</td>\n",
       "      <td>6.250000</td>\n",
       "      <td>6.0</td>\n",
       "      <td>8.0</td>\n",
       "      <td>5.0</td>\n",
       "      <td>0.0</td>\n",
       "      <td>2019-03-31</td>\n",
       "      <td>3.0</td>\n",
       "      <td>2019-02-28</td>\n",
       "    </tr>\n",
       "    <tr>\n",
       "      <th>3943</th>\n",
       "      <td>201902</td>\n",
       "      <td>TS859258</td>\n",
       "      <td>1</td>\n",
       "      <td>3.0</td>\n",
       "      <td>XXXXX</td>\n",
       "      <td>C02</td>\n",
       "      <td>F</td>\n",
       "      <td>2018-12-07</td>\n",
       "      <td>2019-03-31</td>\n",
       "      <td>CA3</td>\n",
       "      <td>...</td>\n",
       "      <td>7500.0</td>\n",
       "      <td>입회비무료</td>\n",
       "      <td>2.500000</td>\n",
       "      <td>2.0</td>\n",
       "      <td>5.0</td>\n",
       "      <td>1.0</td>\n",
       "      <td>0.0</td>\n",
       "      <td>2019-03-31</td>\n",
       "      <td>3.0</td>\n",
       "      <td>2019-02-28</td>\n",
       "    </tr>\n",
       "    <tr>\n",
       "      <th>3944</th>\n",
       "      <td>201902</td>\n",
       "      <td>TS886985</td>\n",
       "      <td>5</td>\n",
       "      <td>3.0</td>\n",
       "      <td>XXX</td>\n",
       "      <td>C02</td>\n",
       "      <td>F</td>\n",
       "      <td>2018-03-01</td>\n",
       "      <td>2019-03-31</td>\n",
       "      <td>CA1</td>\n",
       "      <td>...</td>\n",
       "      <td>7500.0</td>\n",
       "      <td>일반</td>\n",
       "      <td>4.250000</td>\n",
       "      <td>4.0</td>\n",
       "      <td>7.0</td>\n",
       "      <td>2.0</td>\n",
       "      <td>1.0</td>\n",
       "      <td>2019-03-31</td>\n",
       "      <td>12.0</td>\n",
       "      <td>2019-02-28</td>\n",
       "    </tr>\n",
       "    <tr>\n",
       "      <th>3945</th>\n",
       "      <td>201902</td>\n",
       "      <td>TS921837</td>\n",
       "      <td>2</td>\n",
       "      <td>3.0</td>\n",
       "      <td>XXXXXX</td>\n",
       "      <td>C01</td>\n",
       "      <td>M</td>\n",
       "      <td>2018-06-04</td>\n",
       "      <td>2019-03-31</td>\n",
       "      <td>CA2</td>\n",
       "      <td>...</td>\n",
       "      <td>10500.0</td>\n",
       "      <td>입회비반액할인</td>\n",
       "      <td>4.000000</td>\n",
       "      <td>3.5</td>\n",
       "      <td>9.0</td>\n",
       "      <td>2.0</td>\n",
       "      <td>1.0</td>\n",
       "      <td>2019-03-31</td>\n",
       "      <td>9.0</td>\n",
       "      <td>2019-02-28</td>\n",
       "    </tr>\n",
       "  </tbody>\n",
       "</table>\n",
       "<p>3946 rows × 22 columns</p>\n",
       "</div>"
      ],
      "text/plain": [
       "          연월 customer_id  count_0  count_1    name class gender  start_date  \\\n",
       "0     201812    TS357747        8     10.0      XX   C01      M  2018-05-13   \n",
       "1     201806    TS286542        5      4.0    XXXX   C01      M  2016-01-01   \n",
       "2     201805    PL343970        7      6.0   XXXXX   C01      F  2015-10-01   \n",
       "3     201811    OA758034        7      9.0     XXX   C01      F  2016-09-01   \n",
       "4     201811    OA955085        4      8.0   XXXXX   C01      F  2015-08-01   \n",
       "...      ...         ...      ...      ...     ...   ...    ...         ...   \n",
       "3941  201902    TS645212        4      2.0    XXXX   C03      F  2018-03-01   \n",
       "3942  201902    TS741703        5      6.0    XXXX   C03      M  2018-12-08   \n",
       "3943  201902    TS859258        1      3.0   XXXXX   C02      F  2018-12-07   \n",
       "3944  201902    TS886985        5      3.0     XXX   C02      F  2018-03-01   \n",
       "3945  201902    TS921837        2      3.0  XXXXXX   C01      M  2018-06-04   \n",
       "\n",
       "        end_date campaign_id  ...    price campaign_name      mean median  \\\n",
       "0            NaN         CA2  ...  10500.0       입회비반액할인  7.909091    8.0   \n",
       "1            NaN         CA1  ...  10500.0            일반  4.750000    5.0   \n",
       "2            NaN         CA1  ...  10500.0            일반  5.250000    5.0   \n",
       "3            NaN         CA1  ...  10500.0            일반  4.916667    4.5   \n",
       "4            NaN         CA1  ...  10500.0            일반  4.500000    4.0   \n",
       "...          ...         ...  ...      ...           ...       ...    ...   \n",
       "3941  2019-03-31         CA1  ...   6000.0            일반  4.500000    4.5   \n",
       "3942  2019-03-31         CA3  ...   6000.0         입회비무료  6.250000    6.0   \n",
       "3943  2019-03-31         CA3  ...   7500.0         입회비무료  2.500000    2.0   \n",
       "3944  2019-03-31         CA1  ...   7500.0            일반  4.250000    4.0   \n",
       "3945  2019-03-31         CA2  ...  10500.0       입회비반액할인  4.000000    3.5   \n",
       "\n",
       "       max  min  routine_flg   calc_date  membership_period  exit_date  \n",
       "0     10.0  7.0          1.0  2019-04-30               11.0        NaT  \n",
       "1      8.0  2.0          1.0  2019-04-30               39.0        NaT  \n",
       "2      7.0  4.0          1.0  2019-04-30               42.0        NaT  \n",
       "3      9.0  2.0          1.0  2019-04-30               31.0        NaT  \n",
       "4      8.0  2.0          1.0  2019-04-30               44.0        NaT  \n",
       "...    ...  ...          ...         ...                ...        ...  \n",
       "3941   7.0  1.0          0.0  2019-03-31               12.0 2019-02-28  \n",
       "3942   8.0  5.0          0.0  2019-03-31                3.0 2019-02-28  \n",
       "3943   5.0  1.0          0.0  2019-03-31                3.0 2019-02-28  \n",
       "3944   7.0  2.0          1.0  2019-03-31               12.0 2019-02-28  \n",
       "3945   9.0  2.0          1.0  2019-03-31                9.0 2019-02-28  \n",
       "\n",
       "[3946 rows x 22 columns]"
      ]
     },
     "execution_count": 56,
     "metadata": {},
     "output_type": "execute_result"
    }
   ],
   "source": [
    "predict_data"
   ]
  },
  {
   "cell_type": "code",
   "execution_count": 57,
   "metadata": {},
   "outputs": [
    {
     "name": "stdout",
     "output_type": "stream",
     "text": [
      "<class 'pandas.core.frame.DataFrame'>\n",
      "RangeIndex: 3946 entries, 0 to 3945\n",
      "Data columns (total 22 columns):\n",
      " #   Column             Non-Null Count  Dtype         \n",
      "---  ------             --------------  -----         \n",
      " 0   연월                 3946 non-null   object        \n",
      " 1   customer_id        3946 non-null   object        \n",
      " 2   count_0            3946 non-null   int64         \n",
      " 3   count_1            3691 non-null   float64       \n",
      " 4   name               3946 non-null   object        \n",
      " 5   class              3946 non-null   object        \n",
      " 6   gender             3946 non-null   object        \n",
      " 7   start_date         3946 non-null   object        \n",
      " 8   end_date           1104 non-null   object        \n",
      " 9   campaign_id        3946 non-null   object        \n",
      " 10  is_deleted         3946 non-null   float64       \n",
      " 11  class_name         3946 non-null   object        \n",
      " 12  price              3946 non-null   float64       \n",
      " 13  campaign_name      3946 non-null   object        \n",
      " 14  mean               3946 non-null   float64       \n",
      " 15  median             3946 non-null   float64       \n",
      " 16  max                3946 non-null   float64       \n",
      " 17  min                3946 non-null   float64       \n",
      " 18  routine_flg        3946 non-null   float64       \n",
      " 19  calc_date          3946 non-null   object        \n",
      " 20  membership_period  3946 non-null   float64       \n",
      " 21  exit_date          1104 non-null   datetime64[ns]\n",
      "dtypes: datetime64[ns](1), float64(9), int64(1), object(11)\n",
      "memory usage: 678.3+ KB\n"
     ]
    }
   ],
   "source": [
    "predict_data.info()"
   ]
  },
  {
   "cell_type": "code",
   "execution_count": 58,
   "metadata": {},
   "outputs": [],
   "source": [
    "predict_data['period']=0"
   ]
  },
  {
   "cell_type": "code",
   "execution_count": 59,
   "metadata": {},
   "outputs": [],
   "source": [
    "predict_data['now_date'] = pd.to_datetime(predict_data['연월'],format='%Y%m')"
   ]
  },
  {
   "cell_type": "code",
   "execution_count": 60,
   "metadata": {},
   "outputs": [
    {
     "data": {
      "text/html": [
       "<div>\n",
       "<style scoped>\n",
       "    .dataframe tbody tr th:only-of-type {\n",
       "        vertical-align: middle;\n",
       "    }\n",
       "\n",
       "    .dataframe tbody tr th {\n",
       "        vertical-align: top;\n",
       "    }\n",
       "\n",
       "    .dataframe thead th {\n",
       "        text-align: right;\n",
       "    }\n",
       "</style>\n",
       "<table border=\"1\" class=\"dataframe\">\n",
       "  <thead>\n",
       "    <tr style=\"text-align: right;\">\n",
       "      <th></th>\n",
       "      <th>연월</th>\n",
       "      <th>customer_id</th>\n",
       "      <th>count_0</th>\n",
       "      <th>count_1</th>\n",
       "      <th>name</th>\n",
       "      <th>class</th>\n",
       "      <th>gender</th>\n",
       "      <th>start_date</th>\n",
       "      <th>end_date</th>\n",
       "      <th>campaign_id</th>\n",
       "      <th>...</th>\n",
       "      <th>mean</th>\n",
       "      <th>median</th>\n",
       "      <th>max</th>\n",
       "      <th>min</th>\n",
       "      <th>routine_flg</th>\n",
       "      <th>calc_date</th>\n",
       "      <th>membership_period</th>\n",
       "      <th>exit_date</th>\n",
       "      <th>period</th>\n",
       "      <th>now_date</th>\n",
       "    </tr>\n",
       "  </thead>\n",
       "  <tbody>\n",
       "    <tr>\n",
       "      <th>0</th>\n",
       "      <td>201812</td>\n",
       "      <td>TS357747</td>\n",
       "      <td>8</td>\n",
       "      <td>10.0</td>\n",
       "      <td>XX</td>\n",
       "      <td>C01</td>\n",
       "      <td>M</td>\n",
       "      <td>2018-05-13</td>\n",
       "      <td>NaN</td>\n",
       "      <td>CA2</td>\n",
       "      <td>...</td>\n",
       "      <td>7.909091</td>\n",
       "      <td>8.0</td>\n",
       "      <td>10.0</td>\n",
       "      <td>7.0</td>\n",
       "      <td>1.0</td>\n",
       "      <td>2019-04-30</td>\n",
       "      <td>11.0</td>\n",
       "      <td>NaT</td>\n",
       "      <td>0</td>\n",
       "      <td>2018-12-01</td>\n",
       "    </tr>\n",
       "    <tr>\n",
       "      <th>1</th>\n",
       "      <td>201806</td>\n",
       "      <td>TS286542</td>\n",
       "      <td>5</td>\n",
       "      <td>4.0</td>\n",
       "      <td>XXXX</td>\n",
       "      <td>C01</td>\n",
       "      <td>M</td>\n",
       "      <td>2016-01-01</td>\n",
       "      <td>NaN</td>\n",
       "      <td>CA1</td>\n",
       "      <td>...</td>\n",
       "      <td>4.750000</td>\n",
       "      <td>5.0</td>\n",
       "      <td>8.0</td>\n",
       "      <td>2.0</td>\n",
       "      <td>1.0</td>\n",
       "      <td>2019-04-30</td>\n",
       "      <td>39.0</td>\n",
       "      <td>NaT</td>\n",
       "      <td>0</td>\n",
       "      <td>2018-06-01</td>\n",
       "    </tr>\n",
       "  </tbody>\n",
       "</table>\n",
       "<p>2 rows × 24 columns</p>\n",
       "</div>"
      ],
      "text/plain": [
       "       연월 customer_id  count_0  count_1  name class gender  start_date  \\\n",
       "0  201812    TS357747        8     10.0    XX   C01      M  2018-05-13   \n",
       "1  201806    TS286542        5      4.0  XXXX   C01      M  2016-01-01   \n",
       "\n",
       "  end_date campaign_id  ...      mean median   max  min  routine_flg  \\\n",
       "0      NaN         CA2  ...  7.909091    8.0  10.0  7.0          1.0   \n",
       "1      NaN         CA1  ...  4.750000    5.0   8.0  2.0          1.0   \n",
       "\n",
       "    calc_date  membership_period  exit_date  period   now_date  \n",
       "0  2019-04-30               11.0        NaT       0 2018-12-01  \n",
       "1  2019-04-30               39.0        NaT       0 2018-06-01  \n",
       "\n",
       "[2 rows x 24 columns]"
      ]
     },
     "execution_count": 60,
     "metadata": {},
     "output_type": "execute_result"
    }
   ],
   "source": [
    "predict_data.head(2)"
   ]
  },
  {
   "cell_type": "code",
   "execution_count": 63,
   "metadata": {},
   "outputs": [
    {
     "name": "stdout",
     "output_type": "stream",
     "text": [
      "<class 'pandas.core.frame.DataFrame'>\n",
      "RangeIndex: 3946 entries, 0 to 3945\n",
      "Data columns (total 24 columns):\n",
      " #   Column             Non-Null Count  Dtype         \n",
      "---  ------             --------------  -----         \n",
      " 0   연월                 3946 non-null   object        \n",
      " 1   customer_id        3946 non-null   object        \n",
      " 2   count_0            3946 non-null   int64         \n",
      " 3   count_1            3691 non-null   float64       \n",
      " 4   name               3946 non-null   object        \n",
      " 5   class              3946 non-null   object        \n",
      " 6   gender             3946 non-null   object        \n",
      " 7   start_date         3946 non-null   datetime64[ns]\n",
      " 8   end_date           1104 non-null   object        \n",
      " 9   campaign_id        3946 non-null   object        \n",
      " 10  is_deleted         3946 non-null   float64       \n",
      " 11  class_name         3946 non-null   object        \n",
      " 12  price              3946 non-null   float64       \n",
      " 13  campaign_name      3946 non-null   object        \n",
      " 14  mean               3946 non-null   float64       \n",
      " 15  median             3946 non-null   float64       \n",
      " 16  max                3946 non-null   float64       \n",
      " 17  min                3946 non-null   float64       \n",
      " 18  routine_flg        3946 non-null   float64       \n",
      " 19  calc_date          3946 non-null   object        \n",
      " 20  membership_period  3946 non-null   float64       \n",
      " 21  exit_date          1104 non-null   datetime64[ns]\n",
      " 22  period             3946 non-null   int64         \n",
      " 23  now_date           3946 non-null   datetime64[ns]\n",
      "dtypes: datetime64[ns](3), float64(9), int64(2), object(10)\n",
      "memory usage: 740.0+ KB\n"
     ]
    }
   ],
   "source": [
    "predict_data.info()"
   ]
  },
  {
   "cell_type": "code",
   "execution_count": 62,
   "metadata": {},
   "outputs": [],
   "source": [
    "predict_data['start_date']=pd.to_datetime(predict_data['start_date'])"
   ]
  },
  {
   "cell_type": "code",
   "execution_count": 65,
   "metadata": {},
   "outputs": [],
   "source": [
    "for i in range(len(predict_data)):\n",
    "    delta = relativedelta(predict_data['now_date'][i],predict_data['start_date'][i])\n",
    "    predict_data['period'] = delta.years * 12+ delta.months"
   ]
  },
  {
   "cell_type": "code",
   "execution_count": 67,
   "metadata": {},
   "outputs": [
    {
     "data": {
      "text/html": [
       "<div>\n",
       "<style scoped>\n",
       "    .dataframe tbody tr th:only-of-type {\n",
       "        vertical-align: middle;\n",
       "    }\n",
       "\n",
       "    .dataframe tbody tr th {\n",
       "        vertical-align: top;\n",
       "    }\n",
       "\n",
       "    .dataframe thead th {\n",
       "        text-align: right;\n",
       "    }\n",
       "</style>\n",
       "<table border=\"1\" class=\"dataframe\">\n",
       "  <thead>\n",
       "    <tr style=\"text-align: right;\">\n",
       "      <th></th>\n",
       "      <th>연월</th>\n",
       "      <th>customer_id</th>\n",
       "      <th>count_0</th>\n",
       "      <th>count_1</th>\n",
       "      <th>name</th>\n",
       "      <th>class</th>\n",
       "      <th>gender</th>\n",
       "      <th>start_date</th>\n",
       "      <th>end_date</th>\n",
       "      <th>campaign_id</th>\n",
       "      <th>...</th>\n",
       "      <th>mean</th>\n",
       "      <th>median</th>\n",
       "      <th>max</th>\n",
       "      <th>min</th>\n",
       "      <th>routine_flg</th>\n",
       "      <th>calc_date</th>\n",
       "      <th>membership_period</th>\n",
       "      <th>exit_date</th>\n",
       "      <th>period</th>\n",
       "      <th>now_date</th>\n",
       "    </tr>\n",
       "  </thead>\n",
       "  <tbody>\n",
       "    <tr>\n",
       "      <th>0</th>\n",
       "      <td>201812</td>\n",
       "      <td>TS357747</td>\n",
       "      <td>8</td>\n",
       "      <td>10.0</td>\n",
       "      <td>XX</td>\n",
       "      <td>C01</td>\n",
       "      <td>M</td>\n",
       "      <td>2018-05-13</td>\n",
       "      <td>NaN</td>\n",
       "      <td>CA2</td>\n",
       "      <td>...</td>\n",
       "      <td>7.909091</td>\n",
       "      <td>8.0</td>\n",
       "      <td>10.0</td>\n",
       "      <td>7.0</td>\n",
       "      <td>1.0</td>\n",
       "      <td>2019-04-30</td>\n",
       "      <td>11.0</td>\n",
       "      <td>NaT</td>\n",
       "      <td>7</td>\n",
       "      <td>2018-12-01</td>\n",
       "    </tr>\n",
       "    <tr>\n",
       "      <th>1</th>\n",
       "      <td>201806</td>\n",
       "      <td>TS286542</td>\n",
       "      <td>5</td>\n",
       "      <td>4.0</td>\n",
       "      <td>XXXX</td>\n",
       "      <td>C01</td>\n",
       "      <td>M</td>\n",
       "      <td>2016-01-01</td>\n",
       "      <td>NaN</td>\n",
       "      <td>CA1</td>\n",
       "      <td>...</td>\n",
       "      <td>4.750000</td>\n",
       "      <td>5.0</td>\n",
       "      <td>8.0</td>\n",
       "      <td>2.0</td>\n",
       "      <td>1.0</td>\n",
       "      <td>2019-04-30</td>\n",
       "      <td>39.0</td>\n",
       "      <td>NaT</td>\n",
       "      <td>7</td>\n",
       "      <td>2018-06-01</td>\n",
       "    </tr>\n",
       "  </tbody>\n",
       "</table>\n",
       "<p>2 rows × 24 columns</p>\n",
       "</div>"
      ],
      "text/plain": [
       "       연월 customer_id  count_0  count_1  name class gender start_date  \\\n",
       "0  201812    TS357747        8     10.0    XX   C01      M 2018-05-13   \n",
       "1  201806    TS286542        5      4.0  XXXX   C01      M 2016-01-01   \n",
       "\n",
       "  end_date campaign_id  ...      mean median   max  min  routine_flg  \\\n",
       "0      NaN         CA2  ...  7.909091    8.0  10.0  7.0          1.0   \n",
       "1      NaN         CA1  ...  4.750000    5.0   8.0  2.0          1.0   \n",
       "\n",
       "    calc_date  membership_period  exit_date  period   now_date  \n",
       "0  2019-04-30               11.0        NaT       7 2018-12-01  \n",
       "1  2019-04-30               39.0        NaT       7 2018-06-01  \n",
       "\n",
       "[2 rows x 24 columns]"
      ]
     },
     "execution_count": 67,
     "metadata": {},
     "output_type": "execute_result"
    }
   ],
   "source": [
    "predict_data.head(2)"
   ]
  },
  {
   "cell_type": "code",
   "execution_count": 68,
   "metadata": {},
   "outputs": [
    {
     "data": {
      "text/plain": [
       "연월                      0\n",
       "customer_id             0\n",
       "count_0                 0\n",
       "count_1               255\n",
       "name                    0\n",
       "class                   0\n",
       "gender                  0\n",
       "start_date              0\n",
       "end_date             2842\n",
       "campaign_id             0\n",
       "is_deleted              0\n",
       "class_name              0\n",
       "price                   0\n",
       "campaign_name           0\n",
       "mean                    0\n",
       "median                  0\n",
       "max                     0\n",
       "min                     0\n",
       "routine_flg             0\n",
       "calc_date               0\n",
       "membership_period       0\n",
       "exit_date            2842\n",
       "period                  0\n",
       "now_date                0\n",
       "dtype: int64"
      ]
     },
     "execution_count": 68,
     "metadata": {},
     "output_type": "execute_result"
    }
   ],
   "source": [
    "predict_data.isnull().sum()"
   ]
  },
  {
   "cell_type": "code",
   "execution_count": 69,
   "metadata": {},
   "outputs": [],
   "source": [
    "predict_data = predict_data.dropna(subset=['count_1'])"
   ]
  },
  {
   "cell_type": "code",
   "execution_count": 70,
   "metadata": {},
   "outputs": [
    {
     "data": {
      "text/plain": [
       "연월                      0\n",
       "customer_id             0\n",
       "count_0                 0\n",
       "count_1                 0\n",
       "name                    0\n",
       "class                   0\n",
       "gender                  0\n",
       "start_date              0\n",
       "end_date             2639\n",
       "campaign_id             0\n",
       "is_deleted              0\n",
       "class_name              0\n",
       "price                   0\n",
       "campaign_name           0\n",
       "mean                    0\n",
       "median                  0\n",
       "max                     0\n",
       "min                     0\n",
       "routine_flg             0\n",
       "calc_date               0\n",
       "membership_period       0\n",
       "exit_date            2639\n",
       "period                  0\n",
       "now_date                0\n",
       "dtype: int64"
      ]
     },
     "execution_count": 70,
     "metadata": {},
     "output_type": "execute_result"
    }
   ],
   "source": [
    "predict_data.isnull().sum()"
   ]
  },
  {
   "cell_type": "code",
   "execution_count": 71,
   "metadata": {},
   "outputs": [
    {
     "name": "stdout",
     "output_type": "stream",
     "text": [
      "<class 'pandas.core.frame.DataFrame'>\n",
      "Int64Index: 3691 entries, 0 to 3945\n",
      "Data columns (total 24 columns):\n",
      " #   Column             Non-Null Count  Dtype         \n",
      "---  ------             --------------  -----         \n",
      " 0   연월                 3691 non-null   object        \n",
      " 1   customer_id        3691 non-null   object        \n",
      " 2   count_0            3691 non-null   int64         \n",
      " 3   count_1            3691 non-null   float64       \n",
      " 4   name               3691 non-null   object        \n",
      " 5   class              3691 non-null   object        \n",
      " 6   gender             3691 non-null   object        \n",
      " 7   start_date         3691 non-null   datetime64[ns]\n",
      " 8   end_date           1052 non-null   object        \n",
      " 9   campaign_id        3691 non-null   object        \n",
      " 10  is_deleted         3691 non-null   float64       \n",
      " 11  class_name         3691 non-null   object        \n",
      " 12  price              3691 non-null   float64       \n",
      " 13  campaign_name      3691 non-null   object        \n",
      " 14  mean               3691 non-null   float64       \n",
      " 15  median             3691 non-null   float64       \n",
      " 16  max                3691 non-null   float64       \n",
      " 17  min                3691 non-null   float64       \n",
      " 18  routine_flg        3691 non-null   float64       \n",
      " 19  calc_date          3691 non-null   object        \n",
      " 20  membership_period  3691 non-null   float64       \n",
      " 21  exit_date          1052 non-null   datetime64[ns]\n",
      " 22  period             3691 non-null   int64         \n",
      " 23  now_date           3691 non-null   datetime64[ns]\n",
      "dtypes: datetime64[ns](3), float64(9), int64(2), object(10)\n",
      "memory usage: 720.9+ KB\n"
     ]
    }
   ],
   "source": [
    "predict_data.info()"
   ]
  },
  {
   "cell_type": "code",
   "execution_count": 72,
   "metadata": {},
   "outputs": [],
   "source": [
    "target_col=['campaign_name','class_name','gender','count_1','routine_flg','period','is_deleted']"
   ]
  },
  {
   "cell_type": "code",
   "execution_count": 73,
   "metadata": {},
   "outputs": [],
   "source": [
    "predict_data = predict_data[target_col]"
   ]
  },
  {
   "cell_type": "code",
   "execution_count": 75,
   "metadata": {},
   "outputs": [
    {
     "data": {
      "text/html": [
       "<div>\n",
       "<style scoped>\n",
       "    .dataframe tbody tr th:only-of-type {\n",
       "        vertical-align: middle;\n",
       "    }\n",
       "\n",
       "    .dataframe tbody tr th {\n",
       "        vertical-align: top;\n",
       "    }\n",
       "\n",
       "    .dataframe thead th {\n",
       "        text-align: right;\n",
       "    }\n",
       "</style>\n",
       "<table border=\"1\" class=\"dataframe\">\n",
       "  <thead>\n",
       "    <tr style=\"text-align: right;\">\n",
       "      <th></th>\n",
       "      <th>campaign_name</th>\n",
       "      <th>class_name</th>\n",
       "      <th>gender</th>\n",
       "      <th>count_1</th>\n",
       "      <th>routine_flg</th>\n",
       "      <th>period</th>\n",
       "      <th>is_deleted</th>\n",
       "    </tr>\n",
       "  </thead>\n",
       "  <tbody>\n",
       "    <tr>\n",
       "      <th>0</th>\n",
       "      <td>입회비반액할인</td>\n",
       "      <td>종일</td>\n",
       "      <td>M</td>\n",
       "      <td>10.0</td>\n",
       "      <td>1.0</td>\n",
       "      <td>7</td>\n",
       "      <td>0.0</td>\n",
       "    </tr>\n",
       "    <tr>\n",
       "      <th>1</th>\n",
       "      <td>일반</td>\n",
       "      <td>종일</td>\n",
       "      <td>M</td>\n",
       "      <td>4.0</td>\n",
       "      <td>1.0</td>\n",
       "      <td>7</td>\n",
       "      <td>0.0</td>\n",
       "    </tr>\n",
       "  </tbody>\n",
       "</table>\n",
       "</div>"
      ],
      "text/plain": [
       "  campaign_name class_name gender  count_1  routine_flg  period  is_deleted\n",
       "0       입회비반액할인         종일      M     10.0          1.0       7         0.0\n",
       "1            일반         종일      M      4.0          1.0       7         0.0"
      ]
     },
     "execution_count": 75,
     "metadata": {},
     "output_type": "execute_result"
    }
   ],
   "source": [
    "predict_data.head(2)"
   ]
  },
  {
   "cell_type": "code",
   "execution_count": 76,
   "metadata": {},
   "outputs": [],
   "source": [
    "predict_data = pd.get_dummies(predict_data)"
   ]
  },
  {
   "cell_type": "code",
   "execution_count": 77,
   "metadata": {},
   "outputs": [
    {
     "data": {
      "text/html": [
       "<div>\n",
       "<style scoped>\n",
       "    .dataframe tbody tr th:only-of-type {\n",
       "        vertical-align: middle;\n",
       "    }\n",
       "\n",
       "    .dataframe tbody tr th {\n",
       "        vertical-align: top;\n",
       "    }\n",
       "\n",
       "    .dataframe thead th {\n",
       "        text-align: right;\n",
       "    }\n",
       "</style>\n",
       "<table border=\"1\" class=\"dataframe\">\n",
       "  <thead>\n",
       "    <tr style=\"text-align: right;\">\n",
       "      <th></th>\n",
       "      <th>count_1</th>\n",
       "      <th>routine_flg</th>\n",
       "      <th>period</th>\n",
       "      <th>is_deleted</th>\n",
       "      <th>campaign_name_일반</th>\n",
       "      <th>campaign_name_입회비무료</th>\n",
       "      <th>campaign_name_입회비반액할인</th>\n",
       "      <th>class_name_야간</th>\n",
       "      <th>class_name_종일</th>\n",
       "      <th>class_name_주간</th>\n",
       "      <th>gender_F</th>\n",
       "      <th>gender_M</th>\n",
       "    </tr>\n",
       "  </thead>\n",
       "  <tbody>\n",
       "    <tr>\n",
       "      <th>0</th>\n",
       "      <td>10.0</td>\n",
       "      <td>1.0</td>\n",
       "      <td>7</td>\n",
       "      <td>0.0</td>\n",
       "      <td>0</td>\n",
       "      <td>0</td>\n",
       "      <td>1</td>\n",
       "      <td>0</td>\n",
       "      <td>1</td>\n",
       "      <td>0</td>\n",
       "      <td>0</td>\n",
       "      <td>1</td>\n",
       "    </tr>\n",
       "    <tr>\n",
       "      <th>1</th>\n",
       "      <td>4.0</td>\n",
       "      <td>1.0</td>\n",
       "      <td>7</td>\n",
       "      <td>0.0</td>\n",
       "      <td>1</td>\n",
       "      <td>0</td>\n",
       "      <td>0</td>\n",
       "      <td>0</td>\n",
       "      <td>1</td>\n",
       "      <td>0</td>\n",
       "      <td>0</td>\n",
       "      <td>1</td>\n",
       "    </tr>\n",
       "  </tbody>\n",
       "</table>\n",
       "</div>"
      ],
      "text/plain": [
       "   count_1  routine_flg  period  is_deleted  campaign_name_일반  \\\n",
       "0     10.0          1.0       7         0.0                 0   \n",
       "1      4.0          1.0       7         0.0                 1   \n",
       "\n",
       "   campaign_name_입회비무료  campaign_name_입회비반액할인  class_name_야간  class_name_종일  \\\n",
       "0                    0                      1              0              1   \n",
       "1                    0                      0              0              1   \n",
       "\n",
       "   class_name_주간  gender_F  gender_M  \n",
       "0              0         0         1  \n",
       "1              0         0         1  "
      ]
     },
     "execution_count": 77,
     "metadata": {},
     "output_type": "execute_result"
    }
   ],
   "source": [
    "predict_data.head(2)"
   ]
  },
  {
   "cell_type": "code",
   "execution_count": 78,
   "metadata": {},
   "outputs": [],
   "source": [
    "del predict_data['gender_M']"
   ]
  },
  {
   "cell_type": "code",
   "execution_count": 79,
   "metadata": {},
   "outputs": [],
   "source": [
    "from sklearn.tree import DecisionTreeClassifier\n",
    "from sklearn.model_selection import train_test_split"
   ]
  },
  {
   "cell_type": "code",
   "execution_count": 83,
   "metadata": {},
   "outputs": [],
   "source": [
    "exit = predict_data.loc[predict_data['is_deleted']==1]\n",
    "conti = predict_data.loc[predict_data['is_deleted']==0].sample(len(exit))"
   ]
  },
  {
   "cell_type": "code",
   "execution_count": 84,
   "metadata": {},
   "outputs": [
    {
     "data": {
      "text/plain": [
       "(1052, 11)"
      ]
     },
     "execution_count": 84,
     "metadata": {},
     "output_type": "execute_result"
    }
   ],
   "source": [
    "exit.shape"
   ]
  },
  {
   "cell_type": "code",
   "execution_count": 85,
   "metadata": {},
   "outputs": [
    {
     "data": {
      "text/plain": [
       "(1052, 11)"
      ]
     },
     "execution_count": 85,
     "metadata": {},
     "output_type": "execute_result"
    }
   ],
   "source": [
    "conti.shape"
   ]
  },
  {
   "cell_type": "code",
   "execution_count": 86,
   "metadata": {},
   "outputs": [],
   "source": [
    "X = pd.concat([exit,conti],ignore_index=True)"
   ]
  },
  {
   "cell_type": "code",
   "execution_count": 87,
   "metadata": {},
   "outputs": [],
   "source": [
    "y= X['is_deleted']"
   ]
  },
  {
   "cell_type": "code",
   "execution_count": 88,
   "metadata": {},
   "outputs": [],
   "source": [
    "del X['is_deleted']"
   ]
  },
  {
   "cell_type": "code",
   "execution_count": 91,
   "metadata": {},
   "outputs": [],
   "source": [
    "X_train,X_test,y_train,y_test = train_test_split(X,y,test_size=0.25,random_state=0)"
   ]
  },
  {
   "cell_type": "code",
   "execution_count": 107,
   "metadata": {},
   "outputs": [],
   "source": [
    "model = DecisionTreeClassifier(random_state=0,max_depth=5)"
   ]
  },
  {
   "cell_type": "code",
   "execution_count": 108,
   "metadata": {},
   "outputs": [
    {
     "data": {
      "text/plain": [
       "DecisionTreeClassifier(max_depth=5, random_state=0)"
      ]
     },
     "execution_count": 108,
     "metadata": {},
     "output_type": "execute_result"
    }
   ],
   "source": [
    "model.fit(X_train,y_train)"
   ]
  },
  {
   "cell_type": "code",
   "execution_count": 109,
   "metadata": {},
   "outputs": [],
   "source": [
    "pred = model.predict(X_test)"
   ]
  },
  {
   "cell_type": "code",
   "execution_count": 110,
   "metadata": {},
   "outputs": [],
   "source": [
    "from sklearn.metrics import accuracy_score"
   ]
  },
  {
   "cell_type": "code",
   "execution_count": 111,
   "metadata": {},
   "outputs": [
    {
     "data": {
      "text/plain": [
       "0.8498098859315589"
      ]
     },
     "execution_count": 111,
     "metadata": {},
     "output_type": "execute_result"
    }
   ],
   "source": [
    "accuracy_score(y_test,pred)"
   ]
  },
  {
   "cell_type": "code",
   "execution_count": 112,
   "metadata": {},
   "outputs": [
    {
     "data": {
      "text/html": [
       "<div>\n",
       "<style scoped>\n",
       "    .dataframe tbody tr th:only-of-type {\n",
       "        vertical-align: middle;\n",
       "    }\n",
       "\n",
       "    .dataframe tbody tr th {\n",
       "        vertical-align: top;\n",
       "    }\n",
       "\n",
       "    .dataframe thead th {\n",
       "        text-align: right;\n",
       "    }\n",
       "</style>\n",
       "<table border=\"1\" class=\"dataframe\">\n",
       "  <thead>\n",
       "    <tr style=\"text-align: right;\">\n",
       "      <th></th>\n",
       "      <th>count_1</th>\n",
       "      <th>routine_flg</th>\n",
       "      <th>period</th>\n",
       "      <th>campaign_name_일반</th>\n",
       "      <th>campaign_name_입회비무료</th>\n",
       "      <th>campaign_name_입회비반액할인</th>\n",
       "      <th>class_name_야간</th>\n",
       "      <th>class_name_종일</th>\n",
       "      <th>class_name_주간</th>\n",
       "      <th>gender_F</th>\n",
       "    </tr>\n",
       "  </thead>\n",
       "  <tbody>\n",
       "    <tr>\n",
       "      <th>1091</th>\n",
       "      <td>3.0</td>\n",
       "      <td>1.0</td>\n",
       "      <td>7</td>\n",
       "      <td>1</td>\n",
       "      <td>0</td>\n",
       "      <td>0</td>\n",
       "      <td>0</td>\n",
       "      <td>1</td>\n",
       "      <td>0</td>\n",
       "      <td>0</td>\n",
       "    </tr>\n",
       "    <tr>\n",
       "      <th>1786</th>\n",
       "      <td>9.0</td>\n",
       "      <td>1.0</td>\n",
       "      <td>7</td>\n",
       "      <td>0</td>\n",
       "      <td>0</td>\n",
       "      <td>1</td>\n",
       "      <td>1</td>\n",
       "      <td>0</td>\n",
       "      <td>0</td>\n",
       "      <td>0</td>\n",
       "    </tr>\n",
       "    <tr>\n",
       "      <th>1439</th>\n",
       "      <td>6.0</td>\n",
       "      <td>1.0</td>\n",
       "      <td>7</td>\n",
       "      <td>1</td>\n",
       "      <td>0</td>\n",
       "      <td>0</td>\n",
       "      <td>1</td>\n",
       "      <td>0</td>\n",
       "      <td>0</td>\n",
       "      <td>0</td>\n",
       "    </tr>\n",
       "    <tr>\n",
       "      <th>745</th>\n",
       "      <td>5.0</td>\n",
       "      <td>0.0</td>\n",
       "      <td>7</td>\n",
       "      <td>0</td>\n",
       "      <td>1</td>\n",
       "      <td>0</td>\n",
       "      <td>0</td>\n",
       "      <td>1</td>\n",
       "      <td>0</td>\n",
       "      <td>1</td>\n",
       "    </tr>\n",
       "    <tr>\n",
       "      <th>820</th>\n",
       "      <td>6.0</td>\n",
       "      <td>1.0</td>\n",
       "      <td>7</td>\n",
       "      <td>1</td>\n",
       "      <td>0</td>\n",
       "      <td>0</td>\n",
       "      <td>1</td>\n",
       "      <td>0</td>\n",
       "      <td>0</td>\n",
       "      <td>0</td>\n",
       "    </tr>\n",
       "    <tr>\n",
       "      <th>...</th>\n",
       "      <td>...</td>\n",
       "      <td>...</td>\n",
       "      <td>...</td>\n",
       "      <td>...</td>\n",
       "      <td>...</td>\n",
       "      <td>...</td>\n",
       "      <td>...</td>\n",
       "      <td>...</td>\n",
       "      <td>...</td>\n",
       "      <td>...</td>\n",
       "    </tr>\n",
       "    <tr>\n",
       "      <th>1029</th>\n",
       "      <td>3.0</td>\n",
       "      <td>1.0</td>\n",
       "      <td>7</td>\n",
       "      <td>0</td>\n",
       "      <td>0</td>\n",
       "      <td>1</td>\n",
       "      <td>0</td>\n",
       "      <td>1</td>\n",
       "      <td>0</td>\n",
       "      <td>0</td>\n",
       "    </tr>\n",
       "    <tr>\n",
       "      <th>553</th>\n",
       "      <td>3.0</td>\n",
       "      <td>0.0</td>\n",
       "      <td>7</td>\n",
       "      <td>1</td>\n",
       "      <td>0</td>\n",
       "      <td>0</td>\n",
       "      <td>0</td>\n",
       "      <td>0</td>\n",
       "      <td>1</td>\n",
       "      <td>1</td>\n",
       "    </tr>\n",
       "    <tr>\n",
       "      <th>1570</th>\n",
       "      <td>5.0</td>\n",
       "      <td>1.0</td>\n",
       "      <td>7</td>\n",
       "      <td>0</td>\n",
       "      <td>0</td>\n",
       "      <td>1</td>\n",
       "      <td>0</td>\n",
       "      <td>1</td>\n",
       "      <td>0</td>\n",
       "      <td>0</td>\n",
       "    </tr>\n",
       "    <tr>\n",
       "      <th>82</th>\n",
       "      <td>3.0</td>\n",
       "      <td>0.0</td>\n",
       "      <td>7</td>\n",
       "      <td>0</td>\n",
       "      <td>0</td>\n",
       "      <td>1</td>\n",
       "      <td>0</td>\n",
       "      <td>1</td>\n",
       "      <td>0</td>\n",
       "      <td>0</td>\n",
       "    </tr>\n",
       "    <tr>\n",
       "      <th>536</th>\n",
       "      <td>3.0</td>\n",
       "      <td>0.0</td>\n",
       "      <td>7</td>\n",
       "      <td>1</td>\n",
       "      <td>0</td>\n",
       "      <td>0</td>\n",
       "      <td>0</td>\n",
       "      <td>0</td>\n",
       "      <td>1</td>\n",
       "      <td>1</td>\n",
       "    </tr>\n",
       "  </tbody>\n",
       "</table>\n",
       "<p>526 rows × 10 columns</p>\n",
       "</div>"
      ],
      "text/plain": [
       "      count_1  routine_flg  period  campaign_name_일반  campaign_name_입회비무료  \\\n",
       "1091      3.0          1.0       7                 1                    0   \n",
       "1786      9.0          1.0       7                 0                    0   \n",
       "1439      6.0          1.0       7                 1                    0   \n",
       "745       5.0          0.0       7                 0                    1   \n",
       "820       6.0          1.0       7                 1                    0   \n",
       "...       ...          ...     ...               ...                  ...   \n",
       "1029      3.0          1.0       7                 0                    0   \n",
       "553       3.0          0.0       7                 1                    0   \n",
       "1570      5.0          1.0       7                 0                    0   \n",
       "82        3.0          0.0       7                 0                    0   \n",
       "536       3.0          0.0       7                 1                    0   \n",
       "\n",
       "      campaign_name_입회비반액할인  class_name_야간  class_name_종일  class_name_주간  \\\n",
       "1091                      0              0              1              0   \n",
       "1786                      1              1              0              0   \n",
       "1439                      0              1              0              0   \n",
       "745                       0              0              1              0   \n",
       "820                       0              1              0              0   \n",
       "...                     ...            ...            ...            ...   \n",
       "1029                      1              0              1              0   \n",
       "553                       0              0              0              1   \n",
       "1570                      1              0              1              0   \n",
       "82                        1              0              1              0   \n",
       "536                       0              0              0              1   \n",
       "\n",
       "      gender_F  \n",
       "1091         0  \n",
       "1786         0  \n",
       "1439         0  \n",
       "745          1  \n",
       "820          0  \n",
       "...        ...  \n",
       "1029         0  \n",
       "553          1  \n",
       "1570         0  \n",
       "82           0  \n",
       "536          1  \n",
       "\n",
       "[526 rows x 10 columns]"
      ]
     },
     "execution_count": 112,
     "metadata": {},
     "output_type": "execute_result"
    }
   ],
   "source": [
    "X_test"
   ]
  },
  {
   "cell_type": "code",
   "execution_count": 113,
   "metadata": {},
   "outputs": [],
   "source": [
    "x_1=[[6,1,4,0,0,1,0,0,1,1]]"
   ]
  },
  {
   "cell_type": "code",
   "execution_count": 115,
   "metadata": {},
   "outputs": [
    {
     "data": {
      "text/plain": [
       "array([[0.67567568, 0.32432432]])"
      ]
     },
     "execution_count": 115,
     "metadata": {},
     "output_type": "execute_result"
    }
   ],
   "source": [
    "model.predict_proba(x_1)"
   ]
  },
  {
   "cell_type": "code",
   "execution_count": null,
   "metadata": {},
   "outputs": [],
   "source": []
  }
 ],
 "metadata": {
  "kernelspec": {
   "display_name": "Python 3",
   "language": "python",
   "name": "python3"
  },
  "language_info": {
   "codemirror_mode": {
    "name": "ipython",
    "version": 3
   },
   "file_extension": ".py",
   "mimetype": "text/x-python",
   "name": "python",
   "nbconvert_exporter": "python",
   "pygments_lexer": "ipython3",
   "version": "3.7.6"
  }
 },
 "nbformat": 4,
 "nbformat_minor": 4
}
