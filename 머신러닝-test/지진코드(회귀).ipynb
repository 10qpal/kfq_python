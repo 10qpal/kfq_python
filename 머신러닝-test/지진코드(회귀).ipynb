{
 "cells": [
  {
   "cell_type": "markdown",
   "metadata": {},
   "source": [
    "## 데이터 가공"
   ]
  },
  {
   "cell_type": "code",
   "execution_count": 1,
   "metadata": {},
   "outputs": [],
   "source": [
    "import numpy as np\n",
    "import pandas as pd\n",
    "from pandas import DataFrame as df\n",
    "import seaborn as sns\n",
    "import warnings\n",
    "warnings.filterwarnings('ignore')"
   ]
  },
  {
   "cell_type": "code",
   "execution_count": 2,
   "metadata": {},
   "outputs": [],
   "source": [
    "import matplotlib.pyplot as plt\n",
    "%matplotlib inline"
   ]
  },
  {
   "cell_type": "code",
   "execution_count": 3,
   "metadata": {},
   "outputs": [],
   "source": [
    "eq_df = pd.read_csv('kor_earthquake_new.csv')"
   ]
  },
  {
   "cell_type": "code",
   "execution_count": 4,
   "metadata": {},
   "outputs": [],
   "source": [
    "# # 북한데이터 제거\n",
    "# index_buk = eq_df[eq_df['Pos'].str.split(' ').str[0] == '북한'].index\n",
    "# eq_no_buk = eq_df.drop(index_buk)\n",
    "# eq_no_buk.reset_index(drop=True,inplace=True)\n",
    "# eq_df = eq_no_buk"
   ]
  },
  {
   "cell_type": "code",
   "execution_count": 5,
   "metadata": {},
   "outputs": [],
   "source": [
    "# # 진도 3 이상\n",
    "# index_3 = eq_df[eq_df['Magnitude'] < 3.0].index\n",
    "# eq_more_3 = eq_df.drop(index_3)\n",
    "# eq_more_3.reset_index(drop=True, inplace=True)\n",
    "# eq_df = eq_more_3"
   ]
  },
  {
   "cell_type": "code",
   "execution_count": 6,
   "metadata": {},
   "outputs": [],
   "source": [
    "# 북한데이터 제거, 진도 3 이상\n",
    "index_buk = eq_df[eq_df['Pos'].str.split(' ').str[0] == '북한'].index\n",
    "eq_no_buk = eq_df.drop(index_buk)\n",
    "index_3 = eq_no_buk[eq_no_buk['Magnitude'] < 3.0].index\n",
    "eq_no_buk_and_more_3 = eq_no_buk.drop(index_3)\n",
    "eq_no_buk_and_more_3.reset_index(drop=True, inplace=True)\n",
    "eq_df = eq_no_buk_and_more_3"
   ]
  },
  {
   "cell_type": "code",
   "execution_count": 7,
   "metadata": {},
   "outputs": [],
   "source": [
    "del eq_df['No']\n",
    "del eq_df['Pos']\n",
    "del eq_df['Date']"
   ]
  },
  {
   "cell_type": "code",
   "execution_count": 8,
   "metadata": {},
   "outputs": [
    {
     "data": {
      "text/html": [
       "<div>\n",
       "<style scoped>\n",
       "    .dataframe tbody tr th:only-of-type {\n",
       "        vertical-align: middle;\n",
       "    }\n",
       "\n",
       "    .dataframe tbody tr th {\n",
       "        vertical-align: top;\n",
       "    }\n",
       "\n",
       "    .dataframe thead th {\n",
       "        text-align: right;\n",
       "    }\n",
       "</style>\n",
       "<table border=\"1\" class=\"dataframe\">\n",
       "  <thead>\n",
       "    <tr style=\"text-align: right;\">\n",
       "      <th></th>\n",
       "      <th>Magnitude</th>\n",
       "      <th>Latitude</th>\n",
       "      <th>Longitude</th>\n",
       "    </tr>\n",
       "  </thead>\n",
       "  <tbody>\n",
       "    <tr>\n",
       "      <th>0</th>\n",
       "      <td>5.2</td>\n",
       "      <td>36.60</td>\n",
       "      <td>127.90</td>\n",
       "    </tr>\n",
       "    <tr>\n",
       "      <th>1</th>\n",
       "      <td>5.0</td>\n",
       "      <td>36.60</td>\n",
       "      <td>126.70</td>\n",
       "    </tr>\n",
       "    <tr>\n",
       "      <th>2</th>\n",
       "      <td>3.3</td>\n",
       "      <td>35.90</td>\n",
       "      <td>126.30</td>\n",
       "    </tr>\n",
       "    <tr>\n",
       "      <th>3</th>\n",
       "      <td>3.0</td>\n",
       "      <td>35.70</td>\n",
       "      <td>126.00</td>\n",
       "    </tr>\n",
       "    <tr>\n",
       "      <th>4</th>\n",
       "      <td>3.0</td>\n",
       "      <td>36.10</td>\n",
       "      <td>128.30</td>\n",
       "    </tr>\n",
       "    <tr>\n",
       "      <th>...</th>\n",
       "      <td>...</td>\n",
       "      <td>...</td>\n",
       "      <td>...</td>\n",
       "    </tr>\n",
       "    <tr>\n",
       "      <th>295</th>\n",
       "      <td>3.7</td>\n",
       "      <td>37.37</td>\n",
       "      <td>124.23</td>\n",
       "    </tr>\n",
       "    <tr>\n",
       "      <th>296</th>\n",
       "      <td>4.1</td>\n",
       "      <td>36.16</td>\n",
       "      <td>129.90</td>\n",
       "    </tr>\n",
       "    <tr>\n",
       "      <th>297</th>\n",
       "      <td>4.3</td>\n",
       "      <td>37.88</td>\n",
       "      <td>129.54</td>\n",
       "    </tr>\n",
       "    <tr>\n",
       "      <th>298</th>\n",
       "      <td>3.8</td>\n",
       "      <td>36.86</td>\n",
       "      <td>129.80</td>\n",
       "    </tr>\n",
       "    <tr>\n",
       "      <th>299</th>\n",
       "      <td>3.9</td>\n",
       "      <td>36.50</td>\n",
       "      <td>128.10</td>\n",
       "    </tr>\n",
       "  </tbody>\n",
       "</table>\n",
       "<p>300 rows × 3 columns</p>\n",
       "</div>"
      ],
      "text/plain": [
       "     Magnitude  Latitude  Longitude\n",
       "0          5.2     36.60     127.90\n",
       "1          5.0     36.60     126.70\n",
       "2          3.3     35.90     126.30\n",
       "3          3.0     35.70     126.00\n",
       "4          3.0     36.10     128.30\n",
       "..         ...       ...        ...\n",
       "295        3.7     37.37     124.23\n",
       "296        4.1     36.16     129.90\n",
       "297        4.3     37.88     129.54\n",
       "298        3.8     36.86     129.80\n",
       "299        3.9     36.50     128.10\n",
       "\n",
       "[300 rows x 3 columns]"
      ]
     },
     "execution_count": 8,
     "metadata": {},
     "output_type": "execute_result"
    }
   ],
   "source": [
    "eq_df"
   ]
  },
  {
   "cell_type": "markdown",
   "metadata": {},
   "source": [
    "## 선형 회귀"
   ]
  },
  {
   "cell_type": "code",
   "execution_count": 9,
   "metadata": {},
   "outputs": [],
   "source": [
    "from sklearn.model_selection import train_test_split\n",
    "from sklearn.linear_model import LinearRegression\n",
    "from sklearn.metrics import mean_squared_error, r2_score"
   ]
  },
  {
   "cell_type": "code",
   "execution_count": 10,
   "metadata": {},
   "outputs": [],
   "source": [
    "y_target = eq_df['Magnitude']\n",
    "X_features = eq_df.drop(['Magnitude'], axis=1, inplace=False)"
   ]
  },
  {
   "cell_type": "code",
   "execution_count": 11,
   "metadata": {},
   "outputs": [],
   "source": [
    "X_train, X_test, y_train, y_test = train_test_split(X_features, y_target, test_size = 0.2, random_state = 0)"
   ]
  },
  {
   "cell_type": "code",
   "execution_count": 12,
   "metadata": {},
   "outputs": [
    {
     "data": {
      "text/plain": [
       "LinearRegression()"
      ]
     },
     "execution_count": 12,
     "metadata": {},
     "output_type": "execute_result"
    }
   ],
   "source": [
    "lr = LinearRegression()\n",
    "lr.fit(X_train, y_train)"
   ]
  },
  {
   "cell_type": "code",
   "execution_count": 13,
   "metadata": {},
   "outputs": [],
   "source": [
    "y_preds = lr.predict(X_test)"
   ]
  },
  {
   "cell_type": "code",
   "execution_count": 14,
   "metadata": {},
   "outputs": [],
   "source": [
    "mse = mean_squared_error(y_test, y_preds)\n",
    "rmse = np.sqrt(mse)"
   ]
  },
  {
   "cell_type": "code",
   "execution_count": 15,
   "metadata": {},
   "outputs": [
    {
     "name": "stdout",
     "output_type": "stream",
     "text": [
      "MSE : 0.252, RMSE : 0.502\n",
      "Variance score : -0.017\n"
     ]
    }
   ],
   "source": [
    "print('MSE : {0:.3f}, RMSE : {1:.3F}'.format(mse, rmse))\n",
    "print('Variance score : {0:.3f}'.format(r2_score(y_test, y_preds)))"
   ]
  },
  {
   "cell_type": "code",
   "execution_count": 16,
   "metadata": {},
   "outputs": [
    {
     "name": "stdout",
     "output_type": "stream",
     "text": [
      "절편 값 :  3.7436600185379745\n",
      "회귀 계수값 :  [ 0. -0.]\n"
     ]
    }
   ],
   "source": [
    "print('절편 값 : ', lr.intercept_)\n",
    "print('회귀 계수값 : ', np.round(lr.coef_,1))"
   ]
  },
  {
   "cell_type": "code",
   "execution_count": 17,
   "metadata": {},
   "outputs": [
    {
     "data": {
      "text/plain": [
       "Longitude   -0.0\n",
       "Latitude     0.0\n",
       "dtype: float64"
      ]
     },
     "execution_count": 17,
     "metadata": {},
     "output_type": "execute_result"
    }
   ],
   "source": [
    "coeff = pd.Series(data=np.round(lr.coef_,1), index=X_features.columns)\n",
    "coeff.sort_values(ascending=False)"
   ]
  },
  {
   "cell_type": "code",
   "execution_count": 18,
   "metadata": {},
   "outputs": [
    {
     "name": "stdout",
     "output_type": "stream",
     "text": [
      "5 folds 의 개별 Negative MSE scores :  [-0.24 -0.26 -0.28 -0.23 -0.4 ]\n",
      "5 folds 의 개별 RMSE scores :  [0.49 0.51 0.53 0.48 0.63]\n",
      "5 folds 의 평균 RMSE : 0.528\n"
     ]
    }
   ],
   "source": [
    "from sklearn.model_selection import cross_val_score\n",
    "\n",
    "neg_mse_scores = cross_val_score(lr, X_features, y_target, scoring='neg_mean_squared_error', cv=5)\n",
    "rmse_scores = np.sqrt(-1 * neg_mse_scores)\n",
    "avg_rmse = np.mean(rmse_scores)\n",
    "\n",
    "print('5 folds 의 개별 Negative MSE scores : ', np.round(neg_mse_scores, 2))\n",
    "print('5 folds 의 개별 RMSE scores : ', np.round(rmse_scores, 2))\n",
    "print('5 folds 의 평균 RMSE : {0:.3f}'.format(avg_rmse))"
   ]
  },
  {
   "cell_type": "markdown",
   "metadata": {},
   "source": [
    "## 릿지 회귀"
   ]
  },
  {
   "cell_type": "code",
   "execution_count": 19,
   "metadata": {},
   "outputs": [
    {
     "name": "stdout",
     "output_type": "stream",
     "text": [
      "alpha 0.1일 때 5 folds의 평균 RMSE : 0.53\n",
      "alpha 1일 때 5 folds의 평균 RMSE : 0.53\n",
      "alpha 10일 때 5 folds의 평균 RMSE : 0.53\n",
      "alpha 100일 때 5 folds의 평균 RMSE : 0.53\n"
     ]
    }
   ],
   "source": [
    "from sklearn.linear_model import Ridge\n",
    "\n",
    "# 릿지에 사용될 alpha 파라미터 값 정의\n",
    "alphas = [0.1, 1, 10, 100]\n",
    "\n",
    "# alphas list 값을 반복하면서 alpha에 따른 평균 RMSE를 구함\n",
    "for alpha in alphas:\n",
    "    ridge = Ridge(alpha=alpha)\n",
    "    \n",
    "    neg_mse_scores = cross_val_score(ridge, X_features, y_target, scoring='neg_mean_squared_error', cv=5)\n",
    "    avg_rmse = np.mean(np.sqrt(-1*neg_mse_scores))\n",
    "    print(\"alpha {0}일 때 5 folds의 평균 RMSE : {1:.2f}\".format(alpha, avg_rmse))"
   ]
  },
  {
   "cell_type": "code",
   "execution_count": 20,
   "metadata": {},
   "outputs": [
    {
     "name": "stdout",
     "output_type": "stream",
     "text": [
      "5 folds의 개별 negative MSE scores :  [-0.24 -0.26 -0.28 -0.23 -0.4 ]\n",
      "5 folds의 개별 RMSE scores :  [0.49 0.51 0.53 0.48 0.63]\n",
      "5 folds의 평균 RMSE :  0.53\n"
     ]
    }
   ],
   "source": [
    "# alpha=10으로 설정해 릿지 회귀 수행\n",
    "ridge = Ridge(alpha=10)\n",
    "neg_mse_scores = cross_val_score(ridge, X_features, y_target, scoring='neg_mean_squared_error', cv=5)\n",
    "mse_scores = -1*neg_mse_scores\n",
    "rmse_scores = np.sqrt(mse_scores)\n",
    "avg_rmse = np.mean(rmse_scores)\n",
    "\n",
    "print(\"5 folds의 개별 negative MSE scores : \", np.round(neg_mse_scores, 2))\n",
    "print(\"5 folds의 개별 RMSE scores : \", np.round(rmse_scores, 2))\n",
    "print(\"5 folds의 평균 RMSE : \", np.round(avg_rmse, 2))"
   ]
  },
  {
   "cell_type": "markdown",
   "metadata": {},
   "source": [
    "## 라쏘 회귀"
   ]
  },
  {
   "cell_type": "code",
   "execution_count": 21,
   "metadata": {},
   "outputs": [
    {
     "name": "stdout",
     "output_type": "stream",
     "text": [
      "alpha 0.1일 때 5 folds의 평균 RMSE : 0.52\n",
      "alpha 1일 때 5 folds의 평균 RMSE : 0.52\n",
      "alpha 10일 때 5 folds의 평균 RMSE : 0.52\n",
      "alpha 100일 때 5 folds의 평균 RMSE : 0.52\n"
     ]
    }
   ],
   "source": [
    "from sklearn.linear_model import Lasso\n",
    "\n",
    "# 라쏘에 사용될 alpha 파라미터 값 정의\n",
    "alphas = [0.1, 1, 10, 100]\n",
    "\n",
    "# alphas list 값을 반복하면서 alpha에 따른 평균 RMSE를 구함\n",
    "for alpha in alphas:\n",
    "    lasso = Lasso(alpha=alpha)\n",
    "    \n",
    "    neg_mse_scores = cross_val_score(lasso, X_features, y_target, scoring='neg_mean_squared_error', cv=5)\n",
    "    avg_rmse = np.mean(np.sqrt(-1*neg_mse_scores))\n",
    "    print(\"alpha {0}일 때 5 folds의 평균 RMSE : {1:.2f}\".format(alpha, avg_rmse))"
   ]
  },
  {
   "cell_type": "code",
   "execution_count": 22,
   "metadata": {},
   "outputs": [
    {
     "name": "stdout",
     "output_type": "stream",
     "text": [
      "5 folds의 개별 negative MSE scores :  [-0.24 -0.26 -0.28 -0.23 -0.4 ]\n",
      "5 folds의 개별 RMSE scores :  [0.49 0.51 0.53 0.48 0.63]\n",
      "5 folds의 평균 RMSE :  0.53\n"
     ]
    }
   ],
   "source": [
    "# alpha=으로 설정해 라쏘 회귀 수행\n",
    "lasso = Lasso(alpha=0)\n",
    "neg_mse_scores = cross_val_score(lasso, X_features, y_target, scoring='neg_mean_squared_error', cv=5)\n",
    "mse_scores = -1*neg_mse_scores\n",
    "rmse_scores = np.sqrt(mse_scores)\n",
    "avg_rmse = np.mean(rmse_scores)\n",
    "\n",
    "print(\"5 folds의 개별 negative MSE scores : \", np.round(neg_mse_scores, 2))\n",
    "print(\"5 folds의 개별 RMSE scores : \", np.round(rmse_scores, 2))\n",
    "print(\"5 folds의 평균 RMSE : \", np.round(avg_rmse, 2))"
   ]
  },
  {
   "cell_type": "code",
   "execution_count": 23,
   "metadata": {},
   "outputs": [],
   "source": [
    "from sklearn.linear_model import Lasso, ElasticNet\n",
    "\n",
    "# alpha 값에 따른 회귀 모델의 평균 RMSE 출력, 회귀 계수 DataFrame으로 반환\n",
    "def get_linear_reg_eval(model_name, params=None, X_data_n=None, y_target_n=None, verbose=True):\n",
    "    coeff_df = pd.DataFrame()\n",
    "    if verbose:\n",
    "        print(\"=====\", model_name, \"=====\")\n",
    "    for param in params:\n",
    "        if model_name == 'Ridge':\n",
    "            model = Ridge(alpha=param)\n",
    "        elif model_name == 'Lasso':\n",
    "            model = Lasso(alpha=param)\n",
    "        elif model_name == 'ElasticNet':\n",
    "            model = ElasticNet(alpha=param, l1_ratio=0.7)   \n",
    "        neg_mse_scores = cross_val_score(model, X_data_n, y_target_n, scoring='neg_mean_squared_error', cv=5)\n",
    "        avg_rmse = np.mean(np.sqrt(-1*neg_mse_scores))\n",
    "        print(\"alpha {0}일 때 5 folds의 평균 RMSE : {1:.2f}\".format(param, avg_rmse))\n",
    "        # 회귀 계수 추출\n",
    "        model.fit(X_features, y_target)\n",
    "        # 회귀 계수 Series로 변환, 이를 DataFrame의 칼럼으로 추가\n",
    "        coeff = pd.Series(data=model.coef_, index=X_features.columns)\n",
    "        colname = 'alpha : ' + str(param)\n",
    "        coeff_df[colname] = coeff\n",
    "    return coeff_df"
   ]
  },
  {
   "cell_type": "markdown",
   "metadata": {},
   "source": [
    "# 선형 회귀 모델을 위한 데이터 변환"
   ]
  },
  {
   "cell_type": "code",
   "execution_count": 24,
   "metadata": {},
   "outputs": [],
   "source": [
    "from sklearn.preprocessing import StandardScaler, MinMaxScaler, PolynomialFeatures\n",
    "\n",
    "# method : 표준 정규분포 변환, 최댓값/최솟값 정규화, 로그 변환 결정\n",
    "# p_degree : 다항식 특성을 추가할 때 적용\n",
    "def get_scaled_data(method='None', p_degree=None, input_data=None):\n",
    "    if method == 'Standard':\n",
    "        scaled_data = StandardScaler().fit_transform(input_data)\n",
    "    elif method == 'MinMax':\n",
    "        scaled_data = MinMaxScaler().fit_transform(input_data)\n",
    "    elif method == 'Log':\n",
    "        scaled_data = np.log1p(input_data)\n",
    "    else:\n",
    "        scaled_data = input_data\n",
    "        \n",
    "    if p_degree != None:\n",
    "        scaled_data = PolynomialFeatures(degree=p_degree, include_bias=False).fit_transform(scaled_data)\n",
    "        \n",
    "    return scaled_data"
   ]
  },
  {
   "cell_type": "code",
   "execution_count": 25,
   "metadata": {},
   "outputs": [
    {
     "name": "stdout",
     "output_type": "stream",
     "text": [
      "변환 유형 : None, Polynomial Degree : None\n",
      "alpha 0.1일 때 5 folds의 평균 RMSE : 0.53\n",
      "alpha 1일 때 5 folds의 평균 RMSE : 0.53\n",
      "alpha 10일 때 5 folds의 평균 RMSE : 0.53\n",
      "alpha 100일 때 5 folds의 평균 RMSE : 0.53\n",
      "--------------------------------------------------\n",
      "변환 유형 : Standard, Polynomial Degree : None\n",
      "alpha 0.1일 때 5 folds의 평균 RMSE : 0.53\n",
      "alpha 1일 때 5 folds의 평균 RMSE : 0.53\n",
      "alpha 10일 때 5 folds의 평균 RMSE : 0.53\n",
      "alpha 100일 때 5 folds의 평균 RMSE : 0.53\n",
      "--------------------------------------------------\n",
      "변환 유형 : Standard, Polynomial Degree : 2\n",
      "alpha 0.1일 때 5 folds의 평균 RMSE : 0.51\n",
      "alpha 1일 때 5 folds의 평균 RMSE : 0.51\n",
      "alpha 10일 때 5 folds의 평균 RMSE : 0.51\n",
      "alpha 100일 때 5 folds의 평균 RMSE : 0.51\n",
      "--------------------------------------------------\n",
      "변환 유형 : MinMax, Polynomial Degree : None\n",
      "alpha 0.1일 때 5 folds의 평균 RMSE : 0.53\n",
      "alpha 1일 때 5 folds의 평균 RMSE : 0.53\n",
      "alpha 10일 때 5 folds의 평균 RMSE : 0.53\n",
      "alpha 100일 때 5 folds의 평균 RMSE : 0.52\n",
      "--------------------------------------------------\n",
      "변환 유형 : MinMax, Polynomial Degree : 2\n",
      "alpha 0.1일 때 5 folds의 평균 RMSE : 0.51\n",
      "alpha 1일 때 5 folds의 평균 RMSE : 0.52\n",
      "alpha 10일 때 5 folds의 평균 RMSE : 0.52\n",
      "alpha 100일 때 5 folds의 평균 RMSE : 0.52\n",
      "--------------------------------------------------\n",
      "변환 유형 : Log, Polynomial Degree : None\n",
      "alpha 0.1일 때 5 folds의 평균 RMSE : 0.53\n",
      "alpha 1일 때 5 folds의 평균 RMSE : 0.52\n",
      "alpha 10일 때 5 folds의 평균 RMSE : 0.52\n",
      "alpha 100일 때 5 folds의 평균 RMSE : 0.52\n",
      "--------------------------------------------------\n",
      "변환 유형 : Log, Polynomial Degree : 2\n",
      "alpha 0.1일 때 5 folds의 평균 RMSE : 0.53\n",
      "alpha 1일 때 5 folds의 평균 RMSE : 0.53\n",
      "alpha 10일 때 5 folds의 평균 RMSE : 0.53\n",
      "alpha 100일 때 5 folds의 평균 RMSE : 0.52\n",
      "--------------------------------------------------\n"
     ]
    }
   ],
   "source": [
    "# alpha 값을 다르게 적용\n",
    "alphas = [0.1, 1, 10, 100]\n",
    "# 원본 + 5개 방식으로 데이터 변환\n",
    "scale_methods = [(None, None), ('Standard', None), ('Standard', 2), ('MinMax', None), ('MinMax', 2), \\\n",
    "                 ('Log', None), ('Log', 2)]\n",
    "\n",
    "for scale_method in scale_methods:\n",
    "    X_data_scaled = get_scaled_data(method=scale_method[0], p_degree=scale_method[1], input_data=X_features)\n",
    "    print(\"변환 유형 : {0}, Polynomial Degree : {1}\".format(scale_method[0], scale_method[1]))\n",
    "    get_linear_reg_eval('Ridge', params=alphas, X_data_n=X_data_scaled, y_target_n=y_target, verbose=False)\n",
    "    print(\"--------------------------------------------------\")"
   ]
  },
  {
   "cell_type": "markdown",
   "metadata": {},
   "source": [
    "## SVM(Support Vector Machine)"
   ]
  },
  {
   "cell_type": "code",
   "execution_count": 26,
   "metadata": {},
   "outputs": [],
   "source": [
    "from sklearn import svm, metrics\n",
    "from sklearn.model_selection import train_test_split\n",
    "import matplotlib.pyplot as plt\n",
    "import pandas as pd"
   ]
  },
  {
   "cell_type": "code",
   "execution_count": 27,
   "metadata": {},
   "outputs": [],
   "source": [
    "y_target = eq_df['Magnitude']\n",
    "X_features = eq_df.drop(['Magnitude'], axis=1, inplace=False)"
   ]
  },
  {
   "cell_type": "code",
   "execution_count": 28,
   "metadata": {},
   "outputs": [],
   "source": [
    "X_train, X_test, y_train, y_test = train_test_split(X_features, y_target, test_size = 0.2, random_state = 0)"
   ]
  },
  {
   "cell_type": "code",
   "execution_count": 29,
   "metadata": {},
   "outputs": [],
   "source": [
    "# clf = svm.SVC()\n",
    "# clf.fit(X_train, y_trainc.astype(int))\n",
    "# pred = clf.predict(X_test)"
   ]
  },
  {
   "cell_type": "code",
   "execution_count": 30,
   "metadata": {},
   "outputs": [],
   "source": [
    "# accuracy = metrics.accuracy_score(y_test.round().astype(int), pred.round().astype(int))\n",
    "# report = metrics.classification_report(y_test, pred)\n",
    "# print(\"정확도 \", accuracy)\n",
    "# print(\"리포트 \\n\", report)"
   ]
  },
  {
   "cell_type": "markdown",
   "metadata": {},
   "source": [
    "## 로지스틱 회귀"
   ]
  },
  {
   "cell_type": "code",
   "execution_count": 31,
   "metadata": {},
   "outputs": [],
   "source": [
    "import pandas as pd\n",
    "import matplotlib.pyplot as plt\n",
    "%matplotlib inline\n",
    "import warnings\n",
    "warnings.filterwarnings('ignore')\n",
    "\n",
    "from sklearn.linear_model import LogisticRegression\n",
    "from sklearn.preprocessing import StandardScaler\n",
    "from sklearn.model_selection import train_test_split"
   ]
  },
  {
   "cell_type": "code",
   "execution_count": 32,
   "metadata": {},
   "outputs": [],
   "source": [
    "# 데이터 분포 변환\n",
    "scaler = StandardScaler()\n",
    "X_features_scaled = scaler.fit_transform(X_features)\n",
    "\n",
    "X_train, X_test, y_train, y_test = train_test_split(X_features_scaled, y_target, test_size=0.2, random_state=0)"
   ]
  },
  {
   "cell_type": "code",
   "execution_count": 33,
   "metadata": {},
   "outputs": [],
   "source": [
    "# from sklearn.metrics import accuracy_score, roc_auc_score\n",
    "\n",
    "# # 로지스틱 회귀를 이용해 학습 및 예측 수행\n",
    "# lr_clf = LogisticRegression()\n",
    "# lr_clf.fit(X_train, y_train.round().astype(int))\n",
    "# lr_pred = lr_clf.predict(X_test).round().astype(int)\n",
    "\n",
    "# # 정확도, roc_auc 측정\n",
    "# print(\"정확도 : \", accuracy_score(y_test, lr_pred))\n",
    "# print(\"roc_auc : \", roc_auc_score(y_test, lr_pred))"
   ]
  },
  {
   "cell_type": "markdown",
   "metadata": {},
   "source": [
    "## 회귀 트리"
   ]
  },
  {
   "cell_type": "code",
   "execution_count": 34,
   "metadata": {},
   "outputs": [
    {
     "name": "stdout",
     "output_type": "stream",
     "text": [
      "5 folds의 개별 negative MSE scores :  [-0.24 -0.26 -0.28 -0.23 -0.4 ]\n",
      "5 folds의 개별 RMSE scores :  [0.49 0.51 0.53 0.48 0.63]\n",
      "5 folds의 평균 RMSE :  0.53\n"
     ]
    }
   ],
   "source": [
    "from sklearn.model_selection import cross_val_score\n",
    "from sklearn.ensemble import RandomForestRegressor\n",
    "import pandas as pd\n",
    "import numpy as np\n",
    "\n",
    "rf = RandomForestRegressor(n_estimators=1000, random_state=0)\n",
    "neg_mse_scores = cross_val_score(lasso, X_features, y_target, scoring='neg_mean_squared_error', cv=5)\n",
    "rmse_scores = np.sqrt(-1*neg_mse_scores)\n",
    "avg_rmse = np.mean(rmse_scores)\n",
    "\n",
    "print(\"5 folds의 개별 negative MSE scores : \", np.round(neg_mse_scores, 2))\n",
    "print(\"5 folds의 개별 RMSE scores : \", np.round(rmse_scores, 2))\n",
    "print(\"5 folds의 평균 RMSE : \", np.round(avg_rmse, 2))"
   ]
  },
  {
   "cell_type": "code",
   "execution_count": 36,
   "metadata": {},
   "outputs": [],
   "source": [
    "import numpy as np\n",
    "from sklearn.linear_model import LinearRegression\n",
    "from sklearn.tree import DecisionTreeRegressor\n",
    "\n",
    "# 선형 회귀와 결정 트리 기반의 Regressor 생성\n",
    "lr_reg = LinearRegression()\n",
    "dt_reg2 = DecisionTreeRegressor(max_depth=2)\n",
    "dt_reg7 = DecisionTreeRegressor(max_depth=7)"
   ]
  },
  {
   "cell_type": "code",
   "execution_count": 48,
   "metadata": {},
   "outputs": [],
   "source": [
    "# X_feature_lati = eq_df['Latitude'].values.reshape(-1, 1)\n",
    "# X_feature_longi = eq_df['Longitude'].values.reshape(-1, 1)\n",
    "# y_target = eq_df['Magnitude'].values.reshape(-1, 1)\n",
    "\n",
    "lr_reg.fit(X_features, y_target)\n",
    "dt_reg2.fit(X_features, y_target)\n",
    "dt_reg7.fit(X_features, y_target)\n",
    "\n",
    "pred_lr = lr_reg.predict(X_test)\n",
    "pred_dt2 = dt_reg2.predict(X_test)\n",
    "pred_dt7 = dt_reg7.predict(X_test)"
   ]
  },
  {
   "cell_type": "code",
   "execution_count": 78,
   "metadata": {
    "collapsed": true,
    "jupyter": {
     "outputs_hidden": true
    }
   },
   "outputs": [
    {
     "data": {
      "text/plain": [
       "[<matplotlib.lines.Line2D at 0x27d23502cc8>,\n",
       " <matplotlib.lines.Line2D at 0x27d22dd1988>]"
      ]
     },
     "execution_count": 78,
     "metadata": {},
     "output_type": "execute_result"
    },
    {
     "data": {
      "image/png": "[encoded data removed]",
      "text/plain": [
       "<Figure size 1008x288 with 3 Axes>"
      ]
     },
     "metadata": {
      "needs_background": "light"
     },
     "output_type": "display_data"
    }
   ],
   "source": [
    "# fig, (ax1, ax2, ax3) = plt.subplots(figsize=(14, 4), ncols=3)\n",
    "\n",
    "# # 시각화\n",
    "# ax1.set_title('Linear Regression')\n",
    "# ax1.scatter(X_features['Longitude'], y_target, c='darkorange')\n",
    "# ax1.plot(X_test, pred_lr, label='linear', linewidth=2)\n",
    "# ax2.set_title('Decision Tree Regression :\\n max_depth=2')\n",
    "# ax2.scatter(X_features['Longitude'], y_target, c='darkorange')\n",
    "# ax2.plot(X_test, pred_dt2, label='max_depth=2', linewidth=2)\n",
    "# ax3.set_title('Decision Tree Regression :\\n max_depth=7')\n",
    "# ax3.scatter(X_features['Longitude'], y_target, c='darkorange')\n",
    "# ax3.plot(X_test, pred_dt7, label='max_depth=7', linewidth=2)"
   ]
  },
  {
   "cell_type": "code",
   "execution_count": 80,
   "metadata": {},
   "outputs": [
    {
     "data": {
      "text/plain": [
       "<matplotlib.collections.PathCollection at 0x27d233a8788>"
      ]
     },
     "execution_count": 80,
     "metadata": {},
     "output_type": "execute_result"
    },
    {
     "data": {
      "image/png": "[encoded data removed]",
      "text/plain": [
       "<Figure size 1008x288 with 2 Axes>"
      ]
     },
     "metadata": {
      "needs_background": "light"
     },
     "output_type": "display_data"
    }
   ],
   "source": [
    "fig, (ax1, ax2) = plt.subplots(figsize=(14, 4), ncols=2)\n",
    "\n",
    "# lati_start = 30\n",
    "# lati_end = 40\n",
    "# longi_start = 125\n",
    "# longi_end = 135\n",
    "\n",
    "# 시각화\n",
    "ax1.set_title('Longitude')\n",
    "ax1.scatter(X_features['Longitude'], y_target, c='darkorange')\n",
    "# ax1.plot(X_test, pred_lr, label='linear', linewidth=2)\n",
    "ax2.set_title('Latitude')\n",
    "ax2.scatter(X_features['Latitude'], y_target, c='darkorange')\n",
    "# ax2.plot(X_test, pred_dt2, label='max_depth=2', linewidth=2)"
   ]
  },
  {
   "cell_type": "code",
   "execution_count": null,
   "metadata": {},
   "outputs": [],
   "source": []
  }
 ],
 "metadata": {
  "kernelspec": {
   "display_name": "Python 3",
   "language": "python",
   "name": "python3"
  },
  "language_info": {
   "codemirror_mode": {
    "name": "ipython",
    "version": 3
   },
   "file_extension": ".py",
   "mimetype": "text/x-python",
   "name": "python",
   "nbconvert_exporter": "python",
   "pygments_lexer": "ipython3",
   "version": "3.7.6"
  }
 },
 "nbformat": 4,
 "nbformat_minor": 4
}
